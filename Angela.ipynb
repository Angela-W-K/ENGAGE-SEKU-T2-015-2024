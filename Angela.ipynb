{
 "cells": [
  {
   "cell_type": "code",
   "execution_count": 1,
   "id": "1d6bfe8d-6f5a-4021-8ca9-badfa3337e51",
   "metadata": {},
   "outputs": [
    {
     "name": "stdout",
     "output_type": "stream",
     "text": [
      "angela\n"
     ]
    }
   ],
   "source": [
    "print(\"angela\")"
   ]
  },
  {
   "cell_type": "code",
   "execution_count": 2,
   "id": "67dbe37b-af90-40d3-9e1c-ff53f9908a48",
   "metadata": {},
   "outputs": [
    {
     "name": "stdout",
     "output_type": "stream",
     "text": [
      "wanjira\n"
     ]
    }
   ],
   "source": [
    "print(\"wanjira\")"
   ]
  },
  {
   "cell_type": "code",
   "execution_count": 3,
   "id": "d7b4a2f2-11ca-45f5-a029-9ec31ec2fb50",
   "metadata": {},
   "outputs": [
    {
     "name": "stdout",
     "output_type": "stream",
     "text": [
      "Kariuki\n"
     ]
    }
   ],
   "source": [
    "print(\"Kariuki\")"
   ]
  },
  {
   "cell_type": "code",
   "execution_count": 4,
   "id": "9c20172a-80c7-47b0-87a8-13731b545cc5",
   "metadata": {},
   "outputs": [
    {
     "name": "stdout",
     "output_type": "stream",
     "text": [
      "22\n"
     ]
    }
   ],
   "source": [
    "age=22\n",
    "print(age)"
   ]
  },
  {
   "cell_type": "code",
   "execution_count": 5,
   "id": "bbe02f72-6b14-4ab6-89da-e52245a02baf",
   "metadata": {},
   "outputs": [
    {
     "name": "stdout",
     "output_type": "stream",
     "text": [
      "Angela Kariuki\n"
     ]
    }
   ],
   "source": [
    "name=\"Angela Kariuki\"\n",
    "print (name)"
   ]
  },
  {
   "cell_type": "code",
   "execution_count": null,
   "id": "249c6e7f-a8fb-4b0b-aa4b-457b7dde4d42",
   "metadata": {},
   "outputs": [],
   "source": [
    "L=int(input(\"enter the L\"))\n",
    "W=int(input(\"enter the W\"))      \n",
    "area=L*W\n",
    "perimeter=2*(L+W)\n",
    "print('area is:',area)\n",
    "print('perimeter is:',perimeter)"
   ]
  },
  {
   "cell_type": "code",
   "execution_count": 14,
   "id": "edeb7f47-1471-4ac3-ad49-aef0796c1092",
   "metadata": {},
   "outputs": [
    {
     "name": "stdin",
     "output_type": "stream",
     "text": [
      "Enter Year of birth 2008\n"
     ]
    },
    {
     "name": "stdout",
     "output_type": "stream",
     "text": [
      "Your age is: 16\n",
      "you are a child\n"
     ]
    }
   ],
   "source": [
    "YOB=int(input(\"Enter Year of birth\"))\n",
    "current=2024\n",
    "age=current-YOB\n",
    "print(\"Your age is:\",age)\n",
    "if age>18:\n",
    "      print(\"you are an adult\")\n",
    "else:\n",
    "      print(\"you are a child\")"
   ]
  },
  {
   "cell_type": "code",
   "execution_count": 12,
   "id": "693c4ed8-9231-447a-baff-0c2ce6dd986b",
   "metadata": {},
   "outputs": [
    {
     "name": "stdout",
     "output_type": "stream",
     "text": [
      "x is not positive\n"
     ]
    }
   ],
   "source": [
    "x= -5\n",
    "if x >0:\n",
    "     print(\"x is positive\")\n",
    "else:\n",
    "     print(\"x is not positive\")"
   ]
  },
  {
   "cell_type": "code",
   "execution_count": 2,
   "id": "e3d80e84-2848-479a-9de5-d76394865f50",
   "metadata": {},
   "outputs": [
    {
     "name": "stdout",
     "output_type": "stream",
     "text": [
      "0\n",
      "1\n",
      "2\n",
      "3\n",
      "4\n",
      "5\n",
      "6\n",
      "7\n",
      "8\n",
      "9\n"
     ]
    }
   ],
   "source": [
    "i=0\n",
    "while i<10:\n",
    "    print(i)\n",
    "    i+=1\n",
    "    "
   ]
  },
  {
   "cell_type": "markdown",
   "id": "e9adf372-cb43-4ad4-8cdf-b5b4389fae55",
   "metadata": {},
   "source": [
    "# sum=0\n",
    "i=1\n",
    "while i<10:\n",
    "    num=int(input(\"enter a number\"))\n",
    "    sum+=num\n",
    "    i+=5\n",
    "    print(sum)"
   ]
  },
  {
   "cell_type": "code",
   "execution_count": 6,
   "id": "ff36c197-f18b-4ea6-b302-d9a8a5278fa7",
   "metadata": {},
   "outputs": [
    {
     "data": {
      "text/html": [
       "<div>\n",
       "<style scoped>\n",
       "    .dataframe tbody tr th:only-of-type {\n",
       "        vertical-align: middle;\n",
       "    }\n",
       "\n",
       "    .dataframe tbody tr th {\n",
       "        vertical-align: top;\n",
       "    }\n",
       "\n",
       "    .dataframe thead th {\n",
       "        text-align: right;\n",
       "    }\n",
       "</style>\n",
       "<table border=\"1\" class=\"dataframe\">\n",
       "  <thead>\n",
       "    <tr style=\"text-align: right;\">\n",
       "      <th></th>\n",
       "      <th>Child participated in POLIO campaign August 2013</th>\n",
       "      <th>diarrhea_status</th>\n",
       "      <th>weight</th>\n",
       "      <th>height</th>\n",
       "      <th>residence</th>\n",
       "      <th>Sex</th>\n",
       "      <th>age</th>\n",
       "      <th>age_category</th>\n",
       "      <th>education</th>\n",
       "      <th>wealth_index</th>\n",
       "    </tr>\n",
       "  </thead>\n",
       "  <tbody>\n",
       "    <tr>\n",
       "      <th>0</th>\n",
       "      <td>1</td>\n",
       "      <td>No</td>\n",
       "      <td>16.2</td>\n",
       "      <td>102.4</td>\n",
       "      <td>Rural</td>\n",
       "      <td>Female</td>\n",
       "      <td>45</td>\n",
       "      <td>36-47</td>\n",
       "      <td>Secondary+</td>\n",
       "      <td>Richest</td>\n",
       "    </tr>\n",
       "    <tr>\n",
       "      <th>1</th>\n",
       "      <td>1</td>\n",
       "      <td>No</td>\n",
       "      <td>13.5</td>\n",
       "      <td>92.5</td>\n",
       "      <td>Rural</td>\n",
       "      <td>Male</td>\n",
       "      <td>45</td>\n",
       "      <td>36-47</td>\n",
       "      <td>Primary</td>\n",
       "      <td>Second</td>\n",
       "    </tr>\n",
       "    <tr>\n",
       "      <th>2</th>\n",
       "      <td>1</td>\n",
       "      <td>No</td>\n",
       "      <td>13.4</td>\n",
       "      <td>88.5</td>\n",
       "      <td>Rural</td>\n",
       "      <td>Male</td>\n",
       "      <td>36</td>\n",
       "      <td>36-47</td>\n",
       "      <td>Primary</td>\n",
       "      <td>Fourth</td>\n",
       "    </tr>\n",
       "    <tr>\n",
       "      <th>3</th>\n",
       "      <td>1</td>\n",
       "      <td>No</td>\n",
       "      <td>15.0</td>\n",
       "      <td>101.3</td>\n",
       "      <td>Rural</td>\n",
       "      <td>Female</td>\n",
       "      <td>51</td>\n",
       "      <td>48-59</td>\n",
       "      <td>Primary</td>\n",
       "      <td>Fourth</td>\n",
       "    </tr>\n",
       "    <tr>\n",
       "      <th>4</th>\n",
       "      <td>1</td>\n",
       "      <td>No</td>\n",
       "      <td>15.2</td>\n",
       "      <td>105.0</td>\n",
       "      <td>Rural</td>\n",
       "      <td>Female</td>\n",
       "      <td>56</td>\n",
       "      <td>48-59</td>\n",
       "      <td>Primary</td>\n",
       "      <td>Fourth</td>\n",
       "    </tr>\n",
       "  </tbody>\n",
       "</table>\n",
       "</div>"
      ],
      "text/plain": [
       "   Child participated in POLIO campaign August 2013  diarrhea_status  weight  \\\n",
       "0                                                 1               No    16.2   \n",
       "1                                                 1               No    13.5   \n",
       "2                                                 1               No    13.4   \n",
       "3                                                 1               No    15.0   \n",
       "4                                                 1               No    15.2   \n",
       "\n",
       "   height residence     Sex  age age_category   education wealth_index  \n",
       "0   102.4     Rural  Female   45        36-47  Secondary+      Richest  \n",
       "1    92.5     Rural    Male   45        36-47     Primary       Second  \n",
       "2    88.5     Rural    Male   36        36-47     Primary       Fourth  \n",
       "3   101.3     Rural  Female   51        48-59     Primary       Fourth  \n",
       "4   105.0     Rural  Female   56        48-59     Primary       Fourth  "
      ]
     },
     "execution_count": 6,
     "metadata": {},
     "output_type": "execute_result"
    }
   ],
   "source": [
    "import pandas as pd\n",
    "df=pd.read_csv(\"childhealthdata.csv\")\n",
    "df.head()"
   ]
  },
  {
   "cell_type": "code",
   "execution_count": 3,
   "id": "148d1e19-81c4-42ec-89b0-921fbdd17f86",
   "metadata": {},
   "outputs": [
    {
     "data": {
      "text/html": [
       "<div>\n",
       "<style scoped>\n",
       "    .dataframe tbody tr th:only-of-type {\n",
       "        vertical-align: middle;\n",
       "    }\n",
       "\n",
       "    .dataframe tbody tr th {\n",
       "        vertical-align: top;\n",
       "    }\n",
       "\n",
       "    .dataframe thead th {\n",
       "        text-align: right;\n",
       "    }\n",
       "</style>\n",
       "<table border=\"1\" class=\"dataframe\">\n",
       "  <thead>\n",
       "    <tr style=\"text-align: right;\">\n",
       "      <th></th>\n",
       "      <th>Child participated in POLIO campaign August 2013</th>\n",
       "      <th>weight</th>\n",
       "      <th>height</th>\n",
       "      <th>age</th>\n",
       "    </tr>\n",
       "  </thead>\n",
       "  <tbody>\n",
       "    <tr>\n",
       "      <th>count</th>\n",
       "      <td>799.000000</td>\n",
       "      <td>799.000000</td>\n",
       "      <td>799.000000</td>\n",
       "      <td>799.000000</td>\n",
       "    </tr>\n",
       "    <tr>\n",
       "      <th>mean</th>\n",
       "      <td>1.234043</td>\n",
       "      <td>11.591114</td>\n",
       "      <td>83.858573</td>\n",
       "      <td>29.314143</td>\n",
       "    </tr>\n",
       "    <tr>\n",
       "      <th>std</th>\n",
       "      <td>0.850500</td>\n",
       "      <td>3.408729</td>\n",
       "      <td>13.795704</td>\n",
       "      <td>16.839659</td>\n",
       "    </tr>\n",
       "    <tr>\n",
       "      <th>min</th>\n",
       "      <td>1.000000</td>\n",
       "      <td>3.100000</td>\n",
       "      <td>45.000000</td>\n",
       "      <td>0.000000</td>\n",
       "    </tr>\n",
       "    <tr>\n",
       "      <th>25%</th>\n",
       "      <td>1.000000</td>\n",
       "      <td>9.200000</td>\n",
       "      <td>74.000000</td>\n",
       "      <td>15.000000</td>\n",
       "    </tr>\n",
       "    <tr>\n",
       "      <th>50%</th>\n",
       "      <td>1.000000</td>\n",
       "      <td>11.700000</td>\n",
       "      <td>84.900000</td>\n",
       "      <td>31.000000</td>\n",
       "    </tr>\n",
       "    <tr>\n",
       "      <th>75%</th>\n",
       "      <td>1.000000</td>\n",
       "      <td>14.100000</td>\n",
       "      <td>93.850000</td>\n",
       "      <td>43.000000</td>\n",
       "    </tr>\n",
       "    <tr>\n",
       "      <th>max</th>\n",
       "      <td>9.000000</td>\n",
       "      <td>25.000000</td>\n",
       "      <td>124.800000</td>\n",
       "      <td>59.000000</td>\n",
       "    </tr>\n",
       "  </tbody>\n",
       "</table>\n",
       "</div>"
      ],
      "text/plain": [
       "       Child participated in POLIO campaign August 2013      weight  \\\n",
       "count                                        799.000000  799.000000   \n",
       "mean                                           1.234043   11.591114   \n",
       "std                                            0.850500    3.408729   \n",
       "min                                            1.000000    3.100000   \n",
       "25%                                            1.000000    9.200000   \n",
       "50%                                            1.000000   11.700000   \n",
       "75%                                            1.000000   14.100000   \n",
       "max                                            9.000000   25.000000   \n",
       "\n",
       "           height         age  \n",
       "count  799.000000  799.000000  \n",
       "mean    83.858573   29.314143  \n",
       "std     13.795704   16.839659  \n",
       "min     45.000000    0.000000  \n",
       "25%     74.000000   15.000000  \n",
       "50%     84.900000   31.000000  \n",
       "75%     93.850000   43.000000  \n",
       "max    124.800000   59.000000  "
      ]
     },
     "execution_count": 3,
     "metadata": {},
     "output_type": "execute_result"
    }
   ],
   "source": [
    "df.describe()"
   ]
  },
  {
   "cell_type": "code",
   "execution_count": 11,
   "id": "d081feb8-18a1-44fd-970f-eb2451f4dd3b",
   "metadata": {},
   "outputs": [
    {
     "name": "stdout",
     "output_type": "stream",
     "text": [
      "<class 'pandas.core.frame.DataFrame'>\n",
      "RangeIndex: 799 entries, 0 to 798\n",
      "Data columns (total 10 columns):\n",
      " #   Column                                            Non-Null Count  Dtype  \n",
      "---  ------                                            --------------  -----  \n",
      " 0   Child participated in POLIO campaign August 2013  799 non-null    int64  \n",
      " 1    diarrhea_status                                  799 non-null    object \n",
      " 2   weight                                            799 non-null    float64\n",
      " 3   height                                            799 non-null    float64\n",
      " 4   residence                                         799 non-null    object \n",
      " 5   Sex                                               799 non-null    object \n",
      " 6   age                                               799 non-null    int64  \n",
      " 7   age_category                                      799 non-null    object \n",
      " 8   education                                         768 non-null    object \n",
      " 9   wealth_index                                      799 non-null    object \n",
      "dtypes: float64(2), int64(2), object(6)\n",
      "memory usage: 62.6+ KB\n"
     ]
    }
   ],
   "source": [
    "df.info()"
   ]
  },
  {
   "cell_type": "code",
   "execution_count": 10,
   "id": "da622e84-cc6a-4265-bf84-b34330e2fb39",
   "metadata": {},
   "outputs": [
    {
     "name": "stdout",
     "output_type": "stream",
     "text": [
      "['Secondary+' 'Primary' nan]\n"
     ]
    }
   ],
   "source": [
    "print(df['education'].unique())"
   ]
  },
  {
   "cell_type": "code",
   "execution_count": 9,
   "id": "577223e7-55ac-4018-b02e-55bc924a187f",
   "metadata": {},
   "outputs": [
    {
     "name": "stdout",
     "output_type": "stream",
     "text": [
      "['Rural' 'Urban']\n"
     ]
    }
   ],
   "source": [
    "print(df['residence'].unique())"
   ]
  },
  {
   "cell_type": "code",
   "execution_count": 8,
   "id": "b3d35151-cdd7-4cd7-8bda-053d833b5369",
   "metadata": {},
   "outputs": [
    {
     "name": "stdout",
     "output_type": "stream",
     "text": [
      "education\n",
      "Primary       476\n",
      "Secondary+    292\n",
      "Name: count, dtype: int64\n"
     ]
    }
   ],
   "source": [
    "print(df['education'].value_counts())"
   ]
  },
  {
   "cell_type": "code",
   "execution_count": 6,
   "id": "fc8a071a-d3bf-4501-bf3a-9d6768690966",
   "metadata": {},
   "outputs": [
    {
     "name": "stdout",
     "output_type": "stream",
     "text": [
      "wealth_index\n",
      "Poorest    197\n",
      "Fourth     156\n",
      "Second     154\n",
      "Richest    152\n",
      "Middle     140\n",
      "Name: count, dtype: int64\n"
     ]
    }
   ],
   "source": [
    "print(df['wealth_index'].value_counts())"
   ]
  },
  {
   "cell_type": "code",
   "execution_count": 15,
   "id": "3797c492-532a-4e51-a50c-052ab82397cd",
   "metadata": {},
   "outputs": [
    {
     "name": "stdout",
     "output_type": "stream",
     "text": [
      "   Child participated in POLIO campaign August 2013  diarrhea_status  weight  \\\n",
      "0                                                 1               No    16.2   \n",
      "1                                                 1               No    13.5   \n",
      "2                                                 1               No    13.4   \n",
      "3                                                 1               No    15.0   \n",
      "4                                                 1               No    15.2   \n",
      "\n",
      "   height residence     Sex  age age_category   education wealth_index  \n",
      "0   102.4     Rural  Female   45        36-47  Secondary+      Richest  \n",
      "1    92.5     Rural    Male   45        36-47     Primary       Second  \n",
      "2    88.5     Rural    Male   36        36-47     Primary       Fourth  \n",
      "3   101.3     Rural  Female   51        48-59     Primary       Fourth  \n",
      "4   105.0     Rural  Female   56        48-59     Primary       Fourth  \n"
     ]
    }
   ],
   "source": [
    "print(df.head(5))"
   ]
  },
  {
   "cell_type": "code",
   "execution_count": 16,
   "id": "805ef4de-8795-415d-b6b9-da689af6ae36",
   "metadata": {},
   "outputs": [
    {
     "name": "stdout",
     "output_type": "stream",
     "text": [
      "     Child participated in POLIO campaign August 2013  diarrhea_status  \\\n",
      "794                                                 1               No   \n",
      "795                                                 2               No   \n",
      "796                                                 1               No   \n",
      "797                                                 1               No   \n",
      "798                                                 1               No   \n",
      "\n",
      "     weight  height residence     Sex  age age_category   education  \\\n",
      "794     8.3    67.0     Urban  Female    7         6-11     Primary   \n",
      "795     3.5    45.0     Urban    Male    0          0-5  Secondary+   \n",
      "796    15.1    86.0     Urban  Female   56        48-59     Primary   \n",
      "797    10.7    71.2     Urban  Female   18        12-23     Primary   \n",
      "798    10.3    73.0     Urban  Female    7         6-11     Primary   \n",
      "\n",
      "    wealth_index  \n",
      "794       Fourth  \n",
      "795       Fourth  \n",
      "796       Fourth  \n",
      "797       Fourth  \n",
      "798       Middle  \n"
     ]
    }
   ],
   "source": [
    "print(df.tail(5))"
   ]
  },
  {
   "cell_type": "code",
   "execution_count": 17,
   "id": "b16aa07b-c9d2-4932-b997-9ff2c9b16259",
   "metadata": {},
   "outputs": [
    {
     "name": "stdout",
     "output_type": "stream",
     "text": [
      "summary statistics:\n",
      "       Child participated in POLIO campaign August 2013      weight  \\\n",
      "count                                        799.000000  799.000000   \n",
      "mean                                           1.234043   11.591114   \n",
      "std                                            0.850500    3.408729   \n",
      "min                                            1.000000    3.100000   \n",
      "25%                                            1.000000    9.200000   \n",
      "50%                                            1.000000   11.700000   \n",
      "75%                                            1.000000   14.100000   \n",
      "max                                            9.000000   25.000000   \n",
      "\n",
      "           height         age  \n",
      "count  799.000000  799.000000  \n",
      "mean    83.858573   29.314143  \n",
      "std     13.795704   16.839659  \n",
      "min     45.000000    0.000000  \n",
      "25%     74.000000   15.000000  \n",
      "50%     84.900000   31.000000  \n",
      "75%     93.850000   43.000000  \n",
      "max    124.800000   59.000000  \n"
     ]
    }
   ],
   "source": [
    "print(\"summary statistics:\")\n",
    "print(df.describe())"
   ]
  },
  {
   "cell_type": "code",
   "execution_count": 3,
   "id": "87a1700e-7522-4dfe-b10b-9c4be5a47ecd",
   "metadata": {},
   "outputs": [
    {
     "data": {
      "text/html": [
       "<div>\n",
       "<style scoped>\n",
       "    .dataframe tbody tr th:only-of-type {\n",
       "        vertical-align: middle;\n",
       "    }\n",
       "\n",
       "    .dataframe tbody tr th {\n",
       "        vertical-align: top;\n",
       "    }\n",
       "\n",
       "    .dataframe thead th {\n",
       "        text-align: right;\n",
       "    }\n",
       "</style>\n",
       "<table border=\"1\" class=\"dataframe\">\n",
       "  <thead>\n",
       "    <tr style=\"text-align: right;\">\n",
       "      <th></th>\n",
       "      <th>Child participated in POLIO campaign August 2013</th>\n",
       "      <th>diarrhea_status</th>\n",
       "      <th>weight</th>\n",
       "      <th>height</th>\n",
       "      <th>residence</th>\n",
       "      <th>Sex</th>\n",
       "      <th>age</th>\n",
       "      <th>age_category</th>\n",
       "      <th>education</th>\n",
       "      <th>wealth_index</th>\n",
       "    </tr>\n",
       "  </thead>\n",
       "  <tbody>\n",
       "    <tr>\n",
       "      <th>0</th>\n",
       "      <td>1</td>\n",
       "      <td>No</td>\n",
       "      <td>16.2</td>\n",
       "      <td>102.4</td>\n",
       "      <td>Rural</td>\n",
       "      <td>Female</td>\n",
       "      <td>45</td>\n",
       "      <td>36-47</td>\n",
       "      <td>Secondary+</td>\n",
       "      <td>Richest</td>\n",
       "    </tr>\n",
       "    <tr>\n",
       "      <th>1</th>\n",
       "      <td>1</td>\n",
       "      <td>No</td>\n",
       "      <td>13.5</td>\n",
       "      <td>92.5</td>\n",
       "      <td>Rural</td>\n",
       "      <td>Male</td>\n",
       "      <td>45</td>\n",
       "      <td>36-47</td>\n",
       "      <td>Primary</td>\n",
       "      <td>Second</td>\n",
       "    </tr>\n",
       "    <tr>\n",
       "      <th>2</th>\n",
       "      <td>1</td>\n",
       "      <td>No</td>\n",
       "      <td>13.4</td>\n",
       "      <td>88.5</td>\n",
       "      <td>Rural</td>\n",
       "      <td>Male</td>\n",
       "      <td>36</td>\n",
       "      <td>36-47</td>\n",
       "      <td>Primary</td>\n",
       "      <td>Fourth</td>\n",
       "    </tr>\n",
       "    <tr>\n",
       "      <th>3</th>\n",
       "      <td>1</td>\n",
       "      <td>No</td>\n",
       "      <td>15.0</td>\n",
       "      <td>101.3</td>\n",
       "      <td>Rural</td>\n",
       "      <td>Female</td>\n",
       "      <td>51</td>\n",
       "      <td>48-59</td>\n",
       "      <td>Primary</td>\n",
       "      <td>Fourth</td>\n",
       "    </tr>\n",
       "    <tr>\n",
       "      <th>4</th>\n",
       "      <td>1</td>\n",
       "      <td>No</td>\n",
       "      <td>15.2</td>\n",
       "      <td>105.0</td>\n",
       "      <td>Rural</td>\n",
       "      <td>Female</td>\n",
       "      <td>56</td>\n",
       "      <td>48-59</td>\n",
       "      <td>Primary</td>\n",
       "      <td>Fourth</td>\n",
       "    </tr>\n",
       "  </tbody>\n",
       "</table>\n",
       "</div>"
      ],
      "text/plain": [
       "   Child participated in POLIO campaign August 2013  diarrhea_status  weight  \\\n",
       "0                                                 1               No    16.2   \n",
       "1                                                 1               No    13.5   \n",
       "2                                                 1               No    13.4   \n",
       "3                                                 1               No    15.0   \n",
       "4                                                 1               No    15.2   \n",
       "\n",
       "   height residence     Sex  age age_category   education wealth_index  \n",
       "0   102.4     Rural  Female   45        36-47  Secondary+      Richest  \n",
       "1    92.5     Rural    Male   45        36-47     Primary       Second  \n",
       "2    88.5     Rural    Male   36        36-47     Primary       Fourth  \n",
       "3   101.3     Rural  Female   51        48-59     Primary       Fourth  \n",
       "4   105.0     Rural  Female   56        48-59     Primary       Fourth  "
      ]
     },
     "execution_count": 3,
     "metadata": {},
     "output_type": "execute_result"
    }
   ],
   "source": [
    "import pandas as pd\n",
    "df=pd.read_csv(\"childhealthdata.csv\")\n",
    "df.head()"
   ]
  },
  {
   "cell_type": "code",
   "execution_count": 4,
   "id": "88567966-19cf-4968-bcba-698a0b2f86d8",
   "metadata": {},
   "outputs": [
    {
     "data": {
      "text/html": [
       "<div>\n",
       "<style scoped>\n",
       "    .dataframe tbody tr th:only-of-type {\n",
       "        vertical-align: middle;\n",
       "    }\n",
       "\n",
       "    .dataframe tbody tr th {\n",
       "        vertical-align: top;\n",
       "    }\n",
       "\n",
       "    .dataframe thead th {\n",
       "        text-align: right;\n",
       "    }\n",
       "</style>\n",
       "<table border=\"1\" class=\"dataframe\">\n",
       "  <thead>\n",
       "    <tr style=\"text-align: right;\">\n",
       "      <th></th>\n",
       "      <th>Child participated in POLIO campaign August 2013</th>\n",
       "      <th>weight</th>\n",
       "      <th>height</th>\n",
       "      <th>age</th>\n",
       "    </tr>\n",
       "  </thead>\n",
       "  <tbody>\n",
       "    <tr>\n",
       "      <th>count</th>\n",
       "      <td>799.000000</td>\n",
       "      <td>799.000000</td>\n",
       "      <td>799.000000</td>\n",
       "      <td>799.000000</td>\n",
       "    </tr>\n",
       "    <tr>\n",
       "      <th>mean</th>\n",
       "      <td>1.234043</td>\n",
       "      <td>11.591114</td>\n",
       "      <td>83.858573</td>\n",
       "      <td>29.314143</td>\n",
       "    </tr>\n",
       "    <tr>\n",
       "      <th>std</th>\n",
       "      <td>0.850500</td>\n",
       "      <td>3.408729</td>\n",
       "      <td>13.795704</td>\n",
       "      <td>16.839659</td>\n",
       "    </tr>\n",
       "    <tr>\n",
       "      <th>min</th>\n",
       "      <td>1.000000</td>\n",
       "      <td>3.100000</td>\n",
       "      <td>45.000000</td>\n",
       "      <td>0.000000</td>\n",
       "    </tr>\n",
       "    <tr>\n",
       "      <th>25%</th>\n",
       "      <td>1.000000</td>\n",
       "      <td>9.200000</td>\n",
       "      <td>74.000000</td>\n",
       "      <td>15.000000</td>\n",
       "    </tr>\n",
       "    <tr>\n",
       "      <th>50%</th>\n",
       "      <td>1.000000</td>\n",
       "      <td>11.700000</td>\n",
       "      <td>84.900000</td>\n",
       "      <td>31.000000</td>\n",
       "    </tr>\n",
       "    <tr>\n",
       "      <th>75%</th>\n",
       "      <td>1.000000</td>\n",
       "      <td>14.100000</td>\n",
       "      <td>93.850000</td>\n",
       "      <td>43.000000</td>\n",
       "    </tr>\n",
       "    <tr>\n",
       "      <th>max</th>\n",
       "      <td>9.000000</td>\n",
       "      <td>25.000000</td>\n",
       "      <td>124.800000</td>\n",
       "      <td>59.000000</td>\n",
       "    </tr>\n",
       "  </tbody>\n",
       "</table>\n",
       "</div>"
      ],
      "text/plain": [
       "       Child participated in POLIO campaign August 2013      weight  \\\n",
       "count                                        799.000000  799.000000   \n",
       "mean                                           1.234043   11.591114   \n",
       "std                                            0.850500    3.408729   \n",
       "min                                            1.000000    3.100000   \n",
       "25%                                            1.000000    9.200000   \n",
       "50%                                            1.000000   11.700000   \n",
       "75%                                            1.000000   14.100000   \n",
       "max                                            9.000000   25.000000   \n",
       "\n",
       "           height         age  \n",
       "count  799.000000  799.000000  \n",
       "mean    83.858573   29.314143  \n",
       "std     13.795704   16.839659  \n",
       "min     45.000000    0.000000  \n",
       "25%     74.000000   15.000000  \n",
       "50%     84.900000   31.000000  \n",
       "75%     93.850000   43.000000  \n",
       "max    124.800000   59.000000  "
      ]
     },
     "execution_count": 4,
     "metadata": {},
     "output_type": "execute_result"
    }
   ],
   "source": [
    "df.describe()"
   ]
  },
  {
   "cell_type": "code",
   "execution_count": 6,
   "id": "af04c85f-b0a4-4a49-8695-d21792e40680",
   "metadata": {},
   "outputs": [
    {
     "name": "stdout",
     "output_type": "stream",
     "text": [
      "<class 'pandas.core.frame.DataFrame'>\n",
      "RangeIndex: 799 entries, 0 to 798\n",
      "Data columns (total 10 columns):\n",
      " #   Column                                            Non-Null Count  Dtype  \n",
      "---  ------                                            --------------  -----  \n",
      " 0   Child participated in POLIO campaign August 2013  799 non-null    int64  \n",
      " 1    diarrhea_status                                  799 non-null    object \n",
      " 2   weight                                            799 non-null    float64\n",
      " 3   height                                            799 non-null    float64\n",
      " 4   residence                                         799 non-null    object \n",
      " 5   Sex                                               799 non-null    object \n",
      " 6   age                                               799 non-null    int64  \n",
      " 7   age_category                                      799 non-null    object \n",
      " 8   education                                         768 non-null    object \n",
      " 9   wealth_index                                      799 non-null    object \n",
      "dtypes: float64(2), int64(2), object(6)\n",
      "memory usage: 62.6+ KB\n"
     ]
    }
   ],
   "source": [
    "df.info()"
   ]
  },
  {
   "cell_type": "code",
   "execution_count": 4,
   "id": "afba2046-2ee5-4859-b179-aaa1aab0d3cf",
   "metadata": {},
   "outputs": [
    {
     "name": "stdout",
     "output_type": "stream",
     "text": [
      "   Child participated in POLIO campaign August 2013  diarrhea_status  weight  \\\n",
      "0                                                 1               No    16.2   \n",
      "1                                                 1               No    13.5   \n",
      "2                                                 1               No    13.4   \n",
      "3                                                 1               No    15.0   \n",
      "4                                                 1               No    15.2   \n",
      "\n",
      "   height residence     Sex  age age_category   education wealth_index  \n",
      "0   102.4     Rural  Female   45        36-47  Secondary+      Richest  \n",
      "1    92.5     Rural    Male   45        36-47     Primary       Second  \n",
      "2    88.5     Rural    Male   36        36-47     Primary       Fourth  \n",
      "3   101.3     Rural  Female   51        48-59     Primary       Fourth  \n",
      "4   105.0     Rural  Female   56        48-59     Primary       Fourth  \n"
     ]
    }
   ],
   "source": [
    "print(df.head(5))\n"
   ]
  },
  {
   "cell_type": "code",
   "execution_count": 5,
   "id": "48c5014d-38d6-43da-81a7-b86515657b03",
   "metadata": {},
   "outputs": [
    {
     "name": "stdout",
     "output_type": "stream",
     "text": [
      "     Child participated in POLIO campaign August 2013  diarrhea_status  \\\n",
      "794                                                 1               No   \n",
      "795                                                 2               No   \n",
      "796                                                 1               No   \n",
      "797                                                 1               No   \n",
      "798                                                 1               No   \n",
      "\n",
      "     weight  height residence     Sex  age age_category   education  \\\n",
      "794     8.3    67.0     Urban  Female    7         6-11     Primary   \n",
      "795     3.5    45.0     Urban    Male    0          0-5  Secondary+   \n",
      "796    15.1    86.0     Urban  Female   56        48-59     Primary   \n",
      "797    10.7    71.2     Urban  Female   18        12-23     Primary   \n",
      "798    10.3    73.0     Urban  Female    7         6-11     Primary   \n",
      "\n",
      "    wealth_index  \n",
      "794       Fourth  \n",
      "795       Fourth  \n",
      "796       Fourth  \n",
      "797       Fourth  \n",
      "798       Middle  \n"
     ]
    }
   ],
   "source": [
    "print(df.tail())"
   ]
  },
  {
   "cell_type": "code",
   "execution_count": 11,
   "id": "4b8bc006-196d-40f5-a4cb-1ae5d84c575b",
   "metadata": {},
   "outputs": [
    {
     "data": {
      "text/html": [
       "<div>\n",
       "<style scoped>\n",
       "    .dataframe tbody tr th:only-of-type {\n",
       "        vertical-align: middle;\n",
       "    }\n",
       "\n",
       "    .dataframe tbody tr th {\n",
       "        vertical-align: top;\n",
       "    }\n",
       "\n",
       "    .dataframe thead th {\n",
       "        text-align: right;\n",
       "    }\n",
       "</style>\n",
       "<table border=\"1\" class=\"dataframe\">\n",
       "  <thead>\n",
       "    <tr style=\"text-align: right;\">\n",
       "      <th></th>\n",
       "      <th>Child participated in POLIO campaign August 2013</th>\n",
       "      <th>diarrhea_status</th>\n",
       "      <th>weight</th>\n",
       "      <th>height</th>\n",
       "      <th>residence</th>\n",
       "      <th>Sex</th>\n",
       "      <th>age</th>\n",
       "      <th>age_category</th>\n",
       "      <th>education</th>\n",
       "      <th>wealth_index</th>\n",
       "    </tr>\n",
       "  </thead>\n",
       "  <tbody>\n",
       "    <tr>\n",
       "      <th>0</th>\n",
       "      <td>1</td>\n",
       "      <td>No</td>\n",
       "      <td>16.2</td>\n",
       "      <td>102.4</td>\n",
       "      <td>Rural</td>\n",
       "      <td>Female</td>\n",
       "      <td>45</td>\n",
       "      <td>36-47</td>\n",
       "      <td>Secondary+</td>\n",
       "      <td>Richest</td>\n",
       "    </tr>\n",
       "    <tr>\n",
       "      <th>1</th>\n",
       "      <td>1</td>\n",
       "      <td>No</td>\n",
       "      <td>13.5</td>\n",
       "      <td>92.5</td>\n",
       "      <td>Rural</td>\n",
       "      <td>Male</td>\n",
       "      <td>45</td>\n",
       "      <td>36-47</td>\n",
       "      <td>Primary</td>\n",
       "      <td>Second</td>\n",
       "    </tr>\n",
       "    <tr>\n",
       "      <th>2</th>\n",
       "      <td>1</td>\n",
       "      <td>No</td>\n",
       "      <td>13.4</td>\n",
       "      <td>88.5</td>\n",
       "      <td>Rural</td>\n",
       "      <td>Male</td>\n",
       "      <td>36</td>\n",
       "      <td>36-47</td>\n",
       "      <td>Primary</td>\n",
       "      <td>Fourth</td>\n",
       "    </tr>\n",
       "    <tr>\n",
       "      <th>3</th>\n",
       "      <td>1</td>\n",
       "      <td>No</td>\n",
       "      <td>15.0</td>\n",
       "      <td>101.3</td>\n",
       "      <td>Rural</td>\n",
       "      <td>Female</td>\n",
       "      <td>51</td>\n",
       "      <td>48-59</td>\n",
       "      <td>Primary</td>\n",
       "      <td>Fourth</td>\n",
       "    </tr>\n",
       "    <tr>\n",
       "      <th>4</th>\n",
       "      <td>1</td>\n",
       "      <td>No</td>\n",
       "      <td>15.2</td>\n",
       "      <td>105.0</td>\n",
       "      <td>Rural</td>\n",
       "      <td>Female</td>\n",
       "      <td>56</td>\n",
       "      <td>48-59</td>\n",
       "      <td>Primary</td>\n",
       "      <td>Fourth</td>\n",
       "    </tr>\n",
       "  </tbody>\n",
       "</table>\n",
       "</div>"
      ],
      "text/plain": [
       "   Child participated in POLIO campaign August 2013  diarrhea_status  weight  \\\n",
       "0                                                 1               No    16.2   \n",
       "1                                                 1               No    13.5   \n",
       "2                                                 1               No    13.4   \n",
       "3                                                 1               No    15.0   \n",
       "4                                                 1               No    15.2   \n",
       "\n",
       "   height residence     Sex  age age_category   education wealth_index  \n",
       "0   102.4     Rural  Female   45        36-47  Secondary+      Richest  \n",
       "1    92.5     Rural    Male   45        36-47     Primary       Second  \n",
       "2    88.5     Rural    Male   36        36-47     Primary       Fourth  \n",
       "3   101.3     Rural  Female   51        48-59     Primary       Fourth  \n",
       "4   105.0     Rural  Female   56        48-59     Primary       Fourth  "
      ]
     },
     "execution_count": 11,
     "metadata": {},
     "output_type": "execute_result"
    }
   ],
   "source": [
    "df_above_30=df[df['age']>30]\n",
    "df_above_30.head()"
   ]
  },
  {
   "cell_type": "code",
   "execution_count": 12,
   "id": "e8758080-418a-47a8-b5db-2a703a005207",
   "metadata": {},
   "outputs": [
    {
     "data": {
      "text/html": [
       "<div>\n",
       "<style scoped>\n",
       "    .dataframe tbody tr th:only-of-type {\n",
       "        vertical-align: middle;\n",
       "    }\n",
       "\n",
       "    .dataframe tbody tr th {\n",
       "        vertical-align: top;\n",
       "    }\n",
       "\n",
       "    .dataframe thead th {\n",
       "        text-align: right;\n",
       "    }\n",
       "</style>\n",
       "<table border=\"1\" class=\"dataframe\">\n",
       "  <thead>\n",
       "    <tr style=\"text-align: right;\">\n",
       "      <th></th>\n",
       "      <th>Child participated in POLIO campaign August 2013</th>\n",
       "      <th>diarrhea_status</th>\n",
       "      <th>weight</th>\n",
       "      <th>height</th>\n",
       "      <th>residence</th>\n",
       "      <th>Sex</th>\n",
       "      <th>age</th>\n",
       "      <th>age_category</th>\n",
       "      <th>education</th>\n",
       "      <th>wealth_index</th>\n",
       "    </tr>\n",
       "  </thead>\n",
       "  <tbody>\n",
       "    <tr>\n",
       "      <th>5</th>\n",
       "      <td>1</td>\n",
       "      <td>Yes</td>\n",
       "      <td>9.9</td>\n",
       "      <td>84.5</td>\n",
       "      <td>Rural</td>\n",
       "      <td>Female</td>\n",
       "      <td>20</td>\n",
       "      <td>12-23</td>\n",
       "      <td>Primary</td>\n",
       "      <td>Fourth</td>\n",
       "    </tr>\n",
       "    <tr>\n",
       "      <th>6</th>\n",
       "      <td>2</td>\n",
       "      <td>No</td>\n",
       "      <td>7.1</td>\n",
       "      <td>70.4</td>\n",
       "      <td>Rural</td>\n",
       "      <td>Female</td>\n",
       "      <td>4</td>\n",
       "      <td>0-5</td>\n",
       "      <td>Primary</td>\n",
       "      <td>Fourth</td>\n",
       "    </tr>\n",
       "    <tr>\n",
       "      <th>7</th>\n",
       "      <td>1</td>\n",
       "      <td>No</td>\n",
       "      <td>13.8</td>\n",
       "      <td>89.5</td>\n",
       "      <td>Rural</td>\n",
       "      <td>Male</td>\n",
       "      <td>27</td>\n",
       "      <td>24-35</td>\n",
       "      <td>Primary</td>\n",
       "      <td>Richest</td>\n",
       "    </tr>\n",
       "    <tr>\n",
       "      <th>9</th>\n",
       "      <td>1</td>\n",
       "      <td>Yes</td>\n",
       "      <td>8.2</td>\n",
       "      <td>73.9</td>\n",
       "      <td>Rural</td>\n",
       "      <td>Female</td>\n",
       "      <td>18</td>\n",
       "      <td>12-23</td>\n",
       "      <td>Primary</td>\n",
       "      <td>Poorest</td>\n",
       "    </tr>\n",
       "    <tr>\n",
       "      <th>12</th>\n",
       "      <td>1</td>\n",
       "      <td>Yes</td>\n",
       "      <td>8.0</td>\n",
       "      <td>77.7</td>\n",
       "      <td>Rural</td>\n",
       "      <td>Female</td>\n",
       "      <td>26</td>\n",
       "      <td>24-35</td>\n",
       "      <td>Primary</td>\n",
       "      <td>Poorest</td>\n",
       "    </tr>\n",
       "  </tbody>\n",
       "</table>\n",
       "</div>"
      ],
      "text/plain": [
       "    Child participated in POLIO campaign August 2013  diarrhea_status  weight  \\\n",
       "5                                                  1              Yes     9.9   \n",
       "6                                                  2               No     7.1   \n",
       "7                                                  1               No    13.8   \n",
       "9                                                  1              Yes     8.2   \n",
       "12                                                 1              Yes     8.0   \n",
       "\n",
       "    height residence     Sex  age age_category education wealth_index  \n",
       "5     84.5     Rural  Female   20        12-23   Primary       Fourth  \n",
       "6     70.4     Rural  Female    4          0-5   Primary       Fourth  \n",
       "7     89.5     Rural    Male   27        24-35   Primary      Richest  \n",
       "9     73.9     Rural  Female   18        12-23   Primary      Poorest  \n",
       "12    77.7     Rural  Female   26        24-35   Primary      Poorest  "
      ]
     },
     "execution_count": 12,
     "metadata": {},
     "output_type": "execute_result"
    }
   ],
   "source": [
    "df_30_and_less=df[df['age']<=30]\n",
    "df_30_and_less.head()"
   ]
  },
  {
   "cell_type": "code",
   "execution_count": 18,
   "id": "b8c8c63c-3b52-465d-9f14-645c2a023b59",
   "metadata": {},
   "outputs": [
    {
     "data": {
      "text/html": [
       "<div>\n",
       "<style scoped>\n",
       "    .dataframe tbody tr th:only-of-type {\n",
       "        vertical-align: middle;\n",
       "    }\n",
       "\n",
       "    .dataframe tbody tr th {\n",
       "        vertical-align: top;\n",
       "    }\n",
       "\n",
       "    .dataframe thead th {\n",
       "        text-align: right;\n",
       "    }\n",
       "</style>\n",
       "<table border=\"1\" class=\"dataframe\">\n",
       "  <thead>\n",
       "    <tr style=\"text-align: right;\">\n",
       "      <th></th>\n",
       "      <th>Child participated in POLIO campaign August 2013</th>\n",
       "      <th>diarrhea_status</th>\n",
       "      <th>weight</th>\n",
       "      <th>height</th>\n",
       "      <th>residence</th>\n",
       "      <th>Sex</th>\n",
       "      <th>age</th>\n",
       "      <th>age_category</th>\n",
       "      <th>education</th>\n",
       "      <th>wealth_index</th>\n",
       "    </tr>\n",
       "  </thead>\n",
       "  <tbody>\n",
       "    <tr>\n",
       "      <th>9</th>\n",
       "      <td>1</td>\n",
       "      <td>Yes</td>\n",
       "      <td>8.2</td>\n",
       "      <td>73.9</td>\n",
       "      <td>Rural</td>\n",
       "      <td>Female</td>\n",
       "      <td>18</td>\n",
       "      <td>12-23</td>\n",
       "      <td>Primary</td>\n",
       "      <td>Poorest</td>\n",
       "    </tr>\n",
       "    <tr>\n",
       "      <th>207</th>\n",
       "      <td>1</td>\n",
       "      <td>Yes</td>\n",
       "      <td>9.7</td>\n",
       "      <td>75.4</td>\n",
       "      <td>Rural</td>\n",
       "      <td>Female</td>\n",
       "      <td>18</td>\n",
       "      <td>12-23</td>\n",
       "      <td>Secondary+</td>\n",
       "      <td>Poorest</td>\n",
       "    </tr>\n",
       "    <tr>\n",
       "      <th>273</th>\n",
       "      <td>1</td>\n",
       "      <td>No</td>\n",
       "      <td>10.4</td>\n",
       "      <td>81.5</td>\n",
       "      <td>Urban</td>\n",
       "      <td>Female</td>\n",
       "      <td>18</td>\n",
       "      <td>12-23</td>\n",
       "      <td>Secondary+</td>\n",
       "      <td>Middle</td>\n",
       "    </tr>\n",
       "    <tr>\n",
       "      <th>652</th>\n",
       "      <td>1</td>\n",
       "      <td>No</td>\n",
       "      <td>10.0</td>\n",
       "      <td>80.5</td>\n",
       "      <td>Urban</td>\n",
       "      <td>Female</td>\n",
       "      <td>18</td>\n",
       "      <td>12-23</td>\n",
       "      <td>Secondary+</td>\n",
       "      <td>Richest</td>\n",
       "    </tr>\n",
       "    <tr>\n",
       "      <th>671</th>\n",
       "      <td>2</td>\n",
       "      <td>No</td>\n",
       "      <td>10.1</td>\n",
       "      <td>78.3</td>\n",
       "      <td>Urban</td>\n",
       "      <td>Female</td>\n",
       "      <td>18</td>\n",
       "      <td>12-23</td>\n",
       "      <td>Primary</td>\n",
       "      <td>Fourth</td>\n",
       "    </tr>\n",
       "  </tbody>\n",
       "</table>\n",
       "</div>"
      ],
      "text/plain": [
       "     Child participated in POLIO campaign August 2013  diarrhea_status  \\\n",
       "9                                                   1              Yes   \n",
       "207                                                 1              Yes   \n",
       "273                                                 1               No   \n",
       "652                                                 1               No   \n",
       "671                                                 2               No   \n",
       "\n",
       "     weight  height residence     Sex  age age_category   education  \\\n",
       "9       8.2    73.9     Rural  Female   18        12-23     Primary   \n",
       "207     9.7    75.4     Rural  Female   18        12-23  Secondary+   \n",
       "273    10.4    81.5     Urban  Female   18        12-23  Secondary+   \n",
       "652    10.0    80.5     Urban  Female   18        12-23  Secondary+   \n",
       "671    10.1    78.3     Urban  Female   18        12-23     Primary   \n",
       "\n",
       "    wealth_index  \n",
       "9        Poorest  \n",
       "207      Poorest  \n",
       "273       Middle  \n",
       "652      Richest  \n",
       "671       Fourth  "
      ]
     },
     "execution_count": 18,
     "metadata": {},
     "output_type": "execute_result"
    }
   ],
   "source": [
    "df_18=df[(df['age']==18)&(df['Sex']=='Female')]\n",
    "df_18.head()"
   ]
  },
  {
   "cell_type": "code",
   "execution_count": 19,
   "id": "97f3f3dc-d0d4-4a90-a3fc-8c58326fe2cc",
   "metadata": {},
   "outputs": [
    {
     "data": {
      "text/html": [
       "<div>\n",
       "<style scoped>\n",
       "    .dataframe tbody tr th:only-of-type {\n",
       "        vertical-align: middle;\n",
       "    }\n",
       "\n",
       "    .dataframe tbody tr th {\n",
       "        vertical-align: top;\n",
       "    }\n",
       "\n",
       "    .dataframe thead th {\n",
       "        text-align: right;\n",
       "    }\n",
       "</style>\n",
       "<table border=\"1\" class=\"dataframe\">\n",
       "  <thead>\n",
       "    <tr style=\"text-align: right;\">\n",
       "      <th></th>\n",
       "      <th>Child participated in POLIO campaign August 2013</th>\n",
       "      <th>diarrhea_status</th>\n",
       "      <th>weight</th>\n",
       "      <th>height</th>\n",
       "      <th>residence</th>\n",
       "      <th>Sex</th>\n",
       "      <th>age</th>\n",
       "      <th>age_category</th>\n",
       "      <th>education</th>\n",
       "      <th>wealth_index</th>\n",
       "    </tr>\n",
       "  </thead>\n",
       "  <tbody>\n",
       "    <tr>\n",
       "      <th>512</th>\n",
       "      <td>1</td>\n",
       "      <td>No</td>\n",
       "      <td>16.8</td>\n",
       "      <td>104.8</td>\n",
       "      <td>Rural</td>\n",
       "      <td>Female</td>\n",
       "      <td>59</td>\n",
       "      <td>48-59</td>\n",
       "      <td>Secondary+</td>\n",
       "      <td>Second</td>\n",
       "    </tr>\n",
       "    <tr>\n",
       "      <th>75</th>\n",
       "      <td>2</td>\n",
       "      <td>No</td>\n",
       "      <td>15.8</td>\n",
       "      <td>104.4</td>\n",
       "      <td>Rural</td>\n",
       "      <td>Male</td>\n",
       "      <td>59</td>\n",
       "      <td>48-59</td>\n",
       "      <td>Primary</td>\n",
       "      <td>Second</td>\n",
       "    </tr>\n",
       "    <tr>\n",
       "      <th>310</th>\n",
       "      <td>1</td>\n",
       "      <td>No</td>\n",
       "      <td>17.0</td>\n",
       "      <td>105.3</td>\n",
       "      <td>Urban</td>\n",
       "      <td>Male</td>\n",
       "      <td>59</td>\n",
       "      <td>48-59</td>\n",
       "      <td>Secondary+</td>\n",
       "      <td>Richest</td>\n",
       "    </tr>\n",
       "    <tr>\n",
       "      <th>196</th>\n",
       "      <td>1</td>\n",
       "      <td>No</td>\n",
       "      <td>16.0</td>\n",
       "      <td>102.4</td>\n",
       "      <td>Rural</td>\n",
       "      <td>Male</td>\n",
       "      <td>59</td>\n",
       "      <td>48-59</td>\n",
       "      <td>Primary</td>\n",
       "      <td>Poorest</td>\n",
       "    </tr>\n",
       "    <tr>\n",
       "      <th>723</th>\n",
       "      <td>1</td>\n",
       "      <td>No</td>\n",
       "      <td>15.6</td>\n",
       "      <td>88.5</td>\n",
       "      <td>Urban</td>\n",
       "      <td>Female</td>\n",
       "      <td>59</td>\n",
       "      <td>48-59</td>\n",
       "      <td>Primary</td>\n",
       "      <td>Second</td>\n",
       "    </tr>\n",
       "  </tbody>\n",
       "</table>\n",
       "</div>"
      ],
      "text/plain": [
       "     Child participated in POLIO campaign August 2013  diarrhea_status  \\\n",
       "512                                                 1               No   \n",
       "75                                                  2               No   \n",
       "310                                                 1               No   \n",
       "196                                                 1               No   \n",
       "723                                                 1               No   \n",
       "\n",
       "     weight  height residence     Sex  age age_category   education  \\\n",
       "512    16.8   104.8     Rural  Female   59        48-59  Secondary+   \n",
       "75     15.8   104.4     Rural    Male   59        48-59     Primary   \n",
       "310    17.0   105.3     Urban    Male   59        48-59  Secondary+   \n",
       "196    16.0   102.4     Rural    Male   59        48-59     Primary   \n",
       "723    15.6    88.5     Urban  Female   59        48-59     Primary   \n",
       "\n",
       "    wealth_index  \n",
       "512       Second  \n",
       "75        Second  \n",
       "310      Richest  \n",
       "196      Poorest  \n",
       "723       Second  "
      ]
     },
     "execution_count": 19,
     "metadata": {},
     "output_type": "execute_result"
    }
   ],
   "source": [
    "sorted_df=df.sort_values(by='age',ascending=False)\n",
    "sorted_df.head()"
   ]
  },
  {
   "cell_type": "code",
   "execution_count": 20,
   "id": "c7dcb9ee-825c-4efe-9f0d-2f2b2e6280ae",
   "metadata": {},
   "outputs": [
    {
     "data": {
      "text/html": [
       "<div>\n",
       "<style scoped>\n",
       "    .dataframe tbody tr th:only-of-type {\n",
       "        vertical-align: middle;\n",
       "    }\n",
       "\n",
       "    .dataframe tbody tr th {\n",
       "        vertical-align: top;\n",
       "    }\n",
       "\n",
       "    .dataframe thead th {\n",
       "        text-align: right;\n",
       "    }\n",
       "</style>\n",
       "<table border=\"1\" class=\"dataframe\">\n",
       "  <thead>\n",
       "    <tr style=\"text-align: right;\">\n",
       "      <th></th>\n",
       "      <th>Child participated in POLIO campaign August 2013</th>\n",
       "      <th>diarrhea_status</th>\n",
       "      <th>weight</th>\n",
       "      <th>height</th>\n",
       "      <th>residence</th>\n",
       "      <th>Sex</th>\n",
       "      <th>age</th>\n",
       "      <th>age_category</th>\n",
       "      <th>education</th>\n",
       "      <th>wealth_index</th>\n",
       "    </tr>\n",
       "  </thead>\n",
       "  <tbody>\n",
       "    <tr>\n",
       "      <th>496</th>\n",
       "      <td>2</td>\n",
       "      <td>No</td>\n",
       "      <td>4.0</td>\n",
       "      <td>51.2</td>\n",
       "      <td>Rural</td>\n",
       "      <td>Male</td>\n",
       "      <td>0</td>\n",
       "      <td>0-5</td>\n",
       "      <td>Secondary+</td>\n",
       "      <td>Poorest</td>\n",
       "    </tr>\n",
       "    <tr>\n",
       "      <th>36</th>\n",
       "      <td>2</td>\n",
       "      <td>No</td>\n",
       "      <td>5.2</td>\n",
       "      <td>51.0</td>\n",
       "      <td>Rural</td>\n",
       "      <td>Male</td>\n",
       "      <td>0</td>\n",
       "      <td>0-5</td>\n",
       "      <td>Primary</td>\n",
       "      <td>Second</td>\n",
       "    </tr>\n",
       "    <tr>\n",
       "      <th>456</th>\n",
       "      <td>2</td>\n",
       "      <td>No</td>\n",
       "      <td>3.2</td>\n",
       "      <td>48.2</td>\n",
       "      <td>Rural</td>\n",
       "      <td>Female</td>\n",
       "      <td>0</td>\n",
       "      <td>0-5</td>\n",
       "      <td>Primary</td>\n",
       "      <td>Poorest</td>\n",
       "    </tr>\n",
       "    <tr>\n",
       "      <th>548</th>\n",
       "      <td>2</td>\n",
       "      <td>Yes</td>\n",
       "      <td>3.5</td>\n",
       "      <td>58.0</td>\n",
       "      <td>Rural</td>\n",
       "      <td>Male</td>\n",
       "      <td>0</td>\n",
       "      <td>0-5</td>\n",
       "      <td>Secondary+</td>\n",
       "      <td>Fourth</td>\n",
       "    </tr>\n",
       "    <tr>\n",
       "      <th>153</th>\n",
       "      <td>2</td>\n",
       "      <td>No</td>\n",
       "      <td>4.1</td>\n",
       "      <td>51.6</td>\n",
       "      <td>Rural</td>\n",
       "      <td>Female</td>\n",
       "      <td>0</td>\n",
       "      <td>0-5</td>\n",
       "      <td>Secondary+</td>\n",
       "      <td>Fourth</td>\n",
       "    </tr>\n",
       "  </tbody>\n",
       "</table>\n",
       "</div>"
      ],
      "text/plain": [
       "     Child participated in POLIO campaign August 2013  diarrhea_status  \\\n",
       "496                                                 2               No   \n",
       "36                                                  2               No   \n",
       "456                                                 2               No   \n",
       "548                                                 2              Yes   \n",
       "153                                                 2               No   \n",
       "\n",
       "     weight  height residence     Sex  age age_category   education  \\\n",
       "496     4.0    51.2     Rural    Male    0          0-5  Secondary+   \n",
       "36      5.2    51.0     Rural    Male    0          0-5     Primary   \n",
       "456     3.2    48.2     Rural  Female    0          0-5     Primary   \n",
       "548     3.5    58.0     Rural    Male    0          0-5  Secondary+   \n",
       "153     4.1    51.6     Rural  Female    0          0-5  Secondary+   \n",
       "\n",
       "    wealth_index  \n",
       "496      Poorest  \n",
       "36        Second  \n",
       "456      Poorest  \n",
       "548       Fourth  \n",
       "153       Fourth  "
      ]
     },
     "execution_count": 20,
     "metadata": {},
     "output_type": "execute_result"
    }
   ],
   "source": [
    "sorted_df=df.sort_values(by='age',ascending=True)\n",
    "sorted_df.head()"
   ]
  },
  {
   "cell_type": "code",
   "execution_count": 21,
   "id": "ff6c5110-b1d3-426d-9bdb-7d788eb6c3db",
   "metadata": {},
   "outputs": [
    {
     "data": {
      "text/plain": [
       "Sex\n",
       "Female    398\n",
       "Male      401\n",
       "dtype: int64"
      ]
     },
     "execution_count": 21,
     "metadata": {},
     "output_type": "execute_result"
    }
   ],
   "source": [
    "df.groupby('Sex').size()"
   ]
  },
  {
   "cell_type": "code",
   "execution_count": 22,
   "id": "53d9a1ae-8c34-403b-a1e2-3f88565e27f9",
   "metadata": {},
   "outputs": [
    {
     "data": {
      "text/html": [
       "<div>\n",
       "<style scoped>\n",
       "    .dataframe tbody tr th:only-of-type {\n",
       "        vertical-align: middle;\n",
       "    }\n",
       "\n",
       "    .dataframe tbody tr th {\n",
       "        vertical-align: top;\n",
       "    }\n",
       "\n",
       "    .dataframe thead th {\n",
       "        text-align: right;\n",
       "    }\n",
       "</style>\n",
       "<table border=\"1\" class=\"dataframe\">\n",
       "  <thead>\n",
       "    <tr style=\"text-align: right;\">\n",
       "      <th></th>\n",
       "      <th>Child participated in POLIO campaign August 2013</th>\n",
       "      <th>diarrhea_status</th>\n",
       "      <th>weight</th>\n",
       "      <th>height</th>\n",
       "      <th>residence</th>\n",
       "      <th>Sex</th>\n",
       "      <th>age</th>\n",
       "      <th>age_category</th>\n",
       "      <th>education</th>\n",
       "      <th>wealth_index</th>\n",
       "      <th>is_adult</th>\n",
       "      <th>is-adult</th>\n",
       "    </tr>\n",
       "  </thead>\n",
       "  <tbody>\n",
       "    <tr>\n",
       "      <th>0</th>\n",
       "      <td>1</td>\n",
       "      <td>No</td>\n",
       "      <td>16.2</td>\n",
       "      <td>102.4</td>\n",
       "      <td>Rural</td>\n",
       "      <td>Female</td>\n",
       "      <td>45</td>\n",
       "      <td>36-47</td>\n",
       "      <td>Secondary+</td>\n",
       "      <td>Richest</td>\n",
       "      <td>Yes</td>\n",
       "      <td>NaN</td>\n",
       "    </tr>\n",
       "    <tr>\n",
       "      <th>1</th>\n",
       "      <td>1</td>\n",
       "      <td>No</td>\n",
       "      <td>13.5</td>\n",
       "      <td>92.5</td>\n",
       "      <td>Rural</td>\n",
       "      <td>Male</td>\n",
       "      <td>45</td>\n",
       "      <td>36-47</td>\n",
       "      <td>Primary</td>\n",
       "      <td>Second</td>\n",
       "      <td>Yes</td>\n",
       "      <td>NaN</td>\n",
       "    </tr>\n",
       "    <tr>\n",
       "      <th>2</th>\n",
       "      <td>1</td>\n",
       "      <td>No</td>\n",
       "      <td>13.4</td>\n",
       "      <td>88.5</td>\n",
       "      <td>Rural</td>\n",
       "      <td>Male</td>\n",
       "      <td>36</td>\n",
       "      <td>36-47</td>\n",
       "      <td>Primary</td>\n",
       "      <td>Fourth</td>\n",
       "      <td>Yes</td>\n",
       "      <td>NaN</td>\n",
       "    </tr>\n",
       "    <tr>\n",
       "      <th>3</th>\n",
       "      <td>1</td>\n",
       "      <td>No</td>\n",
       "      <td>15.0</td>\n",
       "      <td>101.3</td>\n",
       "      <td>Rural</td>\n",
       "      <td>Female</td>\n",
       "      <td>51</td>\n",
       "      <td>48-59</td>\n",
       "      <td>Primary</td>\n",
       "      <td>Fourth</td>\n",
       "      <td>Yes</td>\n",
       "      <td>NaN</td>\n",
       "    </tr>\n",
       "    <tr>\n",
       "      <th>4</th>\n",
       "      <td>1</td>\n",
       "      <td>No</td>\n",
       "      <td>15.2</td>\n",
       "      <td>105.0</td>\n",
       "      <td>Rural</td>\n",
       "      <td>Female</td>\n",
       "      <td>56</td>\n",
       "      <td>48-59</td>\n",
       "      <td>Primary</td>\n",
       "      <td>Fourth</td>\n",
       "      <td>Yes</td>\n",
       "      <td>NaN</td>\n",
       "    </tr>\n",
       "  </tbody>\n",
       "</table>\n",
       "</div>"
      ],
      "text/plain": [
       "   Child participated in POLIO campaign August 2013  diarrhea_status  weight  \\\n",
       "0                                                 1               No    16.2   \n",
       "1                                                 1               No    13.5   \n",
       "2                                                 1               No    13.4   \n",
       "3                                                 1               No    15.0   \n",
       "4                                                 1               No    15.2   \n",
       "\n",
       "   height residence     Sex  age age_category   education wealth_index  \\\n",
       "0   102.4     Rural  Female   45        36-47  Secondary+      Richest   \n",
       "1    92.5     Rural    Male   45        36-47     Primary       Second   \n",
       "2    88.5     Rural    Male   36        36-47     Primary       Fourth   \n",
       "3   101.3     Rural  Female   51        48-59     Primary       Fourth   \n",
       "4   105.0     Rural  Female   56        48-59     Primary       Fourth   \n",
       "\n",
       "  is_adult is-adult  \n",
       "0      Yes      NaN  \n",
       "1      Yes      NaN  \n",
       "2      Yes      NaN  \n",
       "3      Yes      NaN  \n",
       "4      Yes      NaN  "
      ]
     },
     "execution_count": 22,
     "metadata": {},
     "output_type": "execute_result"
    }
   ],
   "source": [
    "df.loc[df['age']>=18,'is_adult']='Yes'\n",
    "df.loc[df['age']<18,'is-adult']='No'\n",
    "df.head()"
   ]
  },
  {
   "cell_type": "code",
   "execution_count": 24,
   "id": "658aabca-49a6-4c68-898d-c562a98e6941",
   "metadata": {},
   "outputs": [],
   "source": [
    "df.drop_duplicates(inplace=True)"
   ]
  },
  {
   "cell_type": "code",
   "execution_count": 25,
   "id": "8506894b-eea2-4949-8a1a-948eeafb6581",
   "metadata": {},
   "outputs": [
    {
     "data": {
      "text/html": [
       "<div>\n",
       "<style scoped>\n",
       "    .dataframe tbody tr th:only-of-type {\n",
       "        vertical-align: middle;\n",
       "    }\n",
       "\n",
       "    .dataframe tbody tr th {\n",
       "        vertical-align: top;\n",
       "    }\n",
       "\n",
       "    .dataframe thead th {\n",
       "        text-align: right;\n",
       "    }\n",
       "</style>\n",
       "<table border=\"1\" class=\"dataframe\">\n",
       "  <thead>\n",
       "    <tr style=\"text-align: right;\">\n",
       "      <th></th>\n",
       "      <th>Child participated in POLIO campaign August 2013</th>\n",
       "      <th>diarrhea_status</th>\n",
       "      <th>weight</th>\n",
       "      <th>height</th>\n",
       "      <th>residence</th>\n",
       "      <th>Sex</th>\n",
       "      <th>age</th>\n",
       "      <th>age_category</th>\n",
       "      <th>education</th>\n",
       "      <th>wealth_index</th>\n",
       "      <th>is_adult</th>\n",
       "      <th>is-adult</th>\n",
       "    </tr>\n",
       "  </thead>\n",
       "  <tbody>\n",
       "    <tr>\n",
       "      <th>0</th>\n",
       "      <td>1</td>\n",
       "      <td>No</td>\n",
       "      <td>16.2</td>\n",
       "      <td>102.4</td>\n",
       "      <td>Rural</td>\n",
       "      <td>FEMALE</td>\n",
       "      <td>45</td>\n",
       "      <td>36-47</td>\n",
       "      <td>Secondary+</td>\n",
       "      <td>Richest</td>\n",
       "      <td>Yes</td>\n",
       "      <td>NaN</td>\n",
       "    </tr>\n",
       "    <tr>\n",
       "      <th>1</th>\n",
       "      <td>1</td>\n",
       "      <td>No</td>\n",
       "      <td>13.5</td>\n",
       "      <td>92.5</td>\n",
       "      <td>Rural</td>\n",
       "      <td>MALE</td>\n",
       "      <td>45</td>\n",
       "      <td>36-47</td>\n",
       "      <td>Primary</td>\n",
       "      <td>Second</td>\n",
       "      <td>Yes</td>\n",
       "      <td>NaN</td>\n",
       "    </tr>\n",
       "    <tr>\n",
       "      <th>2</th>\n",
       "      <td>1</td>\n",
       "      <td>No</td>\n",
       "      <td>13.4</td>\n",
       "      <td>88.5</td>\n",
       "      <td>Rural</td>\n",
       "      <td>MALE</td>\n",
       "      <td>36</td>\n",
       "      <td>36-47</td>\n",
       "      <td>Primary</td>\n",
       "      <td>Fourth</td>\n",
       "      <td>Yes</td>\n",
       "      <td>NaN</td>\n",
       "    </tr>\n",
       "    <tr>\n",
       "      <th>3</th>\n",
       "      <td>1</td>\n",
       "      <td>No</td>\n",
       "      <td>15.0</td>\n",
       "      <td>101.3</td>\n",
       "      <td>Rural</td>\n",
       "      <td>FEMALE</td>\n",
       "      <td>51</td>\n",
       "      <td>48-59</td>\n",
       "      <td>Primary</td>\n",
       "      <td>Fourth</td>\n",
       "      <td>Yes</td>\n",
       "      <td>NaN</td>\n",
       "    </tr>\n",
       "    <tr>\n",
       "      <th>4</th>\n",
       "      <td>1</td>\n",
       "      <td>No</td>\n",
       "      <td>15.2</td>\n",
       "      <td>105.0</td>\n",
       "      <td>Rural</td>\n",
       "      <td>FEMALE</td>\n",
       "      <td>56</td>\n",
       "      <td>48-59</td>\n",
       "      <td>Primary</td>\n",
       "      <td>Fourth</td>\n",
       "      <td>Yes</td>\n",
       "      <td>NaN</td>\n",
       "    </tr>\n",
       "  </tbody>\n",
       "</table>\n",
       "</div>"
      ],
      "text/plain": [
       "   Child participated in POLIO campaign August 2013  diarrhea_status  weight  \\\n",
       "0                                                 1               No    16.2   \n",
       "1                                                 1               No    13.5   \n",
       "2                                                 1               No    13.4   \n",
       "3                                                 1               No    15.0   \n",
       "4                                                 1               No    15.2   \n",
       "\n",
       "   height residence     Sex  age age_category   education wealth_index  \\\n",
       "0   102.4     Rural  FEMALE   45        36-47  Secondary+      Richest   \n",
       "1    92.5     Rural    MALE   45        36-47     Primary       Second   \n",
       "2    88.5     Rural    MALE   36        36-47     Primary       Fourth   \n",
       "3   101.3     Rural  FEMALE   51        48-59     Primary       Fourth   \n",
       "4   105.0     Rural  FEMALE   56        48-59     Primary       Fourth   \n",
       "\n",
       "  is_adult is-adult  \n",
       "0      Yes      NaN  \n",
       "1      Yes      NaN  \n",
       "2      Yes      NaN  \n",
       "3      Yes      NaN  \n",
       "4      Yes      NaN  "
      ]
     },
     "execution_count": 25,
     "metadata": {},
     "output_type": "execute_result"
    }
   ],
   "source": [
    "df['Sex']=df['Sex'].str.upper()# or lower\n",
    "df.head()"
   ]
  },
  {
   "cell_type": "code",
   "execution_count": 26,
   "id": "fd2bb14b-cbc3-4aeb-88df-4fbcc7485d94",
   "metadata": {},
   "outputs": [
    {
     "data": {
      "text/plain": [
       "0      FEMALE\n",
       "1        MALE\n",
       "2        MALE\n",
       "3      FEMALE\n",
       "4      FEMALE\n",
       "        ...  \n",
       "794    FEMALE\n",
       "795      MALE\n",
       "796    FEMALE\n",
       "797    FEMALE\n",
       "798    FEMALE\n",
       "Name: Sex, Length: 799, dtype: object"
      ]
     },
     "execution_count": 26,
     "metadata": {},
     "output_type": "execute_result"
    }
   ],
   "source": [
    "df['Sex']"
   ]
  },
  {
   "cell_type": "code",
   "execution_count": 91,
   "id": "22cf416c-c4b6-4c5f-8ad6-e118ca7b7db5",
   "metadata": {},
   "outputs": [
    {
     "ename": "SyntaxError",
     "evalue": "unterminated string literal (detected at line 1) (1310186310.py, line 1)",
     "output_type": "error",
     "traceback": [
      "\u001b[1;36m  Cell \u001b[1;32mIn[91], line 1\u001b[1;36m\u001b[0m\n\u001b[1;33m    merge_df=pd.merge(df1,df2,on=common_column')\u001b[0m\n\u001b[1;37m                                              ^\u001b[0m\n\u001b[1;31mSyntaxError\u001b[0m\u001b[1;31m:\u001b[0m unterminated string literal (detected at line 1)\n"
     ]
    }
   ],
   "source": [
    "merge_df=pd.merge(df1,df2,on=common_column')"
   ]
  },
  {
   "cell_type": "code",
   "execution_count": 34,
   "id": "3a07b050-8f16-47b8-8b2b-65912bc7a450",
   "metadata": {},
   "outputs": [
    {
     "data": {
      "text/plain": [
       "is_adult\n",
       "Yes    564\n",
       "dtype: int64"
      ]
     },
     "execution_count": 34,
     "metadata": {},
     "output_type": "execute_result"
    }
   ],
   "source": [
    "df.groupby('is_adult').size()"
   ]
  },
  {
   "cell_type": "code",
   "execution_count": 90,
   "id": "ba4396d8-23af-46a8-ba43-73d20722a101",
   "metadata": {},
   "outputs": [
    {
     "data": {
      "text/plain": [
       "age\n",
       "0      7\n",
       "1     10\n",
       "2     10\n",
       "3     12\n",
       "4     17\n",
       "5     24\n",
       "6     22\n",
       "7     11\n",
       "8     16\n",
       "9     14\n",
       "10    12\n",
       "11     7\n",
       "12    12\n",
       "13    13\n",
       "14    12\n",
       "15    18\n",
       "16    10\n",
       "17     8\n",
       "18    14\n",
       "19    11\n",
       "20    23\n",
       "21     8\n",
       "22    11\n",
       "23     8\n",
       "24    13\n",
       "25    18\n",
       "26    10\n",
       "27    13\n",
       "28    12\n",
       "29    11\n",
       "30     9\n",
       "31    12\n",
       "32    12\n",
       "33    14\n",
       "34    14\n",
       "35    20\n",
       "36    16\n",
       "37    19\n",
       "38    18\n",
       "39    20\n",
       "40    23\n",
       "41    14\n",
       "42    14\n",
       "43    19\n",
       "44    14\n",
       "45    16\n",
       "46     9\n",
       "47    14\n",
       "48    12\n",
       "49    11\n",
       "50     9\n",
       "51    16\n",
       "52    16\n",
       "53     8\n",
       "54    10\n",
       "55     6\n",
       "56    17\n",
       "57     8\n",
       "58     9\n",
       "59    13\n",
       "dtype: int64"
      ]
     },
     "execution_count": 90,
     "metadata": {},
     "output_type": "execute_result"
    }
   ],
   "source": [
    "df.groupby('age').size()"
   ]
  },
  {
   "cell_type": "code",
   "execution_count": 55,
   "id": "d97cff9e-056e-476e-8dee-02ff7052baa0",
   "metadata": {},
   "outputs": [
    {
     "data": {
      "text/html": [
       "<div>\n",
       "<style scoped>\n",
       "    .dataframe tbody tr th:only-of-type {\n",
       "        vertical-align: middle;\n",
       "    }\n",
       "\n",
       "    .dataframe tbody tr th {\n",
       "        vertical-align: top;\n",
       "    }\n",
       "\n",
       "    .dataframe thead th {\n",
       "        text-align: right;\n",
       "    }\n",
       "</style>\n",
       "<table border=\"1\" class=\"dataframe\">\n",
       "  <thead>\n",
       "    <tr style=\"text-align: right;\">\n",
       "      <th></th>\n",
       "      <th>Child participated in POLIO campaign August 2013</th>\n",
       "      <th>diarrhea_status</th>\n",
       "      <th>weight</th>\n",
       "      <th>height</th>\n",
       "      <th>residence</th>\n",
       "      <th>Sex</th>\n",
       "      <th>age</th>\n",
       "      <th>age_category</th>\n",
       "      <th>education</th>\n",
       "      <th>wealth_index</th>\n",
       "    </tr>\n",
       "  </thead>\n",
       "  <tbody>\n",
       "    <tr>\n",
       "      <th>36</th>\n",
       "      <td>2</td>\n",
       "      <td>No</td>\n",
       "      <td>5.2</td>\n",
       "      <td>51.0</td>\n",
       "      <td>Rural</td>\n",
       "      <td>Male</td>\n",
       "      <td>0</td>\n",
       "      <td>0-5</td>\n",
       "      <td>Primary</td>\n",
       "      <td>Second</td>\n",
       "    </tr>\n",
       "    <tr>\n",
       "      <th>153</th>\n",
       "      <td>2</td>\n",
       "      <td>No</td>\n",
       "      <td>4.1</td>\n",
       "      <td>51.6</td>\n",
       "      <td>Rural</td>\n",
       "      <td>Female</td>\n",
       "      <td>0</td>\n",
       "      <td>0-5</td>\n",
       "      <td>Secondary+</td>\n",
       "      <td>Fourth</td>\n",
       "    </tr>\n",
       "    <tr>\n",
       "      <th>548</th>\n",
       "      <td>2</td>\n",
       "      <td>Yes</td>\n",
       "      <td>3.5</td>\n",
       "      <td>58.0</td>\n",
       "      <td>Rural</td>\n",
       "      <td>Male</td>\n",
       "      <td>0</td>\n",
       "      <td>0-5</td>\n",
       "      <td>Secondary+</td>\n",
       "      <td>Fourth</td>\n",
       "    </tr>\n",
       "    <tr>\n",
       "      <th>795</th>\n",
       "      <td>2</td>\n",
       "      <td>No</td>\n",
       "      <td>3.5</td>\n",
       "      <td>45.0</td>\n",
       "      <td>Urban</td>\n",
       "      <td>Male</td>\n",
       "      <td>0</td>\n",
       "      <td>0-5</td>\n",
       "      <td>Secondary+</td>\n",
       "      <td>Fourth</td>\n",
       "    </tr>\n",
       "    <tr>\n",
       "      <th>496</th>\n",
       "      <td>2</td>\n",
       "      <td>No</td>\n",
       "      <td>4.0</td>\n",
       "      <td>51.2</td>\n",
       "      <td>Rural</td>\n",
       "      <td>Male</td>\n",
       "      <td>0</td>\n",
       "      <td>0-5</td>\n",
       "      <td>Secondary+</td>\n",
       "      <td>Poorest</td>\n",
       "    </tr>\n",
       "  </tbody>\n",
       "</table>\n",
       "</div>"
      ],
      "text/plain": [
       "     Child participated in POLIO campaign August 2013  diarrhea_status  \\\n",
       "36                                                  2               No   \n",
       "153                                                 2               No   \n",
       "548                                                 2              Yes   \n",
       "795                                                 2               No   \n",
       "496                                                 2               No   \n",
       "\n",
       "     weight  height residence     Sex  age age_category   education  \\\n",
       "36      5.2    51.0     Rural    Male    0          0-5     Primary   \n",
       "153     4.1    51.6     Rural  Female    0          0-5  Secondary+   \n",
       "548     3.5    58.0     Rural    Male    0          0-5  Secondary+   \n",
       "795     3.5    45.0     Urban    Male    0          0-5  Secondary+   \n",
       "496     4.0    51.2     Rural    Male    0          0-5  Secondary+   \n",
       "\n",
       "    wealth_index  \n",
       "36        Second  \n",
       "153       Fourth  \n",
       "548       Fourth  \n",
       "795       Fourth  \n",
       "496      Poorest  "
      ]
     },
     "execution_count": 55,
     "metadata": {},
     "output_type": "execute_result"
    }
   ],
   "source": [
    "sorted_df=df.sort_values(by='age',ascending=False)\n",
    "sorted_df.tail()"
   ]
  },
  {
   "cell_type": "code",
   "execution_count": 41,
   "id": "fef1757a-d2f0-4f56-818f-1e26853585a4",
   "metadata": {},
   "outputs": [
    {
     "data": {
      "text/html": [
       "<div>\n",
       "<style scoped>\n",
       "    .dataframe tbody tr th:only-of-type {\n",
       "        vertical-align: middle;\n",
       "    }\n",
       "\n",
       "    .dataframe tbody tr th {\n",
       "        vertical-align: top;\n",
       "    }\n",
       "\n",
       "    .dataframe thead th {\n",
       "        text-align: right;\n",
       "    }\n",
       "</style>\n",
       "<table border=\"1\" class=\"dataframe\">\n",
       "  <thead>\n",
       "    <tr style=\"text-align: right;\">\n",
       "      <th></th>\n",
       "      <th>Child participated in POLIO campaign August 2013</th>\n",
       "      <th>diarrhea_status</th>\n",
       "      <th>weight</th>\n",
       "      <th>height</th>\n",
       "      <th>residence</th>\n",
       "      <th>Sex</th>\n",
       "      <th>age</th>\n",
       "      <th>age_category</th>\n",
       "      <th>education</th>\n",
       "      <th>wealth_index</th>\n",
       "      <th>is_adult</th>\n",
       "      <th>is-adult</th>\n",
       "    </tr>\n",
       "  </thead>\n",
       "  <tbody>\n",
       "    <tr>\n",
       "      <th>496</th>\n",
       "      <td>2</td>\n",
       "      <td>No</td>\n",
       "      <td>4.0</td>\n",
       "      <td>51.2</td>\n",
       "      <td>Rural</td>\n",
       "      <td>MALE</td>\n",
       "      <td>0</td>\n",
       "      <td>0-5</td>\n",
       "      <td>Secondary+</td>\n",
       "      <td>Poorest</td>\n",
       "      <td>NaN</td>\n",
       "      <td>No</td>\n",
       "    </tr>\n",
       "    <tr>\n",
       "      <th>36</th>\n",
       "      <td>2</td>\n",
       "      <td>No</td>\n",
       "      <td>5.2</td>\n",
       "      <td>51.0</td>\n",
       "      <td>Rural</td>\n",
       "      <td>MALE</td>\n",
       "      <td>0</td>\n",
       "      <td>0-5</td>\n",
       "      <td>Primary</td>\n",
       "      <td>Second</td>\n",
       "      <td>NaN</td>\n",
       "      <td>No</td>\n",
       "    </tr>\n",
       "    <tr>\n",
       "      <th>456</th>\n",
       "      <td>2</td>\n",
       "      <td>No</td>\n",
       "      <td>3.2</td>\n",
       "      <td>48.2</td>\n",
       "      <td>Rural</td>\n",
       "      <td>FEMALE</td>\n",
       "      <td>0</td>\n",
       "      <td>0-5</td>\n",
       "      <td>Primary</td>\n",
       "      <td>Poorest</td>\n",
       "      <td>NaN</td>\n",
       "      <td>No</td>\n",
       "    </tr>\n",
       "    <tr>\n",
       "      <th>548</th>\n",
       "      <td>2</td>\n",
       "      <td>Yes</td>\n",
       "      <td>3.5</td>\n",
       "      <td>58.0</td>\n",
       "      <td>Rural</td>\n",
       "      <td>MALE</td>\n",
       "      <td>0</td>\n",
       "      <td>0-5</td>\n",
       "      <td>Secondary+</td>\n",
       "      <td>Fourth</td>\n",
       "      <td>NaN</td>\n",
       "      <td>No</td>\n",
       "    </tr>\n",
       "    <tr>\n",
       "      <th>153</th>\n",
       "      <td>2</td>\n",
       "      <td>No</td>\n",
       "      <td>4.1</td>\n",
       "      <td>51.6</td>\n",
       "      <td>Rural</td>\n",
       "      <td>FEMALE</td>\n",
       "      <td>0</td>\n",
       "      <td>0-5</td>\n",
       "      <td>Secondary+</td>\n",
       "      <td>Fourth</td>\n",
       "      <td>NaN</td>\n",
       "      <td>No</td>\n",
       "    </tr>\n",
       "  </tbody>\n",
       "</table>\n",
       "</div>"
      ],
      "text/plain": [
       "     Child participated in POLIO campaign August 2013  diarrhea_status  \\\n",
       "496                                                 2               No   \n",
       "36                                                  2               No   \n",
       "456                                                 2               No   \n",
       "548                                                 2              Yes   \n",
       "153                                                 2               No   \n",
       "\n",
       "     weight  height residence     Sex  age age_category   education  \\\n",
       "496     4.0    51.2     Rural    MALE    0          0-5  Secondary+   \n",
       "36      5.2    51.0     Rural    MALE    0          0-5     Primary   \n",
       "456     3.2    48.2     Rural  FEMALE    0          0-5     Primary   \n",
       "548     3.5    58.0     Rural    MALE    0          0-5  Secondary+   \n",
       "153     4.1    51.6     Rural  FEMALE    0          0-5  Secondary+   \n",
       "\n",
       "    wealth_index is_adult is-adult  \n",
       "496      Poorest      NaN       No  \n",
       "36        Second      NaN       No  \n",
       "456      Poorest      NaN       No  \n",
       "548       Fourth      NaN       No  \n",
       "153       Fourth      NaN       No  "
      ]
     },
     "execution_count": 41,
     "metadata": {},
     "output_type": "execute_result"
    }
   ],
   "source": [
    "sorted_df=df.sort_values(by='age',ascending=True)\n",
    "sorted_df.head()"
   ]
  },
  {
   "cell_type": "code",
   "execution_count": 44,
   "id": "1963a228-b902-4a25-ab5c-2c7c00a12c08",
   "metadata": {},
   "outputs": [
    {
     "name": "stdout",
     "output_type": "stream",
     "text": [
      "Defaulting to user installation because normal site-packages is not writeable\n",
      "Requirement already satisfied: matplotlib in c:\\programdata\\anaconda3\\lib\\site-packages (3.8.0)\n",
      "Requirement already satisfied: contourpy>=1.0.1 in c:\\programdata\\anaconda3\\lib\\site-packages (from matplotlib) (1.2.0)\n",
      "Requirement already satisfied: cycler>=0.10 in c:\\programdata\\anaconda3\\lib\\site-packages (from matplotlib) (0.11.0)\n",
      "Requirement already satisfied: fonttools>=4.22.0 in c:\\programdata\\anaconda3\\lib\\site-packages (from matplotlib) (4.25.0)\n",
      "Requirement already satisfied: kiwisolver>=1.0.1 in c:\\programdata\\anaconda3\\lib\\site-packages (from matplotlib) (1.4.4)\n",
      "Requirement already satisfied: numpy<2,>=1.21 in c:\\programdata\\anaconda3\\lib\\site-packages (from matplotlib) (1.26.4)\n",
      "Requirement already satisfied: packaging>=20.0 in c:\\programdata\\anaconda3\\lib\\site-packages (from matplotlib) (23.1)\n",
      "Requirement already satisfied: pillow>=6.2.0 in c:\\programdata\\anaconda3\\lib\\site-packages (from matplotlib) (10.2.0)\n",
      "Requirement already satisfied: pyparsing>=2.3.1 in c:\\programdata\\anaconda3\\lib\\site-packages (from matplotlib) (3.0.9)\n",
      "Requirement already satisfied: python-dateutil>=2.7 in c:\\programdata\\anaconda3\\lib\\site-packages (from matplotlib) (2.8.2)\n",
      "Requirement already satisfied: six>=1.5 in c:\\programdata\\anaconda3\\lib\\site-packages (from python-dateutil>=2.7->matplotlib) (1.16.0)\n"
     ]
    }
   ],
   "source": [
    "!pip install matplotlib"
   ]
  },
  {
   "cell_type": "code",
   "execution_count": 27,
   "id": "26c6b3a3-82ed-4f90-a20e-d3da033c9596",
   "metadata": {},
   "outputs": [],
   "source": [
    "import matplotlib.pyplot as plt\n"
   ]
  },
  {
   "cell_type": "code",
   "execution_count": 57,
   "id": "8e728e0f-84dc-40de-b33c-5fbd95246552",
   "metadata": {},
   "outputs": [],
   "source": [
    "Data=pd.read_csv(\"childhealthdata.csv\")"
   ]
  },
  {
   "cell_type": "code",
   "execution_count": 58,
   "id": "2fa04e82-93bc-45e6-8a49-a83aa186fcf4",
   "metadata": {},
   "outputs": [
    {
     "data": {
      "text/plain": [
       "(799, 10)"
      ]
     },
     "execution_count": 58,
     "metadata": {},
     "output_type": "execute_result"
    }
   ],
   "source": [
    "Data.shape"
   ]
  },
  {
   "cell_type": "code",
   "execution_count": 59,
   "id": "bc9d2ced-7273-4d02-8de2-dd46924ec1ac",
   "metadata": {},
   "outputs": [
    {
     "data": {
      "text/plain": [
       "<bound method NDFrame.tail of      Child participated in POLIO campaign August 2013  diarrhea_status  \\\n",
       "0                                                   1               No   \n",
       "1                                                   1               No   \n",
       "2                                                   1               No   \n",
       "3                                                   1               No   \n",
       "4                                                   1               No   \n",
       "..                                                ...              ...   \n",
       "794                                                 1               No   \n",
       "795                                                 2               No   \n",
       "796                                                 1               No   \n",
       "797                                                 1               No   \n",
       "798                                                 1               No   \n",
       "\n",
       "     weight  height residence     Sex  age age_category   education  \\\n",
       "0      16.2   102.4     Rural  Female   45        36-47  Secondary+   \n",
       "1      13.5    92.5     Rural    Male   45        36-47     Primary   \n",
       "2      13.4    88.5     Rural    Male   36        36-47     Primary   \n",
       "3      15.0   101.3     Rural  Female   51        48-59     Primary   \n",
       "4      15.2   105.0     Rural  Female   56        48-59     Primary   \n",
       "..      ...     ...       ...     ...  ...          ...         ...   \n",
       "794     8.3    67.0     Urban  Female    7         6-11     Primary   \n",
       "795     3.5    45.0     Urban    Male    0          0-5  Secondary+   \n",
       "796    15.1    86.0     Urban  Female   56        48-59     Primary   \n",
       "797    10.7    71.2     Urban  Female   18        12-23     Primary   \n",
       "798    10.3    73.0     Urban  Female    7         6-11     Primary   \n",
       "\n",
       "    wealth_index  \n",
       "0        Richest  \n",
       "1         Second  \n",
       "2         Fourth  \n",
       "3         Fourth  \n",
       "4         Fourth  \n",
       "..           ...  \n",
       "794       Fourth  \n",
       "795       Fourth  \n",
       "796       Fourth  \n",
       "797       Fourth  \n",
       "798       Middle  \n",
       "\n",
       "[799 rows x 10 columns]>"
      ]
     },
     "execution_count": 59,
     "metadata": {},
     "output_type": "execute_result"
    }
   ],
   "source": [
    "Data.tail"
   ]
  },
  {
   "cell_type": "code",
   "execution_count": 60,
   "id": "e9be59a2-eabd-4b77-ad3f-664f9afd4519",
   "metadata": {},
   "outputs": [
    {
     "data": {
      "text/plain": [
       "<bound method NDFrame.head of      Child participated in POLIO campaign August 2013  diarrhea_status  \\\n",
       "0                                                   1               No   \n",
       "1                                                   1               No   \n",
       "2                                                   1               No   \n",
       "3                                                   1               No   \n",
       "4                                                   1               No   \n",
       "..                                                ...              ...   \n",
       "794                                                 1               No   \n",
       "795                                                 2               No   \n",
       "796                                                 1               No   \n",
       "797                                                 1               No   \n",
       "798                                                 1               No   \n",
       "\n",
       "     weight  height residence     Sex  age age_category   education  \\\n",
       "0      16.2   102.4     Rural  Female   45        36-47  Secondary+   \n",
       "1      13.5    92.5     Rural    Male   45        36-47     Primary   \n",
       "2      13.4    88.5     Rural    Male   36        36-47     Primary   \n",
       "3      15.0   101.3     Rural  Female   51        48-59     Primary   \n",
       "4      15.2   105.0     Rural  Female   56        48-59     Primary   \n",
       "..      ...     ...       ...     ...  ...          ...         ...   \n",
       "794     8.3    67.0     Urban  Female    7         6-11     Primary   \n",
       "795     3.5    45.0     Urban    Male    0          0-5  Secondary+   \n",
       "796    15.1    86.0     Urban  Female   56        48-59     Primary   \n",
       "797    10.7    71.2     Urban  Female   18        12-23     Primary   \n",
       "798    10.3    73.0     Urban  Female    7         6-11     Primary   \n",
       "\n",
       "    wealth_index  \n",
       "0        Richest  \n",
       "1         Second  \n",
       "2         Fourth  \n",
       "3         Fourth  \n",
       "4         Fourth  \n",
       "..           ...  \n",
       "794       Fourth  \n",
       "795       Fourth  \n",
       "796       Fourth  \n",
       "797       Fourth  \n",
       "798       Middle  \n",
       "\n",
       "[799 rows x 10 columns]>"
      ]
     },
     "execution_count": 60,
     "metadata": {},
     "output_type": "execute_result"
    }
   ],
   "source": [
    "Data.head"
   ]
  },
  {
   "cell_type": "code",
   "execution_count": 62,
   "id": "98c8d249-d645-477a-9be8-5f729234faad",
   "metadata": {},
   "outputs": [
    {
     "data": {
      "text/plain": [
       "Index(['Child participated in POLIO campaign August 2013', ' diarrhea_status',\n",
       "       'weight', 'height', 'residence', 'Sex', 'age', 'age_category',\n",
       "       'education', 'wealth_index'],\n",
       "      dtype='object')"
      ]
     },
     "execution_count": 62,
     "metadata": {},
     "output_type": "execute_result"
    }
   ],
   "source": [
    "Data.columns"
   ]
  },
  {
   "cell_type": "code",
   "execution_count": 67,
   "id": "0560e00b-2435-4576-86f8-b9b3572e8497",
   "metadata": {},
   "outputs": [
    {
     "data": {
      "image/png": "[encoded data removed]",
      "text/plain": [
       "<Figure size 800x600 with 1 Axes>"
      ]
     },
     "metadata": {},
     "output_type": "display_data"
    }
   ],
   "source": [
    "import matplotlib.pyplot as plt\n",
    "gender_counts=Data['Sex'].value_counts()\n",
    "plt.figure(figsize=(8,6))\n",
    "plt.pie(gender_counts,labels=gender_counts.index,\n",
    "autopct='%1.1f%%',startangle=140)\n",
    "plt.title('Distribution by gender')\n",
    "plt.axis('equal')\n",
    "plt.show()"
   ]
  },
  {
   "cell_type": "code",
   "execution_count": 1,
   "id": "36033378-deab-4102-aea9-c9ad1e6abd6d",
   "metadata": {},
   "outputs": [
    {
     "ename": "NameError",
     "evalue": "name 'Data' is not defined",
     "output_type": "error",
     "traceback": [
      "\u001b[1;31m---------------------------------------------------------------------------\u001b[0m",
      "\u001b[1;31mNameError\u001b[0m                                 Traceback (most recent call last)",
      "Cell \u001b[1;32mIn[1], line 1\u001b[0m\n\u001b[1;32m----> 1\u001b[0m education_counts\u001b[38;5;241m=\u001b[39mData[\u001b[38;5;124m'\u001b[39m\u001b[38;5;124meducation\u001b[39m\u001b[38;5;124m'\u001b[39m]\u001b[38;5;241m.\u001b[39mvalue_counts()\n\u001b[0;32m      2\u001b[0m plt\u001b[38;5;241m.\u001b[39mfigure(figsize\u001b[38;5;241m=\u001b[39m(\u001b[38;5;241m6\u001b[39m,\u001b[38;5;241m10\u001b[39m))\n\u001b[0;32m      3\u001b[0m plt\u001b[38;5;241m.\u001b[39mbar(education_counts\u001b[38;5;241m.\u001b[39mindex,education_counts\u001b[38;5;241m.\u001b[39mvalues,\n\u001b[0;32m      4\u001b[0m color\u001b[38;5;241m=\u001b[39m\u001b[38;5;124m'\u001b[39m\u001b[38;5;124mblack\u001b[39m\u001b[38;5;124m'\u001b[39m)\n",
      "\u001b[1;31mNameError\u001b[0m: name 'Data' is not defined"
     ]
    }
   ],
   "source": [
    "education_counts=Data['education'].value_counts()\n",
    "plt.figure(figsize=(6,10))\n",
    "plt.bar(education_counts.index,education_counts.values,\n",
    "color='black')\n",
    "plt.xlabel('education')\n",
    "plt.ylabel('Count')\n",
    "plt.title('Distribution by education')\n",
    "plt.xticks(rotation=45)# Rotate labels if needed for better readability\n",
    "plt.show()"
   ]
  },
  {
   "cell_type": "code",
   "execution_count": 29,
   "id": "1daa15a6-26b2-4ef7-abe5-306832ae1896",
   "metadata": {},
   "outputs": [
    {
     "ename": "KeyError",
     "evalue": "'education'",
     "output_type": "error",
     "traceback": [
      "\u001b[1;31m---------------------------------------------------------------------------\u001b[0m",
      "\u001b[1;31mKeyError\u001b[0m                                  Traceback (most recent call last)",
      "File \u001b[1;32mC:\\ProgramData\\anaconda3\\Lib\\site-packages\\pandas\\core\\indexes\\base.py:3805\u001b[0m, in \u001b[0;36mIndex.get_loc\u001b[1;34m(self, key)\u001b[0m\n\u001b[0;32m   3804\u001b[0m \u001b[38;5;28;01mtry\u001b[39;00m:\n\u001b[1;32m-> 3805\u001b[0m     \u001b[38;5;28;01mreturn\u001b[39;00m \u001b[38;5;28mself\u001b[39m\u001b[38;5;241m.\u001b[39m_engine\u001b[38;5;241m.\u001b[39mget_loc(casted_key)\n\u001b[0;32m   3806\u001b[0m \u001b[38;5;28;01mexcept\u001b[39;00m \u001b[38;5;167;01mKeyError\u001b[39;00m \u001b[38;5;28;01mas\u001b[39;00m err:\n",
      "File \u001b[1;32mindex.pyx:167\u001b[0m, in \u001b[0;36mpandas._libs.index.IndexEngine.get_loc\u001b[1;34m()\u001b[0m\n",
      "File \u001b[1;32mindex.pyx:196\u001b[0m, in \u001b[0;36mpandas._libs.index.IndexEngine.get_loc\u001b[1;34m()\u001b[0m\n",
      "File \u001b[1;32mpandas\\\\_libs\\\\hashtable_class_helper.pxi:7081\u001b[0m, in \u001b[0;36mpandas._libs.hashtable.PyObjectHashTable.get_item\u001b[1;34m()\u001b[0m\n",
      "File \u001b[1;32mpandas\\\\_libs\\\\hashtable_class_helper.pxi:7089\u001b[0m, in \u001b[0;36mpandas._libs.hashtable.PyObjectHashTable.get_item\u001b[1;34m()\u001b[0m\n",
      "\u001b[1;31mKeyError\u001b[0m: 'education'",
      "\nThe above exception was the direct cause of the following exception:\n",
      "\u001b[1;31mKeyError\u001b[0m                                  Traceback (most recent call last)",
      "Cell \u001b[1;32mIn[29], line 1\u001b[0m\n\u001b[1;32m----> 1\u001b[0m education_counts\u001b[38;5;241m=\u001b[39mdf[\u001b[38;5;124m'\u001b[39m\u001b[38;5;124meducation\u001b[39m\u001b[38;5;124m'\u001b[39m]\u001b[38;5;241m.\u001b[39mvalue_counts()\n\u001b[0;32m      2\u001b[0m plt\u001b[38;5;241m.\u001b[39mfigure(figsize\u001b[38;5;241m=\u001b[39m(\u001b[38;5;241m15\u001b[39m,\u001b[38;5;241m20\u001b[39m))\n\u001b[0;32m      3\u001b[0m plt\u001b[38;5;241m.\u001b[39mhist(Data[\u001b[38;5;124m'\u001b[39m\u001b[38;5;124mage\u001b[39m\u001b[38;5;124m'\u001b[39m],bins\u001b[38;5;241m=\u001b[39m\u001b[38;5;241m10\u001b[39m,color\u001b[38;5;241m=\u001b[39m\u001b[38;5;124m'\u001b[39m\u001b[38;5;124mskyblue\u001b[39m\u001b[38;5;124m'\u001b[39m,edgecolor\u001b[38;5;241m=\u001b[39m\u001b[38;5;124m'\u001b[39m\u001b[38;5;124mblack\u001b[39m\u001b[38;5;124m'\u001b[39m)\n",
      "File \u001b[1;32mC:\\ProgramData\\anaconda3\\Lib\\site-packages\\pandas\\core\\frame.py:4102\u001b[0m, in \u001b[0;36mDataFrame.__getitem__\u001b[1;34m(self, key)\u001b[0m\n\u001b[0;32m   4100\u001b[0m \u001b[38;5;28;01mif\u001b[39;00m \u001b[38;5;28mself\u001b[39m\u001b[38;5;241m.\u001b[39mcolumns\u001b[38;5;241m.\u001b[39mnlevels \u001b[38;5;241m>\u001b[39m \u001b[38;5;241m1\u001b[39m:\n\u001b[0;32m   4101\u001b[0m     \u001b[38;5;28;01mreturn\u001b[39;00m \u001b[38;5;28mself\u001b[39m\u001b[38;5;241m.\u001b[39m_getitem_multilevel(key)\n\u001b[1;32m-> 4102\u001b[0m indexer \u001b[38;5;241m=\u001b[39m \u001b[38;5;28mself\u001b[39m\u001b[38;5;241m.\u001b[39mcolumns\u001b[38;5;241m.\u001b[39mget_loc(key)\n\u001b[0;32m   4103\u001b[0m \u001b[38;5;28;01mif\u001b[39;00m is_integer(indexer):\n\u001b[0;32m   4104\u001b[0m     indexer \u001b[38;5;241m=\u001b[39m [indexer]\n",
      "File \u001b[1;32mC:\\ProgramData\\anaconda3\\Lib\\site-packages\\pandas\\core\\indexes\\base.py:3812\u001b[0m, in \u001b[0;36mIndex.get_loc\u001b[1;34m(self, key)\u001b[0m\n\u001b[0;32m   3807\u001b[0m     \u001b[38;5;28;01mif\u001b[39;00m \u001b[38;5;28misinstance\u001b[39m(casted_key, \u001b[38;5;28mslice\u001b[39m) \u001b[38;5;129;01mor\u001b[39;00m (\n\u001b[0;32m   3808\u001b[0m         \u001b[38;5;28misinstance\u001b[39m(casted_key, abc\u001b[38;5;241m.\u001b[39mIterable)\n\u001b[0;32m   3809\u001b[0m         \u001b[38;5;129;01mand\u001b[39;00m \u001b[38;5;28many\u001b[39m(\u001b[38;5;28misinstance\u001b[39m(x, \u001b[38;5;28mslice\u001b[39m) \u001b[38;5;28;01mfor\u001b[39;00m x \u001b[38;5;129;01min\u001b[39;00m casted_key)\n\u001b[0;32m   3810\u001b[0m     ):\n\u001b[0;32m   3811\u001b[0m         \u001b[38;5;28;01mraise\u001b[39;00m InvalidIndexError(key)\n\u001b[1;32m-> 3812\u001b[0m     \u001b[38;5;28;01mraise\u001b[39;00m \u001b[38;5;167;01mKeyError\u001b[39;00m(key) \u001b[38;5;28;01mfrom\u001b[39;00m \u001b[38;5;21;01merr\u001b[39;00m\n\u001b[0;32m   3813\u001b[0m \u001b[38;5;28;01mexcept\u001b[39;00m \u001b[38;5;167;01mTypeError\u001b[39;00m:\n\u001b[0;32m   3814\u001b[0m     \u001b[38;5;66;03m# If we have a listlike key, _check_indexing_error will raise\u001b[39;00m\n\u001b[0;32m   3815\u001b[0m     \u001b[38;5;66;03m#  InvalidIndexError. Otherwise we fall through and re-raise\u001b[39;00m\n\u001b[0;32m   3816\u001b[0m     \u001b[38;5;66;03m#  the TypeError.\u001b[39;00m\n\u001b[0;32m   3817\u001b[0m     \u001b[38;5;28mself\u001b[39m\u001b[38;5;241m.\u001b[39m_check_indexing_error(key)\n",
      "\u001b[1;31mKeyError\u001b[0m: 'education'"
     ]
    }
   ],
   "source": [
    "education_counts=df['education'].value_counts()\n",
    "plt.figure(figsize=(15,20))\n",
    "plt.hist(Data['age'],bins=10,color='skyblue',edgecolor='black')\n",
    "plt.title('Distribution of age')\n",
    "plt.xlabel('Age')\n",
    "plt.ylabel('Frequency')\n",
    "plt.show()"
   ]
  },
  {
   "cell_type": "code",
   "execution_count": null,
   "id": "54af16ad-ac7c-41fc-9deb-707dc8ee6e72",
   "metadata": {},
   "outputs": [],
   "source": [
    "data={\n",
    "  'month':['January','February','March','April','May','June','July','August','September','October','November','December'],\n",
    "  'reported_cases':[90,80,70,75,90,85,100,140]}\n",
    "\n",
    " df=pd.DataFrame(data) \n",
    " plt.figure(figsize=(10,6))\n",
    " plt.plot(df['month'],df['reported_cases'],marker='o')\n",
    " plt.xlable('Month')\n",
    " plt.ylable('Reported Cases')\n",
    " plt.title('Reported Cases Over Time')\n",
    " plt.grid(True)\n",
    " plt.xticks(rotation=45)  \n",
    " plt.show()\n",
    "         "
   ]
  },
  {
   "cell_type": "code",
   "execution_count": 30,
   "id": "c65b4d7e-eb3d-4c1a-9134-4a463b3df476",
   "metadata": {},
   "outputs": [
    {
     "ename": "ValueError",
     "evalue": "All arrays must be of the same length",
     "output_type": "error",
     "traceback": [
      "\u001b[1;31m---------------------------------------------------------------------------\u001b[0m",
      "\u001b[1;31mValueError\u001b[0m                                Traceback (most recent call last)",
      "Cell \u001b[1;32mIn[30], line 7\u001b[0m\n\u001b[0;32m      1\u001b[0m data \u001b[38;5;241m=\u001b[39m {\n\u001b[0;32m      2\u001b[0m  \u001b[38;5;124m'\u001b[39m\u001b[38;5;124mmonth\u001b[39m\u001b[38;5;124m'\u001b[39m:[\u001b[38;5;124m'\u001b[39m\u001b[38;5;124mJanuary\u001b[39m\u001b[38;5;124m'\u001b[39m,\u001b[38;5;124m'\u001b[39m\u001b[38;5;124mFebruary\u001b[39m\u001b[38;5;124m'\u001b[39m,\u001b[38;5;124m'\u001b[39m\u001b[38;5;124mMarch\u001b[39m\u001b[38;5;124m'\u001b[39m,\u001b[38;5;124m'\u001b[39m\u001b[38;5;124mApril\u001b[39m\u001b[38;5;124m'\u001b[39m,\u001b[38;5;124m'\u001b[39m\u001b[38;5;124mMay\u001b[39m\u001b[38;5;124m'\u001b[39m,\u001b[38;5;124m'\u001b[39m\u001b[38;5;124mJune\u001b[39m\u001b[38;5;124m'\u001b[39m,\u001b[38;5;124m'\u001b[39m\u001b[38;5;124mJuly\u001b[39m\u001b[38;5;124m'\u001b[39m,\u001b[38;5;124m'\u001b[39m\u001b[38;5;124mAugust\u001b[39m\u001b[38;5;124m'\u001b[39m,\u001b[38;5;124m'\u001b[39m\u001b[38;5;124mSeptember\u001b[39m\u001b[38;5;124m'\u001b[39m,\u001b[38;5;124m'\u001b[39m\u001b[38;5;124mOctober\u001b[39m\u001b[38;5;124m'\u001b[39m,\n\u001b[0;32m      3\u001b[0m  \u001b[38;5;124m'\u001b[39m\u001b[38;5;124mNovember\u001b[39m\u001b[38;5;124m'\u001b[39m,\u001b[38;5;124m'\u001b[39m\u001b[38;5;124mDecember\u001b[39m\u001b[38;5;124m'\u001b[39m],\n\u001b[0;32m      4\u001b[0m \u001b[38;5;124m'\u001b[39m\u001b[38;5;124mreported_cases\u001b[39m\u001b[38;5;124m'\u001b[39m:[\u001b[38;5;241m90\u001b[39m,\u001b[38;5;241m80\u001b[39m,\u001b[38;5;241m70\u001b[39m,\u001b[38;5;241m75\u001b[39m,\u001b[38;5;241m90\u001b[39m,\u001b[38;5;241m85\u001b[39m,\u001b[38;5;241m100\u001b[39m,\u001b[38;5;241m140\u001b[39m] \n\u001b[0;32m      5\u001b[0m  }\n\u001b[1;32m----> 7\u001b[0m df \u001b[38;5;241m=\u001b[39m pd\u001b[38;5;241m.\u001b[39mDataFrame(data) \n\u001b[0;32m      9\u001b[0m plt\u001b[38;5;241m.\u001b[39mfigure(figsize\u001b[38;5;241m=\u001b[39m(\u001b[38;5;241m10\u001b[39m,\u001b[38;5;241m6\u001b[39m))\n\u001b[0;32m     10\u001b[0m plt\u001b[38;5;241m.\u001b[39mplot(df[\u001b[38;5;124m'\u001b[39m\u001b[38;5;124mmonth\u001b[39m\u001b[38;5;124m'\u001b[39m],df[\u001b[38;5;124m'\u001b[39m\u001b[38;5;124mreported_cases\u001b[39m\u001b[38;5;124m'\u001b[39m],marker\u001b[38;5;241m=\u001b[39m\u001b[38;5;124m'\u001b[39m\u001b[38;5;124mo\u001b[39m\u001b[38;5;124m'\u001b[39m)\n",
      "File \u001b[1;32mC:\\ProgramData\\anaconda3\\Lib\\site-packages\\pandas\\core\\frame.py:778\u001b[0m, in \u001b[0;36mDataFrame.__init__\u001b[1;34m(self, data, index, columns, dtype, copy)\u001b[0m\n\u001b[0;32m    772\u001b[0m     mgr \u001b[38;5;241m=\u001b[39m \u001b[38;5;28mself\u001b[39m\u001b[38;5;241m.\u001b[39m_init_mgr(\n\u001b[0;32m    773\u001b[0m         data, axes\u001b[38;5;241m=\u001b[39m{\u001b[38;5;124m\"\u001b[39m\u001b[38;5;124mindex\u001b[39m\u001b[38;5;124m\"\u001b[39m: index, \u001b[38;5;124m\"\u001b[39m\u001b[38;5;124mcolumns\u001b[39m\u001b[38;5;124m\"\u001b[39m: columns}, dtype\u001b[38;5;241m=\u001b[39mdtype, copy\u001b[38;5;241m=\u001b[39mcopy\n\u001b[0;32m    774\u001b[0m     )\n\u001b[0;32m    776\u001b[0m \u001b[38;5;28;01melif\u001b[39;00m \u001b[38;5;28misinstance\u001b[39m(data, \u001b[38;5;28mdict\u001b[39m):\n\u001b[0;32m    777\u001b[0m     \u001b[38;5;66;03m# GH#38939 de facto copy defaults to False only in non-dict cases\u001b[39;00m\n\u001b[1;32m--> 778\u001b[0m     mgr \u001b[38;5;241m=\u001b[39m dict_to_mgr(data, index, columns, dtype\u001b[38;5;241m=\u001b[39mdtype, copy\u001b[38;5;241m=\u001b[39mcopy, typ\u001b[38;5;241m=\u001b[39mmanager)\n\u001b[0;32m    779\u001b[0m \u001b[38;5;28;01melif\u001b[39;00m \u001b[38;5;28misinstance\u001b[39m(data, ma\u001b[38;5;241m.\u001b[39mMaskedArray):\n\u001b[0;32m    780\u001b[0m     \u001b[38;5;28;01mfrom\u001b[39;00m \u001b[38;5;21;01mnumpy\u001b[39;00m\u001b[38;5;21;01m.\u001b[39;00m\u001b[38;5;21;01mma\u001b[39;00m \u001b[38;5;28;01mimport\u001b[39;00m mrecords\n",
      "File \u001b[1;32mC:\\ProgramData\\anaconda3\\Lib\\site-packages\\pandas\\core\\internals\\construction.py:503\u001b[0m, in \u001b[0;36mdict_to_mgr\u001b[1;34m(data, index, columns, dtype, typ, copy)\u001b[0m\n\u001b[0;32m    499\u001b[0m     \u001b[38;5;28;01melse\u001b[39;00m:\n\u001b[0;32m    500\u001b[0m         \u001b[38;5;66;03m# dtype check to exclude e.g. range objects, scalars\u001b[39;00m\n\u001b[0;32m    501\u001b[0m         arrays \u001b[38;5;241m=\u001b[39m [x\u001b[38;5;241m.\u001b[39mcopy() \u001b[38;5;28;01mif\u001b[39;00m \u001b[38;5;28mhasattr\u001b[39m(x, \u001b[38;5;124m\"\u001b[39m\u001b[38;5;124mdtype\u001b[39m\u001b[38;5;124m\"\u001b[39m) \u001b[38;5;28;01melse\u001b[39;00m x \u001b[38;5;28;01mfor\u001b[39;00m x \u001b[38;5;129;01min\u001b[39;00m arrays]\n\u001b[1;32m--> 503\u001b[0m \u001b[38;5;28;01mreturn\u001b[39;00m arrays_to_mgr(arrays, columns, index, dtype\u001b[38;5;241m=\u001b[39mdtype, typ\u001b[38;5;241m=\u001b[39mtyp, consolidate\u001b[38;5;241m=\u001b[39mcopy)\n",
      "File \u001b[1;32mC:\\ProgramData\\anaconda3\\Lib\\site-packages\\pandas\\core\\internals\\construction.py:114\u001b[0m, in \u001b[0;36marrays_to_mgr\u001b[1;34m(arrays, columns, index, dtype, verify_integrity, typ, consolidate)\u001b[0m\n\u001b[0;32m    111\u001b[0m \u001b[38;5;28;01mif\u001b[39;00m verify_integrity:\n\u001b[0;32m    112\u001b[0m     \u001b[38;5;66;03m# figure out the index, if necessary\u001b[39;00m\n\u001b[0;32m    113\u001b[0m     \u001b[38;5;28;01mif\u001b[39;00m index \u001b[38;5;129;01mis\u001b[39;00m \u001b[38;5;28;01mNone\u001b[39;00m:\n\u001b[1;32m--> 114\u001b[0m         index \u001b[38;5;241m=\u001b[39m _extract_index(arrays)\n\u001b[0;32m    115\u001b[0m     \u001b[38;5;28;01melse\u001b[39;00m:\n\u001b[0;32m    116\u001b[0m         index \u001b[38;5;241m=\u001b[39m ensure_index(index)\n",
      "File \u001b[1;32mC:\\ProgramData\\anaconda3\\Lib\\site-packages\\pandas\\core\\internals\\construction.py:677\u001b[0m, in \u001b[0;36m_extract_index\u001b[1;34m(data)\u001b[0m\n\u001b[0;32m    675\u001b[0m lengths \u001b[38;5;241m=\u001b[39m \u001b[38;5;28mlist\u001b[39m(\u001b[38;5;28mset\u001b[39m(raw_lengths))\n\u001b[0;32m    676\u001b[0m \u001b[38;5;28;01mif\u001b[39;00m \u001b[38;5;28mlen\u001b[39m(lengths) \u001b[38;5;241m>\u001b[39m \u001b[38;5;241m1\u001b[39m:\n\u001b[1;32m--> 677\u001b[0m     \u001b[38;5;28;01mraise\u001b[39;00m \u001b[38;5;167;01mValueError\u001b[39;00m(\u001b[38;5;124m\"\u001b[39m\u001b[38;5;124mAll arrays must be of the same length\u001b[39m\u001b[38;5;124m\"\u001b[39m)\n\u001b[0;32m    679\u001b[0m \u001b[38;5;28;01mif\u001b[39;00m have_dicts:\n\u001b[0;32m    680\u001b[0m     \u001b[38;5;28;01mraise\u001b[39;00m \u001b[38;5;167;01mValueError\u001b[39;00m(\n\u001b[0;32m    681\u001b[0m         \u001b[38;5;124m\"\u001b[39m\u001b[38;5;124mMixing dicts with non-Series may lead to ambiguous ordering.\u001b[39m\u001b[38;5;124m\"\u001b[39m\n\u001b[0;32m    682\u001b[0m     )\n",
      "\u001b[1;31mValueError\u001b[0m: All arrays must be of the same length"
     ]
    }
   ],
   "source": [
    "data = {\n",
    " 'month':['January','February','March','April','May','June','July','August','September','October',\n",
    " 'November','December'],\n",
    "'reported_cases':[90,80,70,75,90,85,100,140] \n",
    " }\n",
    "\n",
    "df = pd.DataFrame(data) \n",
    "\n",
    "plt.figure(figsize=(10,6))\n",
    "plt.plot(df['month'],df['reported_cases'],marker='o')\n",
    "plt.xlable('Month')\n",
    "plt.ylable('Reported Cases')\n",
    "plt.title('Reported Cases Over Time')\n",
    "plt.grid(True)\n",
    "plt.xticks(rotation=45)  \n",
    "plt.show()\n",
    "         "
   ]
  },
  {
   "cell_type": "code",
   "execution_count": 31,
   "id": "793ddab9-7bdd-43b0-a34d-6eb34a6ad853",
   "metadata": {},
   "outputs": [
    {
     "name": "stdout",
     "output_type": "stream",
     "text": [
      "201.41666666666666\n"
     ]
    }
   ],
   "source": [
    "m=[182,199,160,227,173,210,227,205,275,208,169,182]\n",
    "average_cholestral_level=sum(m)/12\n",
    "print(average_cholestral_level)\n"
   ]
  },
  {
   "cell_type": "code",
   "execution_count": 48,
   "id": "e4cedd80-8cc0-43ce-b78d-c15794188236",
   "metadata": {},
   "outputs": [
    {
     "name": "stdout",
     "output_type": "stream",
     "text": [
      "201.41666666666666\n"
     ]
    }
   ],
   "source": [
    "import numpy as np\n",
    "m=[182,199,160,227,173,210,227,205,275,208,169,182]\n",
    "mean_cholestral=np.mean(m)\n",
    "print(mean_cholestral)"
   ]
  },
  {
   "cell_type": "code",
   "execution_count": 45,
   "id": "2e7c69a9-a7bd-4362-9a39-cee94c3a1cea",
   "metadata": {},
   "outputs": [
    {
     "data": {
      "text/html": [
       "<div>\n",
       "<style scoped>\n",
       "    .dataframe tbody tr th:only-of-type {\n",
       "        vertical-align: middle;\n",
       "    }\n",
       "\n",
       "    .dataframe tbody tr th {\n",
       "        vertical-align: top;\n",
       "    }\n",
       "\n",
       "    .dataframe thead th {\n",
       "        text-align: right;\n",
       "    }\n",
       "</style>\n",
       "<table border=\"1\" class=\"dataframe\">\n",
       "  <thead>\n",
       "    <tr style=\"text-align: right;\">\n",
       "      <th></th>\n",
       "      <th>Child participated in POLIO campaign August 2013</th>\n",
       "      <th>diarrhea_status</th>\n",
       "      <th>weight</th>\n",
       "      <th>height</th>\n",
       "      <th>residence</th>\n",
       "      <th>Sex</th>\n",
       "      <th>age</th>\n",
       "      <th>age_category</th>\n",
       "      <th>education</th>\n",
       "      <th>wealth_index</th>\n",
       "    </tr>\n",
       "  </thead>\n",
       "  <tbody>\n",
       "    <tr>\n",
       "      <th>794</th>\n",
       "      <td>1</td>\n",
       "      <td>No</td>\n",
       "      <td>8.3</td>\n",
       "      <td>67.0</td>\n",
       "      <td>Urban</td>\n",
       "      <td>Female</td>\n",
       "      <td>7</td>\n",
       "      <td>6-11</td>\n",
       "      <td>Primary</td>\n",
       "      <td>Fourth</td>\n",
       "    </tr>\n",
       "    <tr>\n",
       "      <th>795</th>\n",
       "      <td>2</td>\n",
       "      <td>No</td>\n",
       "      <td>3.5</td>\n",
       "      <td>45.0</td>\n",
       "      <td>Urban</td>\n",
       "      <td>Male</td>\n",
       "      <td>0</td>\n",
       "      <td>0-5</td>\n",
       "      <td>Secondary+</td>\n",
       "      <td>Fourth</td>\n",
       "    </tr>\n",
       "    <tr>\n",
       "      <th>796</th>\n",
       "      <td>1</td>\n",
       "      <td>No</td>\n",
       "      <td>15.1</td>\n",
       "      <td>86.0</td>\n",
       "      <td>Urban</td>\n",
       "      <td>Female</td>\n",
       "      <td>56</td>\n",
       "      <td>48-59</td>\n",
       "      <td>Primary</td>\n",
       "      <td>Fourth</td>\n",
       "    </tr>\n",
       "    <tr>\n",
       "      <th>797</th>\n",
       "      <td>1</td>\n",
       "      <td>No</td>\n",
       "      <td>10.7</td>\n",
       "      <td>71.2</td>\n",
       "      <td>Urban</td>\n",
       "      <td>Female</td>\n",
       "      <td>18</td>\n",
       "      <td>12-23</td>\n",
       "      <td>Primary</td>\n",
       "      <td>Fourth</td>\n",
       "    </tr>\n",
       "    <tr>\n",
       "      <th>798</th>\n",
       "      <td>1</td>\n",
       "      <td>No</td>\n",
       "      <td>10.3</td>\n",
       "      <td>73.0</td>\n",
       "      <td>Urban</td>\n",
       "      <td>Female</td>\n",
       "      <td>7</td>\n",
       "      <td>6-11</td>\n",
       "      <td>Primary</td>\n",
       "      <td>Middle</td>\n",
       "    </tr>\n",
       "  </tbody>\n",
       "</table>\n",
       "</div>"
      ],
      "text/plain": [
       "     Child participated in POLIO campaign August 2013  diarrhea_status  \\\n",
       "794                                                 1               No   \n",
       "795                                                 2               No   \n",
       "796                                                 1               No   \n",
       "797                                                 1               No   \n",
       "798                                                 1               No   \n",
       "\n",
       "     weight  height residence     Sex  age age_category   education  \\\n",
       "794     8.3    67.0     Urban  Female    7         6-11     Primary   \n",
       "795     3.5    45.0     Urban    Male    0          0-5  Secondary+   \n",
       "796    15.1    86.0     Urban  Female   56        48-59     Primary   \n",
       "797    10.7    71.2     Urban  Female   18        12-23     Primary   \n",
       "798    10.3    73.0     Urban  Female    7         6-11     Primary   \n",
       "\n",
       "    wealth_index  \n",
       "794       Fourth  \n",
       "795       Fourth  \n",
       "796       Fourth  \n",
       "797       Fourth  \n",
       "798       Middle  "
      ]
     },
     "execution_count": 45,
     "metadata": {},
     "output_type": "execute_result"
    }
   ],
   "source": [
    "import pandas as pd\n",
    "df=pd.read_csv(\"childhealthdata.csv\")\n",
    "#from scipy import stats\n",
    "#from google.colab import files\n",
    "#upload=files.upload()\n",
    "df.tail()\n"
   ]
  },
  {
   "cell_type": "code",
   "execution_count": 22,
   "id": "f9f243f3-830b-460d-ac4a-f5819081d12a",
   "metadata": {},
   "outputs": [
    {
     "data": {
      "text/html": [
       "<div>\n",
       "<style scoped>\n",
       "    .dataframe tbody tr th:only-of-type {\n",
       "        vertical-align: middle;\n",
       "    }\n",
       "\n",
       "    .dataframe tbody tr th {\n",
       "        vertical-align: top;\n",
       "    }\n",
       "\n",
       "    .dataframe thead th {\n",
       "        text-align: right;\n",
       "    }\n",
       "</style>\n",
       "<table border=\"1\" class=\"dataframe\">\n",
       "  <thead>\n",
       "    <tr style=\"text-align: right;\">\n",
       "      <th></th>\n",
       "      <th>Child participated in POLIO campaign August 2013</th>\n",
       "      <th>diarrhea_status</th>\n",
       "      <th>weight</th>\n",
       "      <th>height</th>\n",
       "      <th>residence</th>\n",
       "      <th>Sex</th>\n",
       "      <th>age</th>\n",
       "      <th>age_category</th>\n",
       "      <th>education</th>\n",
       "      <th>wealth_index</th>\n",
       "    </tr>\n",
       "  </thead>\n",
       "  <tbody>\n",
       "    <tr>\n",
       "      <th>0</th>\n",
       "      <td>1</td>\n",
       "      <td>No</td>\n",
       "      <td>16.2</td>\n",
       "      <td>102.4</td>\n",
       "      <td>Rural</td>\n",
       "      <td>Female</td>\n",
       "      <td>45</td>\n",
       "      <td>36-47</td>\n",
       "      <td>Secondary+</td>\n",
       "      <td>Richest</td>\n",
       "    </tr>\n",
       "    <tr>\n",
       "      <th>1</th>\n",
       "      <td>1</td>\n",
       "      <td>No</td>\n",
       "      <td>13.5</td>\n",
       "      <td>92.5</td>\n",
       "      <td>Rural</td>\n",
       "      <td>Male</td>\n",
       "      <td>45</td>\n",
       "      <td>36-47</td>\n",
       "      <td>Primary</td>\n",
       "      <td>Second</td>\n",
       "    </tr>\n",
       "    <tr>\n",
       "      <th>2</th>\n",
       "      <td>1</td>\n",
       "      <td>No</td>\n",
       "      <td>13.4</td>\n",
       "      <td>88.5</td>\n",
       "      <td>Rural</td>\n",
       "      <td>Male</td>\n",
       "      <td>36</td>\n",
       "      <td>36-47</td>\n",
       "      <td>Primary</td>\n",
       "      <td>Fourth</td>\n",
       "    </tr>\n",
       "    <tr>\n",
       "      <th>3</th>\n",
       "      <td>1</td>\n",
       "      <td>No</td>\n",
       "      <td>15.0</td>\n",
       "      <td>101.3</td>\n",
       "      <td>Rural</td>\n",
       "      <td>Female</td>\n",
       "      <td>51</td>\n",
       "      <td>48-59</td>\n",
       "      <td>Primary</td>\n",
       "      <td>Fourth</td>\n",
       "    </tr>\n",
       "    <tr>\n",
       "      <th>4</th>\n",
       "      <td>1</td>\n",
       "      <td>No</td>\n",
       "      <td>15.2</td>\n",
       "      <td>105.0</td>\n",
       "      <td>Rural</td>\n",
       "      <td>Female</td>\n",
       "      <td>56</td>\n",
       "      <td>48-59</td>\n",
       "      <td>Primary</td>\n",
       "      <td>Fourth</td>\n",
       "    </tr>\n",
       "  </tbody>\n",
       "</table>\n",
       "</div>"
      ],
      "text/plain": [
       "   Child participated in POLIO campaign August 2013  diarrhea_status  weight  \\\n",
       "0                                                 1               No    16.2   \n",
       "1                                                 1               No    13.5   \n",
       "2                                                 1               No    13.4   \n",
       "3                                                 1               No    15.0   \n",
       "4                                                 1               No    15.2   \n",
       "\n",
       "   height residence     Sex  age age_category   education wealth_index  \n",
       "0   102.4     Rural  Female   45        36-47  Secondary+      Richest  \n",
       "1    92.5     Rural    Male   45        36-47     Primary       Second  \n",
       "2    88.5     Rural    Male   36        36-47     Primary       Fourth  \n",
       "3   101.3     Rural  Female   51        48-59     Primary       Fourth  \n",
       "4   105.0     Rural  Female   56        48-59     Primary       Fourth  "
      ]
     },
     "execution_count": 22,
     "metadata": {},
     "output_type": "execute_result"
    }
   ],
   "source": [
    "import pandas as pd\n",
    "df=pd.read_csv(\"childhealthdata.csv\")\n",
    "#from scipy import stats\n",
    "#from google.colab import files\n",
    "#upload=files.upload()\n",
    "df.head()\n"
   ]
  },
  {
   "cell_type": "code",
   "execution_count": 15,
   "id": "45d5e394-1269-4145-a079-c7cabcd22bab",
   "metadata": {},
   "outputs": [
    {
     "data": {
      "text/html": [
       "<div>\n",
       "<style scoped>\n",
       "    .dataframe tbody tr th:only-of-type {\n",
       "        vertical-align: middle;\n",
       "    }\n",
       "\n",
       "    .dataframe tbody tr th {\n",
       "        vertical-align: top;\n",
       "    }\n",
       "\n",
       "    .dataframe thead th {\n",
       "        text-align: right;\n",
       "    }\n",
       "</style>\n",
       "<table border=\"1\" class=\"dataframe\">\n",
       "  <thead>\n",
       "    <tr style=\"text-align: right;\">\n",
       "      <th></th>\n",
       "      <th>Child participated in POLIO campaign August 2013</th>\n",
       "      <th>diarrhea_status</th>\n",
       "      <th>weight</th>\n",
       "      <th>height</th>\n",
       "      <th>residence</th>\n",
       "      <th>Sex</th>\n",
       "      <th>age</th>\n",
       "      <th>age_category</th>\n",
       "      <th>education</th>\n",
       "      <th>wealth_index</th>\n",
       "    </tr>\n",
       "  </thead>\n",
       "  <tbody>\n",
       "    <tr>\n",
       "      <th>0</th>\n",
       "      <td>1</td>\n",
       "      <td>No</td>\n",
       "      <td>16.2</td>\n",
       "      <td>102.4</td>\n",
       "      <td>Rural</td>\n",
       "      <td>Female</td>\n",
       "      <td>45</td>\n",
       "      <td>36-47</td>\n",
       "      <td>Secondary+</td>\n",
       "      <td>Richest</td>\n",
       "    </tr>\n",
       "    <tr>\n",
       "      <th>1</th>\n",
       "      <td>1</td>\n",
       "      <td>No</td>\n",
       "      <td>13.5</td>\n",
       "      <td>92.5</td>\n",
       "      <td>Rural</td>\n",
       "      <td>Male</td>\n",
       "      <td>45</td>\n",
       "      <td>36-47</td>\n",
       "      <td>Primary</td>\n",
       "      <td>Second</td>\n",
       "    </tr>\n",
       "    <tr>\n",
       "      <th>2</th>\n",
       "      <td>1</td>\n",
       "      <td>No</td>\n",
       "      <td>13.4</td>\n",
       "      <td>88.5</td>\n",
       "      <td>Rural</td>\n",
       "      <td>Male</td>\n",
       "      <td>36</td>\n",
       "      <td>36-47</td>\n",
       "      <td>Primary</td>\n",
       "      <td>Fourth</td>\n",
       "    </tr>\n",
       "    <tr>\n",
       "      <th>3</th>\n",
       "      <td>1</td>\n",
       "      <td>No</td>\n",
       "      <td>15.0</td>\n",
       "      <td>101.3</td>\n",
       "      <td>Rural</td>\n",
       "      <td>Female</td>\n",
       "      <td>51</td>\n",
       "      <td>48-59</td>\n",
       "      <td>Primary</td>\n",
       "      <td>Fourth</td>\n",
       "    </tr>\n",
       "    <tr>\n",
       "      <th>4</th>\n",
       "      <td>1</td>\n",
       "      <td>No</td>\n",
       "      <td>15.2</td>\n",
       "      <td>105.0</td>\n",
       "      <td>Rural</td>\n",
       "      <td>Female</td>\n",
       "      <td>56</td>\n",
       "      <td>48-59</td>\n",
       "      <td>Primary</td>\n",
       "      <td>Fourth</td>\n",
       "    </tr>\n",
       "  </tbody>\n",
       "</table>\n",
       "</div>"
      ],
      "text/plain": [
       "   Child participated in POLIO campaign August 2013  diarrhea_status  weight  \\\n",
       "0                                                 1               No    16.2   \n",
       "1                                                 1               No    13.5   \n",
       "2                                                 1               No    13.4   \n",
       "3                                                 1               No    15.0   \n",
       "4                                                 1               No    15.2   \n",
       "\n",
       "   height residence     Sex  age age_category   education wealth_index  \n",
       "0   102.4     Rural  Female   45        36-47  Secondary+      Richest  \n",
       "1    92.5     Rural    Male   45        36-47     Primary       Second  \n",
       "2    88.5     Rural    Male   36        36-47     Primary       Fourth  \n",
       "3   101.3     Rural  Female   51        48-59     Primary       Fourth  \n",
       "4   105.0     Rural  Female   56        48-59     Primary       Fourth  "
      ]
     },
     "execution_count": 15,
     "metadata": {},
     "output_type": "execute_result"
    }
   ],
   "source": [
    "import pandas as pd\n",
    "df=pd.read_csv(\"childhealthdata.csv\")\n",
    "df.head()"
   ]
  },
  {
   "cell_type": "code",
   "execution_count": 48,
   "id": "f1ea9673-93ae-4df5-b63c-509590c9c6a7",
   "metadata": {},
   "outputs": [
    {
     "name": "stdout",
     "output_type": "stream",
     "text": [
      "11.591113892365458\n"
     ]
    }
   ],
   "source": [
    "df=pd.read_csv(\"childhealthdata.csv\")\n",
    "mean_weight=df[\"weight\"].mean()\n",
    "print(mean_weight)"
   ]
  },
  {
   "cell_type": "code",
   "execution_count": 25,
   "id": "edcb4adf-7863-422d-8ce8-d453a77d2a62",
   "metadata": {},
   "outputs": [
    {
     "name": "stdout",
     "output_type": "stream",
     "text": [
      "12\n"
     ]
    }
   ],
   "source": [
    "mean_weight=round(df[\"weight\"].mean())\n",
    "print(mean_weight)"
   ]
  },
  {
   "cell_type": "code",
   "execution_count": 31,
   "id": "b6f13489-02f2-404a-a1e8-44b8005cc494",
   "metadata": {},
   "outputs": [
    {
     "name": "stdout",
     "output_type": "stream",
     "text": [
      "0    11.2\n",
      "1    11.7\n",
      "2    12.0\n",
      "Name: weight, dtype: float64\n"
     ]
    }
   ],
   "source": [
    "df=pd.read_csv(\"childhealthdata.csv\")\n",
    "mode_weight=df[\"weight\"].mode()\n",
    "print(mode_weight)"
   ]
  },
  {
   "cell_type": "code",
   "execution_count": 47,
   "id": "3fd6b91b-97eb-46c1-abb2-7410a9b2910b",
   "metadata": {},
   "outputs": [
    {
     "name": "stdout",
     "output_type": "stream",
     "text": [
      "83.85857321652065\n"
     ]
    }
   ],
   "source": [
    "df=pd.read_csv(\"childhealthdata.csv\")\n",
    "mean_height=df[\"height\"].mean()\n",
    "print(mean_height)"
   ]
  },
  {
   "cell_type": "code",
   "execution_count": 29,
   "id": "1205feb9-ca98-40be-9eed-9b7d291954e3",
   "metadata": {},
   "outputs": [
    {
     "name": "stdout",
     "output_type": "stream",
     "text": [
      "84\n"
     ]
    }
   ],
   "source": [
    "mean_height=round(df[\"height\"].mean())\n",
    "print(mean_height)"
   ]
  },
  {
   "cell_type": "code",
   "execution_count": 34,
   "id": "2c65a2a6-55fd-4528-87a5-1f84585b5e68",
   "metadata": {},
   "outputs": [
    {
     "name": "stdout",
     "output_type": "stream",
     "text": [
      "11.7\n"
     ]
    }
   ],
   "source": [
    "median_weight=(df[\"weight\"].median())\n",
    "print(median_weight)"
   ]
  },
  {
   "cell_type": "code",
   "execution_count": 37,
   "id": "6c7e2a45-bf65-4f47-97b2-40e9fc9745db",
   "metadata": {},
   "outputs": [
    {
     "name": "stdout",
     "output_type": "stream",
     "text": [
      "84.9\n"
     ]
    }
   ],
   "source": [
    "median_height=(df[\"height\"].median())\n",
    "print(median_height)"
   ]
  },
  {
   "cell_type": "code",
   "execution_count": 44,
   "id": "5612701e-22c0-49f1-b762-21aa00f1de7a",
   "metadata": {},
   "outputs": [
    {
     "name": "stdout",
     "output_type": "stream",
     "text": [
      "17.5\n"
     ]
    }
   ],
   "source": [
    "N=[54,28,13,16,19,19,15,12,16,20]\n",
    "median_mass=np.median(n)\n",
    "print(median_mass)"
   ]
  },
  {
   "cell_type": "code",
   "execution_count": 59,
   "id": "5a55b53d-370d-4069-b2aa-913974bfe401",
   "metadata": {},
   "outputs": [
    {
     "name": "stdout",
     "output_type": "stream",
     "text": [
      "16\n"
     ]
    }
   ],
   "source": [
    "mode_N=stats.mode(N,keepdims=False).mode\n",
    "print(mode_N)"
   ]
  },
  {
   "cell_type": "code",
   "execution_count": 60,
   "id": "a9430775-7428-4327-ad11-5e0484e278b9",
   "metadata": {},
   "outputs": [
    {
     "name": "stdout",
     "output_type": "stream",
     "text": [
      "0.25     9.2\n",
      "0.75    14.1\n",
      "Name: weight, dtype: float64\n"
     ]
    }
   ],
   "source": [
    "\n",
    "quantiles_25_75=df['weight'].quantile([0.25,0.75])\n",
    "print(quantiles_25_75)"
   ]
  },
  {
   "cell_type": "code",
   "execution_count": 54,
   "id": "993aa8c7-7ea6-47f3-9838-2e4c0f119bc6",
   "metadata": {},
   "outputs": [
    {
     "name": "stdout",
     "output_type": "stream",
     "text": [
      "0.1     7.0\n",
      "0.8    14.7\n",
      "Name: weight, dtype: float64\n"
     ]
    }
   ],
   "source": [
    "quantiles_10_80=df['weight'].quantile([0.10,0.80])\n",
    "print(quantiles_10_80)"
   ]
  },
  {
   "cell_type": "code",
   "execution_count": 66,
   "id": "b92815d4-40a7-41a6-ab6b-e6e41f0824cb",
   "metadata": {},
   "outputs": [
    {
     "name": "stdout",
     "output_type": "stream",
     "text": [
      "21.9\n"
     ]
    }
   ],
   "source": [
    "weight_range=df['weight'].max()-df['weight'].min()\n",
    "print(weight_range)"
   ]
  },
  {
   "cell_type": "code",
   "execution_count": 57,
   "id": "ccd8ab35-320d-4628-b264-68ebd3699988",
   "metadata": {},
   "outputs": [
    {
     "name": "stdout",
     "output_type": "stream",
     "text": [
      "upper bound: 14.1\n",
      "lower bound: 9.2\n",
      "4.9\n"
     ]
    }
   ],
   "source": [
    "iqr=df['weight'].quantile(0.75) -df['weight'].quantile(0.25)\n",
    "print(\"upper bound:\",df['weight'].quantile(0.75))\n",
    "print(\"lower bound:\",df['weight'].quantile(0.25))\n",
    "print(iqr)"
   ]
  },
  {
   "cell_type": "code",
   "execution_count": 62,
   "id": "69a21348-a629-4ddd-9abf-536f8fb2a96d",
   "metadata": {},
   "outputs": [
    {
     "name": "stdout",
     "output_type": "stream",
     "text": [
      "1016.9924242424241\n",
      "31.890318660095325\n"
     ]
    }
   ],
   "source": [
    "b=np.array(m)-np.mean(m)#difference between each value and mean\n",
    "b_squared=b**2 #square of each difference\n",
    "variance=np.sum(b_squared)/ (len(m)-1)# average of the squared differences\n",
    "std_deviation=np.sqrt(variance)#the standard deviation\n",
    "print(variance)\n",
    "print(std_deviation)"
   ]
  },
  {
   "cell_type": "code",
   "execution_count": 63,
   "id": "d4727029-e806-408b-aaeb-b56ce40eb866",
   "metadata": {},
   "outputs": [
    {
     "name": "stdout",
     "output_type": "stream",
     "text": [
      "1016.9924242424241\n",
      "31.890318660095325\n"
     ]
    }
   ],
   "source": [
    "#calculate variance and standard deviation using functions\n",
    "variance_func=np.var(m,ddof=1) #unbiased estimator, hence ddof=1\n",
    "std_deviation_func=np.std(m,ddof=1)\n",
    "print(variance_func)\n",
    "print(std_deviation_func)"
   ]
  },
  {
   "cell_type": "code",
   "execution_count": 64,
   "id": "d825f612-2a37-41d4-91d4-e5044ab41607",
   "metadata": {},
   "outputs": [
    {
     "name": "stdout",
     "output_type": "stream",
     "text": [
      "upper bound: 93.85\n",
      "lower bound: 74.0\n",
      "19.849999999999994\n"
     ]
    }
   ],
   "source": [
    "iqr=df['height'].quantile(0.75) -df['height'].quantile(0.25)\n",
    "print(\"upper bound:\",df['height'].quantile(0.75))\n",
    "print(\"lower bound:\",df['height'].quantile(0.25))\n",
    "print(iqr)"
   ]
  },
  {
   "cell_type": "code",
   "execution_count": 68,
   "id": "f0f52bec-d3f8-41aa-8bb3-da298340796f",
   "metadata": {},
   "outputs": [
    {
     "name": "stdout",
     "output_type": "stream",
     "text": [
      "79.8\n"
     ]
    }
   ],
   "source": [
    "height_range=df['height'].max()-df['height'].min()\n",
    "print(height_range)"
   ]
  },
  {
   "cell_type": "code",
   "execution_count": 70,
   "id": "ceca31c6-4558-4a74-b777-b2ca069c4951",
   "metadata": {},
   "outputs": [
    {
     "name": "stdout",
     "output_type": "stream",
     "text": [
      "124.8\n"
     ]
    }
   ],
   "source": [
    "height_range=df['height'].max()\n",
    "print(height_range)"
   ]
  },
  {
   "cell_type": "code",
   "execution_count": 71,
   "id": "7eb01b31-7f20-444e-9337-bd98f9daca08",
   "metadata": {},
   "outputs": [
    {
     "name": "stdout",
     "output_type": "stream",
     "text": [
      "45.0\n"
     ]
    }
   ],
   "source": [
    "height_range=df['height'].min()\n",
    "print(height_range)"
   ]
  },
  {
   "cell_type": "code",
   "execution_count": 76,
   "id": "c4e8628c-44ff-481f-aaa2-13ca3bc89aea",
   "metadata": {},
   "outputs": [
    {
     "name": "stdout",
     "output_type": "stream",
     "text": [
      "-0.09040012558770584\n"
     ]
    }
   ],
   "source": [
    "from scipy.stats import skew\n",
    "skewness_weight=skew(df['weight'])\n",
    "print(skewness_weight)"
   ]
  },
  {
   "cell_type": "code",
   "execution_count": 79,
   "id": "d07c112c-3629-429f-a723-0a4c6d3f3eec",
   "metadata": {},
   "outputs": [
    {
     "name": "stdout",
     "output_type": "stream",
     "text": [
      "mean\n"
     ]
    }
   ],
   "source": [
    "skew_wt=skew(df['weight'])\n",
    "wt_measures=\"mean\" if abs(skew_wt)<=0.5 else \"median\"\n",
    "print(wt_measures)"
   ]
  },
  {
   "cell_type": "code",
   "execution_count": 80,
   "id": "e03cd0bd-688f-44b1-b24a-905df124f931",
   "metadata": {},
   "outputs": [
    {
     "name": "stdout",
     "output_type": "stream",
     "text": [
      "-0.2416210650692944\n"
     ]
    }
   ],
   "source": [
    "skewness_height=skew(df['height'])\n",
    "print(skewness_height)"
   ]
  },
  {
   "cell_type": "code",
   "execution_count": 82,
   "id": "e8dfa176-1a22-4baa-bee2-67a1af59165a",
   "metadata": {},
   "outputs": [
    {
     "name": "stdout",
     "output_type": "stream",
     "text": [
      "-0.04464720674545378\n"
     ]
    }
   ],
   "source": [
    "skewness_age=skew(df['age'])\n",
    "print(skewness_age)"
   ]
  },
  {
   "cell_type": "code",
   "execution_count": 83,
   "id": "1ad68a78-e673-4b17-b33e-884b1bf9460a",
   "metadata": {},
   "outputs": [
    {
     "name": "stdout",
     "output_type": "stream",
     "text": [
      "11.591113892365458\n",
      "3.4087288270461693\n"
     ]
    }
   ],
   "source": [
    "mean_weight=df['weight'].mean()\n",
    "std_deviation_weight=df['weight'].std()\n",
    "print(mean_weight)\n",
    "print(std_deviation_weight)"
   ]
  },
  {
   "cell_type": "code",
   "execution_count": 4,
   "id": "a32b86c2-f97c-4508-8bf4-53e03fde7818",
   "metadata": {},
   "outputs": [
    {
     "name": "stdout",
     "output_type": "stream",
     "text": [
      "   integers                                   range\n",
      "0         3                               (0, 1, 2)\n",
      "1         5                         (0, 1, 2, 3, 4)\n",
      "2         7                   (0, 1, 2, 3, 4, 5, 6)\n",
      "3        10          (0, 1, 2, 3, 4, 5, 6, 7, 8, 9)\n",
      "4        12  (0, 1, 2, 3, 4, 5, 6, 7, 8, 9, 10, 11)\n"
     ]
    }
   ],
   "source": [
    "import pandas as pd\n",
    "data={\n",
    "    'integers':[3,5,7,10,12]\n",
    "}\n",
    "df=pd.DataFrame(data)\n",
    "df['range']=df['integers'].apply(lambda x: range(x))\n",
    "print(df)"
   ]
  },
  {
   "cell_type": "code",
   "execution_count": 2,
   "id": "d1f8b3f4-e223-4162-9b4a-c38bebcf27e3",
   "metadata": {},
   "outputs": [
    {
     "name": "stdout",
     "output_type": "stream",
     "text": [
      "     Child participated in POLIO campaign August 2013  diarrhea_status  \\\n",
      "0                                                   1               No   \n",
      "1                                                   1               No   \n",
      "2                                                   1               No   \n",
      "3                                                   1               No   \n",
      "4                                                   1               No   \n",
      "..                                                ...              ...   \n",
      "794                                                 1               No   \n",
      "795                                                 2               No   \n",
      "796                                                 1               No   \n",
      "797                                                 1               No   \n",
      "798                                                 1               No   \n",
      "\n",
      "     weight  height residence  Sex  age age_category   education wealth_index  \n",
      "0      16.2   102.4     Rural    1   45        36-47  Secondary+      Richest  \n",
      "1      13.5    92.5     Rural    0   45        36-47     Primary       Second  \n",
      "2      13.4    88.5     Rural    0   36        36-47     Primary       Fourth  \n",
      "3      15.0   101.3     Rural    1   51        48-59     Primary       Fourth  \n",
      "4      15.2   105.0     Rural    1   56        48-59     Primary       Fourth  \n",
      "..      ...     ...       ...  ...  ...          ...         ...          ...  \n",
      "794     8.3    67.0     Urban    1    7         6-11     Primary       Fourth  \n",
      "795     3.5    45.0     Urban    0    0          0-5  Secondary+       Fourth  \n",
      "796    15.1    86.0     Urban    1   56        48-59     Primary       Fourth  \n",
      "797    10.7    71.2     Urban    1   18        12-23     Primary       Fourth  \n",
      "798    10.3    73.0     Urban    1    7         6-11     Primary       Middle  \n",
      "\n",
      "[799 rows x 10 columns]\n",
      "   Child participated in POLIO campaign August 2013  diarrhea_status  weight  \\\n",
      "0                                                 1               No    16.2   \n",
      "1                                                 1               No    13.5   \n",
      "2                                                 1               No    13.4   \n",
      "3                                                 1               No    15.0   \n",
      "4                                                 1               No    15.2   \n",
      "\n",
      "   height residence  Sex  age age_category   education wealth_index  \n",
      "0   102.4     Rural    1   45        36-47  Secondary+      Richest  \n",
      "1    92.5     Rural    0   45        36-47     Primary       Second  \n",
      "2    88.5     Rural    0   36        36-47     Primary       Fourth  \n",
      "3   101.3     Rural    1   51        48-59     Primary       Fourth  \n",
      "4   105.0     Rural    1   56        48-59     Primary       Fourth  \n"
     ]
    }
   ],
   "source": [
    "import pandas as pd\n",
    "import numpy as np\n",
    "df=pd.read_csv(\"childhealthdata.csv\")\n",
    "#custom mapping for conversion\n",
    "mapping={\n",
    "    'True':1,\n",
    "    'False':0,\n",
    "    'Female':1,\n",
    "    'Male':0\n",
    "}\n",
    "#Applying the mapping to the column\n",
    "df['Sex'] = df['Sex'].map(mapping)\n",
    "\n",
    "print(df)\n",
    "\n",
    "print(df.head(5))\n"
   ]
  },
  {
   "cell_type": "code",
   "execution_count": 38,
   "id": "af7588a7-3a0f-4514-b40b-e07e52a0137a",
   "metadata": {},
   "outputs": [
    {
     "name": "stdout",
     "output_type": "stream",
     "text": [
      "     Gender   Height Weight  Index  Unnamed: 4  Unnamed: 5 female  male\n",
      "0       NaN  15    8     89      4         NaN         NaN    158   158\n",
      "1       NaN  15    8     89      4         NaN         NaN    158   158\n",
      "2       1.0      178    127      4         NaN         NaN    178   178\n",
      "3       1.0     none    139      5         NaN         NaN   none  none\n",
      "4       1.0     none    104      5         NaN         NaN    181   181\n",
      "..      ...      ...    ...    ...         ...         ...    ...   ...\n",
      "399     0.0      190   none      5         NaN         NaN    NaN   NaN\n",
      "400     0.0      164    130      5         NaN         NaN    NaN   NaN\n",
      "401     0.0      185    138      5         NaN         NaN    NaN   NaN\n",
      "402     0.0      188    158      5         NaN         NaN    NaN   NaN\n",
      "403     0.0      161    155      5         NaN         NaN    NaN   NaN\n",
      "\n",
      "[404 rows x 8 columns]\n"
     ]
    }
   ],
   "source": [
    "import pandas as pd\n",
    "import numpy as np\n",
    "df=pd.read_csv(\"dirtybmi_22.csv\")\n",
    "#custom mapping for conversion\n",
    "mapping={\n",
    "    'True':1,\n",
    "    'False':0,\n",
    "    'Female':1,\n",
    "    'Male':0\n",
    "}\n",
    "#Applying the mapping to the column\n",
    "df['Gender'] = df['Gender'].map(mapping)\n",
    "\n",
    "print(df)"
   ]
  },
  {
   "cell_type": "code",
   "execution_count": 37,
   "id": "7b19ac13-46ea-471c-8e72-ac07b0547c79",
   "metadata": {},
   "outputs": [
    {
     "name": "stdout",
     "output_type": "stream",
     "text": [
      "<class 'pandas.core.frame.DataFrame'>\n",
      "RangeIndex: 404 entries, 0 to 403\n",
      "Data columns (total 8 columns):\n",
      " #   Column      Non-Null Count  Dtype   \n",
      "---  ------      --------------  -----   \n",
      " 0   Gender      404 non-null    category\n",
      " 1   Height      404 non-null    string  \n",
      " 2   Weight      404 non-null    string  \n",
      " 3   Index       404 non-null    int32   \n",
      " 4   Unnamed: 4  0 non-null      float64 \n",
      " 5   Unnamed: 5  0 non-null      float64 \n",
      " 6   female      204 non-null    category\n",
      " 7   male        204 non-null    category\n",
      "dtypes: category(3), float64(2), int32(1), string(2)\n",
      "memory usage: 20.9 KB\n"
     ]
    }
   ],
   "source": [
    "import pandas as pd\n",
    "import numpy as np\n",
    "df1=pd.read_csv(\"dirtybmi_22.csv\")\n",
    "df1['Gender']=df1['Gender'].astype('category')\n",
    "df1['Height']=df1['Height'].astype('string')\n",
    "df1['Weight']=df1['Weight'].astype('string')\n",
    "df1['Index']=df1['Index'].astype('int')\n",
    "df1['female']=df1['female'].astype('category')\n",
    "df1['male']=df1['male'].astype('category')\n",
    "df1.info()"
   ]
  },
  {
   "cell_type": "code",
   "execution_count": 27,
   "id": "f1324c89-e25f-4faf-b7a8-5d076abad458",
   "metadata": {},
   "outputs": [
    {
     "name": "stdout",
     "output_type": "stream",
     "text": [
      "Original DataFrame:\n",
      "      Name      City\n",
      "0     Rose   Makweni\n",
      "1     Jane  Kwavonza\n",
      "2  Charlie     Kitui\n",
      "3    Faith   Mselele\n"
     ]
    }
   ],
   "source": [
    "import pandas as pd\n",
    "data={\n",
    "    'Name': ['Rose','Jane','Charlie','Faith'],\n",
    "    'City':['Makweni','Kwavonza','Kitui','Mselele']\n",
    "}\n",
    "df=pd.DataFrame(data)\n",
    "print(\"Original DataFrame:\")\n",
    "print(df)\n"
   ]
  },
  {
   "cell_type": "code",
   "execution_count": 28,
   "id": "12c27cfc-ddc5-4a25-8cdb-b843be9b6ae4",
   "metadata": {},
   "outputs": [
    {
     "name": "stdout",
     "output_type": "stream",
     "text": [
      "Original DataFrame:\n",
      "        Name       City\n",
      "0      Rose     Makweni\n",
      "1      Jane   Kwavonza \n",
      "2   Charlie       Kitui\n",
      "3     Faith    Mselele \n"
     ]
    }
   ],
   "source": [
    "import pandas as pd\n",
    "data={\n",
    "    'Name': [' Rose ','Jane ',' Charlie ',' Faith '],\n",
    "    'City':[' Makweni','Kwavonza ',' Kitui','Mselele ']\n",
    "}\n",
    "df=pd.DataFrame(data)\n",
    "print(\"Original DataFrame:\")\n",
    "print(df)"
   ]
  },
  {
   "cell_type": "code",
   "execution_count": null,
   "id": "52dc6853-622b-4a8d-a437-d3ce7fc469ec",
   "metadata": {},
   "outputs": [],
   "source": [
    "import pandas as pd\n",
    "import numpy as np\n",
    "df=pd.read_csv(\"dirtybmi_22.csv\")\n",
    "#trim whitespace from 'wealth_index' columns\n",
    "df['wealth_index'] =df['wealth_index'].str.strip()\n",
    "print(\"\\nTrimmed DataFrame:\")\n",
    "\n",
    "print(df)"
   ]
  },
  {
   "cell_type": "code",
   "execution_count": 39,
   "id": "fceae492-25e5-446b-ae56-a2a1ac233fc4",
   "metadata": {},
   "outputs": [
    {
     "name": "stdout",
     "output_type": "stream",
     "text": [
      "\n",
      "Rows with out-of-range 'height':\n",
      "     Child participated in POLIO campaign August 2013  diarrhea_status  \\\n",
      "43                                                  1               No   \n",
      "103                                                 1               No   \n",
      "127                                                 1               No   \n",
      "158                                                 1               No   \n",
      "396                                                 1               No   \n",
      "450                                                 1               No   \n",
      "456                                                 2               No   \n",
      "531                                                 1               No   \n",
      "577                                                 2               No   \n",
      "678                                                 1               No   \n",
      "733                                                 1               No   \n",
      "757                                                 1               No   \n",
      "795                                                 2               No   \n",
      "\n",
      "     weight  height residence     Sex  age age_category   education  \\\n",
      "43     20.5   112.0     Rural    Male   53        48-59     Primary   \n",
      "103    14.6   114.3     Rural    Male   56        48-59     Primary   \n",
      "127    20.3   110.4     Rural  Female   50        48-59     Primary   \n",
      "158    13.3   111.9     Rural    Male   58        48-59  Secondary+   \n",
      "396    19.3   112.8     Urban    Male   56        48-59  Secondary+   \n",
      "450    12.0   124.8     Rural    Male   52        48-59     Primary   \n",
      "456     3.2    48.2     Rural  Female    0          0-5     Primary   \n",
      "531    20.1   110.1     Rural    Male   58        48-59  Secondary+   \n",
      "577     4.8    48.2     Rural  Female    1          0-5     Primary   \n",
      "678    18.2   112.7     Urban  Female   50        48-59  Secondary+   \n",
      "733    18.7   112.1     Urban  Female   58        48-59  Secondary+   \n",
      "757    19.9   117.9     Urban  Female   58        48-59     Primary   \n",
      "795     3.5    45.0     Urban    Male    0          0-5  Secondary+   \n",
      "\n",
      "    wealth_index  \n",
      "43       Richest  \n",
      "103       Fourth  \n",
      "127       Middle  \n",
      "158       Middle  \n",
      "396      Richest  \n",
      "450       Middle  \n",
      "456      Poorest  \n",
      "531       Second  \n",
      "577      Poorest  \n",
      "678      Poorest  \n",
      "733       Fourth  \n",
      "757       Second  \n",
      "795       Fourth  \n",
      "\n",
      "Rows with out-of-range 'weight':\n",
      "     Child participated in POLIO campaign August 2013  diarrhea_status  \\\n",
      "43                                                  1               No   \n",
      "127                                                 1               No   \n",
      "150                                                 2               No   \n",
      "334                                                 2              Yes   \n",
      "456                                                 2               No   \n",
      "493                                                 2               No   \n",
      "494                                                 2               No   \n",
      "531                                                 1               No   \n",
      "548                                                 2              Yes   \n",
      "627                                                 1               No   \n",
      "795                                                 2               No   \n",
      "\n",
      "     weight  height residence     Sex  age age_category   education  \\\n",
      "43     20.5   112.0     Rural    Male   53        48-59     Primary   \n",
      "127    20.3   110.4     Rural  Female   50        48-59     Primary   \n",
      "150     3.8    62.3     Rural    Male    4          0-5     Primary   \n",
      "334     3.2    71.4     Urban    Male    7         6-11     Primary   \n",
      "456     3.2    48.2     Rural  Female    0          0-5     Primary   \n",
      "493     3.1    51.0     Rural    Male    2          0-5         NaN   \n",
      "494     3.1    51.5     Rural  Female    2          0-5         NaN   \n",
      "531    20.1   110.1     Rural    Male   58        48-59  Secondary+   \n",
      "548     3.5    58.0     Rural    Male    0          0-5  Secondary+   \n",
      "627    25.0    98.5     Rural    Male   37        36-47  Secondary+   \n",
      "795     3.5    45.0     Urban    Male    0          0-5  Secondary+   \n",
      "\n",
      "    wealth_index  \n",
      "43       Richest  \n",
      "127       Middle  \n",
      "150       Second  \n",
      "334       Middle  \n",
      "456      Poorest  \n",
      "493      Poorest  \n",
      "494      Poorest  \n",
      "531       Second  \n",
      "548       Fourth  \n",
      "627      Poorest  \n",
      "795       Fourth  \n"
     ]
    }
   ],
   "source": [
    "import pandas as pd\n",
    "from scipy import stats\n",
    "csv_file='childhealthdata.csv'\n",
    "df= pd.read_csv(csv_file)\n",
    "\n",
    "height_min,height_max=50,110\n",
    "weight_min,weight_max=4,20\n",
    "\n",
    "out_of_range_height=df[(df['height']<height_min)|(df['height']>height_max)]\n",
    "out_of_range_weight=df[(df['weight']<weight_min)|(df['weight']>weight_max)]\n",
    "print(\"\\nRows with out-of-range 'height':\")\n",
    "print(out_of_range_height)\n",
    "\n",
    "print(\"\\nRows with out-of-range 'weight':\")\n",
    "print(out_of_range_weight)\n"
   ]
  },
  {
   "cell_type": "code",
   "execution_count": 51,
   "id": "ac3c62df-0deb-420d-986f-a0455b07c831",
   "metadata": {},
   "outputs": [
    {
     "name": "stdout",
     "output_type": "stream",
     "text": [
      "0      False\n",
      "1       True\n",
      "2      False\n",
      "3      False\n",
      "4      False\n",
      "       ...  \n",
      "399    False\n",
      "400    False\n",
      "401    False\n",
      "402    False\n",
      "403    False\n",
      "Length: 404, dtype: bool\n"
     ]
    }
   ],
   "source": [
    "import pandas as pd\n",
    "from scipy import stats\n",
    "df= pd.read_csv(\"dirtybmi_22.csv\")\n",
    "duplicates= df.duplicated()\n",
    "print(duplicates)"
   ]
  },
  {
   "cell_type": "code",
   "execution_count": 4,
   "id": "879e3548-1c16-4f22-9f4a-9ca4d8f21997",
   "metadata": {},
   "outputs": [
    {
     "data": {
      "text/html": [
       "<div>\n",
       "<style scoped>\n",
       "    .dataframe tbody tr th:only-of-type {\n",
       "        vertical-align: middle;\n",
       "    }\n",
       "\n",
       "    .dataframe tbody tr th {\n",
       "        vertical-align: top;\n",
       "    }\n",
       "\n",
       "    .dataframe thead th {\n",
       "        text-align: right;\n",
       "    }\n",
       "</style>\n",
       "<table border=\"1\" class=\"dataframe\">\n",
       "  <thead>\n",
       "    <tr style=\"text-align: right;\">\n",
       "      <th></th>\n",
       "      <th>Patient ID</th>\n",
       "      <th>Name</th>\n",
       "      <th>Gender</th>\n",
       "      <th>Bloodtype</th>\n",
       "      <th>Diagnosis Code</th>\n",
       "    </tr>\n",
       "  </thead>\n",
       "  <tbody>\n",
       "    <tr>\n",
       "      <th>0</th>\n",
       "      <td>1</td>\n",
       "      <td>Alice</td>\n",
       "      <td>Female</td>\n",
       "      <td>A+</td>\n",
       "      <td>A00</td>\n",
       "    </tr>\n",
       "    <tr>\n",
       "      <th>1</th>\n",
       "      <td>2</td>\n",
       "      <td>Bob</td>\n",
       "      <td>Male</td>\n",
       "      <td>B</td>\n",
       "      <td>B99</td>\n",
       "    </tr>\n",
       "    <tr>\n",
       "      <th>2</th>\n",
       "      <td>3</td>\n",
       "      <td>Charlie</td>\n",
       "      <td>Other</td>\n",
       "      <td>O+</td>\n",
       "      <td>C30</td>\n",
       "    </tr>\n",
       "    <tr>\n",
       "      <th>3</th>\n",
       "      <td>4</td>\n",
       "      <td>David</td>\n",
       "      <td>Unknown</td>\n",
       "      <td>AB-</td>\n",
       "      <td>XYZ</td>\n",
       "    </tr>\n",
       "  </tbody>\n",
       "</table>\n",
       "</div>"
      ],
      "text/plain": [
       "   Patient ID     Name   Gender Bloodtype Diagnosis Code\n",
       "0           1    Alice   Female        A+            A00\n",
       "1           2      Bob     Male         B            B99\n",
       "2           3  Charlie    Other        O+            C30\n",
       "3           4    David  Unknown       AB-            XYZ"
      ]
     },
     "execution_count": 4,
     "metadata": {},
     "output_type": "execute_result"
    }
   ],
   "source": [
    "df.drop_duplicates\n",
    "df.head()"
   ]
  },
  {
   "cell_type": "code",
   "execution_count": 56,
   "id": "05ad4096-af04-4a3d-be35-0f6dae363e0c",
   "metadata": {},
   "outputs": [],
   "source": [
    "clean=df.drop_duplicates\n"
   ]
  },
  {
   "cell_type": "code",
   "execution_count": 4,
   "id": "b6e69504-162c-492f-8601-92174911f3cb",
   "metadata": {},
   "outputs": [
    {
     "data": {
      "text/html": [
       "<div>\n",
       "<style scoped>\n",
       "    .dataframe tbody tr th:only-of-type {\n",
       "        vertical-align: middle;\n",
       "    }\n",
       "\n",
       "    .dataframe tbody tr th {\n",
       "        vertical-align: top;\n",
       "    }\n",
       "\n",
       "    .dataframe thead th {\n",
       "        text-align: right;\n",
       "    }\n",
       "</style>\n",
       "<table border=\"1\" class=\"dataframe\">\n",
       "  <thead>\n",
       "    <tr style=\"text-align: right;\">\n",
       "      <th></th>\n",
       "      <th>Gender</th>\n",
       "      <th>Height</th>\n",
       "      <th>Weight</th>\n",
       "      <th>Index</th>\n",
       "      <th>Unnamed: 4</th>\n",
       "      <th>Unnamed: 5</th>\n",
       "      <th>female</th>\n",
       "      <th>male</th>\n",
       "    </tr>\n",
       "  </thead>\n",
       "  <tbody>\n",
       "    <tr>\n",
       "      <th>0</th>\n",
       "      <td>Fema   le</td>\n",
       "      <td>15    8</td>\n",
       "      <td>89</td>\n",
       "      <td>4</td>\n",
       "      <td>NaN</td>\n",
       "      <td>NaN</td>\n",
       "      <td>158</td>\n",
       "      <td>158</td>\n",
       "    </tr>\n",
       "    <tr>\n",
       "      <th>1</th>\n",
       "      <td>Fema   le</td>\n",
       "      <td>15    8</td>\n",
       "      <td>89</td>\n",
       "      <td>4</td>\n",
       "      <td>NaN</td>\n",
       "      <td>NaN</td>\n",
       "      <td>158</td>\n",
       "      <td>158</td>\n",
       "    </tr>\n",
       "    <tr>\n",
       "      <th>2</th>\n",
       "      <td>Female</td>\n",
       "      <td>178</td>\n",
       "      <td>127</td>\n",
       "      <td>4</td>\n",
       "      <td>NaN</td>\n",
       "      <td>NaN</td>\n",
       "      <td>178</td>\n",
       "      <td>178</td>\n",
       "    </tr>\n",
       "    <tr>\n",
       "      <th>3</th>\n",
       "      <td>Female</td>\n",
       "      <td>none</td>\n",
       "      <td>139</td>\n",
       "      <td>5</td>\n",
       "      <td>NaN</td>\n",
       "      <td>NaN</td>\n",
       "      <td>none</td>\n",
       "      <td>none</td>\n",
       "    </tr>\n",
       "    <tr>\n",
       "      <th>4</th>\n",
       "      <td>Female</td>\n",
       "      <td>none</td>\n",
       "      <td>104</td>\n",
       "      <td>5</td>\n",
       "      <td>NaN</td>\n",
       "      <td>NaN</td>\n",
       "      <td>181</td>\n",
       "      <td>181</td>\n",
       "    </tr>\n",
       "    <tr>\n",
       "      <th>5</th>\n",
       "      <td>Femal   e</td>\n",
       "      <td>147</td>\n",
       "      <td>68</td>\n",
       "      <td>2</td>\n",
       "      <td>NaN</td>\n",
       "      <td>NaN</td>\n",
       "      <td>147</td>\n",
       "      <td>147</td>\n",
       "    </tr>\n",
       "    <tr>\n",
       "      <th>6</th>\n",
       "      <td>Female</td>\n",
       "      <td>1   42</td>\n",
       "      <td>92</td>\n",
       "      <td>4</td>\n",
       "      <td>NaN</td>\n",
       "      <td>NaN</td>\n",
       "      <td>142</td>\n",
       "      <td>142</td>\n",
       "    </tr>\n",
       "    <tr>\n",
       "      <th>7</th>\n",
       "      <td>Fe   male</td>\n",
       "      <td>146</td>\n",
       "      <td>10     8</td>\n",
       "      <td>4</td>\n",
       "      <td>NaN</td>\n",
       "      <td>NaN</td>\n",
       "      <td>146</td>\n",
       "      <td>146</td>\n",
       "    </tr>\n",
       "    <tr>\n",
       "      <th>8</th>\n",
       "      <td>Female</td>\n",
       "      <td>173</td>\n",
       "      <td>130</td>\n",
       "      <td>5</td>\n",
       "      <td>NaN</td>\n",
       "      <td>NaN</td>\n",
       "      <td>173</td>\n",
       "      <td>173</td>\n",
       "    </tr>\n",
       "    <tr>\n",
       "      <th>9</th>\n",
       "      <td>F   emale</td>\n",
       "      <td>170</td>\n",
       "      <td>71</td>\n",
       "      <td>4</td>\n",
       "      <td>NaN</td>\n",
       "      <td>NaN</td>\n",
       "      <td>170</td>\n",
       "      <td>170</td>\n",
       "    </tr>\n",
       "  </tbody>\n",
       "</table>\n",
       "</div>"
      ],
      "text/plain": [
       "      Gender   Height    Weight  Index  Unnamed: 4  Unnamed: 5 female  male\n",
       "0  Fema   le  15    8        89      4         NaN         NaN    158   158\n",
       "1  Fema   le  15    8        89      4         NaN         NaN    158   158\n",
       "2     Female      178       127      4         NaN         NaN    178   178\n",
       "3     Female     none       139      5         NaN         NaN   none  none\n",
       "4     Female     none       104      5         NaN         NaN    181   181\n",
       "5  Femal   e      147        68      2         NaN         NaN    147   147\n",
       "6     Female   1   42        92      4         NaN         NaN    142   142\n",
       "7  Fe   male      146  10     8      4         NaN         NaN    146   146\n",
       "8     Female      173       130      5         NaN         NaN    173   173\n",
       "9  F   emale      170        71      4         NaN         NaN    170   170"
      ]
     },
     "execution_count": 4,
     "metadata": {},
     "output_type": "execute_result"
    }
   ],
   "source": [
    "import pandas as pd\n",
    "df=pd.read_csv(\"dirtybmi_22.csv\")\n",
    "df.head(10)"
   ]
  },
  {
   "cell_type": "code",
   "execution_count": 5,
   "id": "e2bdb1dc-2dee-43f6-b665-21365525a905",
   "metadata": {},
   "outputs": [
    {
     "data": {
      "text/html": [
       "<div>\n",
       "<style scoped>\n",
       "    .dataframe tbody tr th:only-of-type {\n",
       "        vertical-align: middle;\n",
       "    }\n",
       "\n",
       "    .dataframe tbody tr th {\n",
       "        vertical-align: top;\n",
       "    }\n",
       "\n",
       "    .dataframe thead th {\n",
       "        text-align: right;\n",
       "    }\n",
       "</style>\n",
       "<table border=\"1\" class=\"dataframe\">\n",
       "  <thead>\n",
       "    <tr style=\"text-align: right;\">\n",
       "      <th></th>\n",
       "      <th>Gender</th>\n",
       "      <th>Height</th>\n",
       "      <th>Weight</th>\n",
       "      <th>Index</th>\n",
       "      <th>Unnamed: 4</th>\n",
       "      <th>Unnamed: 5</th>\n",
       "      <th>female</th>\n",
       "      <th>male</th>\n",
       "    </tr>\n",
       "  </thead>\n",
       "  <tbody>\n",
       "    <tr>\n",
       "      <th>394</th>\n",
       "      <td>Male</td>\n",
       "      <td>161</td>\n",
       "      <td>122</td>\n",
       "      <td>4</td>\n",
       "      <td>NaN</td>\n",
       "      <td>NaN</td>\n",
       "      <td>NaN</td>\n",
       "      <td>NaN</td>\n",
       "    </tr>\n",
       "    <tr>\n",
       "      <th>395</th>\n",
       "      <td>Male</td>\n",
       "      <td>150</td>\n",
       "      <td>131</td>\n",
       "      <td>5</td>\n",
       "      <td>NaN</td>\n",
       "      <td>NaN</td>\n",
       "      <td>NaN</td>\n",
       "      <td>NaN</td>\n",
       "    </tr>\n",
       "    <tr>\n",
       "      <th>396</th>\n",
       "      <td>Male</td>\n",
       "      <td>168</td>\n",
       "      <td>110</td>\n",
       "      <td>5</td>\n",
       "      <td>NaN</td>\n",
       "      <td>NaN</td>\n",
       "      <td>NaN</td>\n",
       "      <td>NaN</td>\n",
       "    </tr>\n",
       "    <tr>\n",
       "      <th>397</th>\n",
       "      <td>Male</td>\n",
       "      <td>168</td>\n",
       "      <td>134</td>\n",
       "      <td>5</td>\n",
       "      <td>NaN</td>\n",
       "      <td>NaN</td>\n",
       "      <td>NaN</td>\n",
       "      <td>NaN</td>\n",
       "    </tr>\n",
       "    <tr>\n",
       "      <th>398</th>\n",
       "      <td>Male</td>\n",
       "      <td>186</td>\n",
       "      <td>117</td>\n",
       "      <td>4</td>\n",
       "      <td>NaN</td>\n",
       "      <td>NaN</td>\n",
       "      <td>NaN</td>\n",
       "      <td>NaN</td>\n",
       "    </tr>\n",
       "    <tr>\n",
       "      <th>399</th>\n",
       "      <td>Male</td>\n",
       "      <td>190</td>\n",
       "      <td>none</td>\n",
       "      <td>5</td>\n",
       "      <td>NaN</td>\n",
       "      <td>NaN</td>\n",
       "      <td>NaN</td>\n",
       "      <td>NaN</td>\n",
       "    </tr>\n",
       "    <tr>\n",
       "      <th>400</th>\n",
       "      <td>Male</td>\n",
       "      <td>164</td>\n",
       "      <td>130</td>\n",
       "      <td>5</td>\n",
       "      <td>NaN</td>\n",
       "      <td>NaN</td>\n",
       "      <td>NaN</td>\n",
       "      <td>NaN</td>\n",
       "    </tr>\n",
       "    <tr>\n",
       "      <th>401</th>\n",
       "      <td>Male</td>\n",
       "      <td>185</td>\n",
       "      <td>138</td>\n",
       "      <td>5</td>\n",
       "      <td>NaN</td>\n",
       "      <td>NaN</td>\n",
       "      <td>NaN</td>\n",
       "      <td>NaN</td>\n",
       "    </tr>\n",
       "    <tr>\n",
       "      <th>402</th>\n",
       "      <td>Male</td>\n",
       "      <td>188</td>\n",
       "      <td>158</td>\n",
       "      <td>5</td>\n",
       "      <td>NaN</td>\n",
       "      <td>NaN</td>\n",
       "      <td>NaN</td>\n",
       "      <td>NaN</td>\n",
       "    </tr>\n",
       "    <tr>\n",
       "      <th>403</th>\n",
       "      <td>Male</td>\n",
       "      <td>161</td>\n",
       "      <td>155</td>\n",
       "      <td>5</td>\n",
       "      <td>NaN</td>\n",
       "      <td>NaN</td>\n",
       "      <td>NaN</td>\n",
       "      <td>NaN</td>\n",
       "    </tr>\n",
       "  </tbody>\n",
       "</table>\n",
       "</div>"
      ],
      "text/plain": [
       "    Gender Height Weight  Index  Unnamed: 4  Unnamed: 5 female male\n",
       "394   Male    161    122      4         NaN         NaN    NaN  NaN\n",
       "395   Male    150    131      5         NaN         NaN    NaN  NaN\n",
       "396   Male    168    110      5         NaN         NaN    NaN  NaN\n",
       "397   Male    168    134      5         NaN         NaN    NaN  NaN\n",
       "398   Male    186    117      4         NaN         NaN    NaN  NaN\n",
       "399   Male    190   none      5         NaN         NaN    NaN  NaN\n",
       "400   Male    164    130      5         NaN         NaN    NaN  NaN\n",
       "401   Male    185    138      5         NaN         NaN    NaN  NaN\n",
       "402   Male    188    158      5         NaN         NaN    NaN  NaN\n",
       "403   Male    161    155      5         NaN         NaN    NaN  NaN"
      ]
     },
     "execution_count": 5,
     "metadata": {},
     "output_type": "execute_result"
    }
   ],
   "source": [
    "import pandas as pd\n",
    "df=pd.read_csv(\"dirtybmi_22.csv\")\n",
    "df.tail(10)"
   ]
  },
  {
   "cell_type": "code",
   "execution_count": 5,
   "id": "bc5d1fe4-e875-46cc-a51a-1edcd3fe4636",
   "metadata": {},
   "outputs": [
    {
     "data": {
      "text/html": [
       "<div>\n",
       "<style scoped>\n",
       "    .dataframe tbody tr th:only-of-type {\n",
       "        vertical-align: middle;\n",
       "    }\n",
       "\n",
       "    .dataframe tbody tr th {\n",
       "        vertical-align: top;\n",
       "    }\n",
       "\n",
       "    .dataframe thead th {\n",
       "        text-align: right;\n",
       "    }\n",
       "</style>\n",
       "<table border=\"1\" class=\"dataframe\">\n",
       "  <thead>\n",
       "    <tr style=\"text-align: right;\">\n",
       "      <th></th>\n",
       "      <th>Patient ID</th>\n",
       "      <th>Name</th>\n",
       "      <th>Gender</th>\n",
       "      <th>Bloodtype</th>\n",
       "      <th>Diagnosis Code</th>\n",
       "    </tr>\n",
       "  </thead>\n",
       "  <tbody>\n",
       "    <tr>\n",
       "      <th>0</th>\n",
       "      <td>1</td>\n",
       "      <td>Alice</td>\n",
       "      <td>Female</td>\n",
       "      <td>A+</td>\n",
       "      <td>A00</td>\n",
       "    </tr>\n",
       "    <tr>\n",
       "      <th>1</th>\n",
       "      <td>2</td>\n",
       "      <td>Bob</td>\n",
       "      <td>Male</td>\n",
       "      <td>B</td>\n",
       "      <td>B99</td>\n",
       "    </tr>\n",
       "    <tr>\n",
       "      <th>2</th>\n",
       "      <td>3</td>\n",
       "      <td>Charlie</td>\n",
       "      <td>Other</td>\n",
       "      <td>O+</td>\n",
       "      <td>C30</td>\n",
       "    </tr>\n",
       "    <tr>\n",
       "      <th>3</th>\n",
       "      <td>4</td>\n",
       "      <td>David</td>\n",
       "      <td>Unknown</td>\n",
       "      <td>AB-</td>\n",
       "      <td>XYZ</td>\n",
       "    </tr>\n",
       "  </tbody>\n",
       "</table>\n",
       "</div>"
      ],
      "text/plain": [
       "   Patient ID     Name   Gender Bloodtype Diagnosis Code\n",
       "0           1    Alice   Female        A+            A00\n",
       "1           2      Bob     Male         B            B99\n",
       "2           3  Charlie    Other        O+            C30\n",
       "3           4    David  Unknown       AB-            XYZ"
      ]
     },
     "execution_count": 5,
     "metadata": {},
     "output_type": "execute_result"
    }
   ],
   "source": [
    "import pandas as pd\n",
    "#sample health data\n",
    "data={\n",
    "    'Patient ID':[1,2,3,4,],\n",
    "    'Name':['Alice','Bob','Charlie','David'],\n",
    "    'Gender':['Female','Male','Other','Unknown'],#\"Unknown\"  is invalid\n",
    "    'Bloodtype':['A+','B','O+','AB-'],#All valid\n",
    "    'Diagnosis Code':['A00','B99','C30','XYZ'] #\"XYZ\" is invalid\n",
    "}\n",
    "\n",
    "#define vaqlid values for each field\n",
    "valid_genders={'Male','Female','Other'}\n",
    "Valid_blood_types={'A+','A-','B-','O+','O-','AB+','AB-'}\n",
    "Valid_diagnosis_codes={'A00','B99','C30'}#Example ICD-10 codes\n",
    "df=pd.DataFrame(data)\n",
    "df.head()\n",
    "    "
   ]
  },
  {
   "cell_type": "code",
   "execution_count": 9,
   "id": "b38012b2-9517-4929-8aed-ff36535ae8b3",
   "metadata": {},
   "outputs": [
    {
     "data": {
      "text/html": [
       "<div>\n",
       "<style scoped>\n",
       "    .dataframe tbody tr th:only-of-type {\n",
       "        vertical-align: middle;\n",
       "    }\n",
       "\n",
       "    .dataframe tbody tr th {\n",
       "        vertical-align: top;\n",
       "    }\n",
       "\n",
       "    .dataframe thead th {\n",
       "        text-align: right;\n",
       "    }\n",
       "</style>\n",
       "<table border=\"1\" class=\"dataframe\">\n",
       "  <thead>\n",
       "    <tr style=\"text-align: right;\">\n",
       "      <th></th>\n",
       "      <th>Patient ID</th>\n",
       "      <th>Name</th>\n",
       "      <th>Gender</th>\n",
       "      <th>Bloodtype</th>\n",
       "      <th>Diagnosis Code</th>\n",
       "    </tr>\n",
       "  </thead>\n",
       "  <tbody>\n",
       "    <tr>\n",
       "      <th>0</th>\n",
       "      <td>1</td>\n",
       "      <td>Alice</td>\n",
       "      <td>Female</td>\n",
       "      <td>A+</td>\n",
       "      <td>A00</td>\n",
       "    </tr>\n",
       "    <tr>\n",
       "      <th>1</th>\n",
       "      <td>2</td>\n",
       "      <td>Bob</td>\n",
       "      <td>Male</td>\n",
       "      <td>B</td>\n",
       "      <td>B99</td>\n",
       "    </tr>\n",
       "    <tr>\n",
       "      <th>2</th>\n",
       "      <td>3</td>\n",
       "      <td>Charlie</td>\n",
       "      <td>Other</td>\n",
       "      <td>O+</td>\n",
       "      <td>C30</td>\n",
       "    </tr>\n",
       "    <tr>\n",
       "      <th>3</th>\n",
       "      <td>4</td>\n",
       "      <td>David</td>\n",
       "      <td>Unknown</td>\n",
       "      <td>AB-</td>\n",
       "      <td>XYZ</td>\n",
       "    </tr>\n",
       "  </tbody>\n",
       "</table>\n",
       "</div>"
      ],
      "text/plain": [
       "   Patient ID     Name   Gender Bloodtype Diagnosis Code\n",
       "0           1    Alice   Female        A+            A00\n",
       "1           2      Bob     Male         B            B99\n",
       "2           3  Charlie    Other        O+            C30\n",
       "3           4    David  Unknown       AB-            XYZ"
      ]
     },
     "execution_count": 9,
     "metadata": {},
     "output_type": "execute_result"
    }
   ],
   "source": [
    "#Custom function to check membership consrains\n",
    "def check_membership(value, valid_set):\n",
    "    if value not in valid_set:\n",
    "        return False\n",
    "        return True\n",
    "\n",
    "#function to apply constrains and find invalid rows\n",
    "def validate_health_data(df):\n",
    "    invalid_rows=[]\n",
    "    for index, row in df.iterrows():\n",
    "        errors={}\n",
    "        if not check_membership(row['Gender'],valid_genders):\n",
    "            errors['Gender']=row['Gender']\n",
    "                                \n",
    "        if not check_membership(row['Blood Type'], valid_blood_types):\n",
    "            errors['Blood Type']=row['Blood Type']\n",
    "        if not check_membership(row['Diagnosis Code'], valid_diagnosis_codes):\n",
    "            errors['Diagnosis code']=row['Diagnosis Code']\n",
    "                                \n",
    "df.head()          \n",
    "                                \n",
    "            \n",
    "    "
   ]
  },
  {
   "cell_type": "code",
   "execution_count": 11,
   "id": "13945da8-d020-447b-9029-b64f634a3d6c",
   "metadata": {},
   "outputs": [
    {
     "ename": "IndentationError",
     "evalue": "expected an indented block after 'if' statement on line 6 (3904783759.py, line 7)",
     "output_type": "error",
     "traceback": [
      "\u001b[1;36m  Cell \u001b[1;32mIn[11], line 7\u001b[1;36m\u001b[0m\n\u001b[1;33m    df.at[entry['index'],field]='A00'\u001b[0m\n\u001b[1;37m    ^\u001b[0m\n\u001b[1;31mIndentationError\u001b[0m\u001b[1;31m:\u001b[0m expected an indented block after 'if' statement on line 6\n"
     ]
    }
   ],
   "source": [
    "df_cleaned=df.drop(index=[entry['index']for entry in invalid_entries])\n",
    "for entry in invalid_entries:\n",
    "    for field in entry['errors']:\n",
    "    if field in entry['errors']:\n",
    "        if field=='Gender':\n",
    "            df.at[entry['index'],field]='Other' #Default gender\n",
    "if field== 'Diagnosis Code':\n",
    "df.at[entry['index'],field]='A00' \n",
    "print(\"\\nCleaned DataFrame:\")\n",
    "print(df_Cleaned)"
   ]
  },
  {
   "cell_type": "code",
   "execution_count": 18,
   "id": "86107db2-2f93-4098-8d81-f1d42d2fb374",
   "metadata": {},
   "outputs": [
    {
     "name": "stdout",
     "output_type": "stream",
     "text": [
      "Invalid Rows:\n",
      "   EmployeeID Name  Age  Years_of_Experience  Is_Valid\n",
      "1           2  Bob   25                   27     False\n"
     ]
    }
   ],
   "source": [
    "import pandas as pd\n",
    "data={\n",
    "    'EmployeeID':[1,2,3,4],\n",
    "    'Name':['Alice','Bob','Charlie','David'],\n",
    "    'Age':[30,25,40,22],\n",
    "'Years_of_Experience':[5,27,15,1]\n",
    "}\n",
    "df=pd.DataFrame(data)\n",
    "#Cross-field validation function\n",
    "def validate_experience(row):\n",
    " if row['Years_of_Experience']>row['Age']:\n",
    "     return False\n",
    " return True\n",
    "df['Is_Valid']=df.apply(validate_experience,axis=1)\n",
    "    #filter invalid rows\n",
    "invalid_rows=df[df['Is_Valid']==False]\n",
    "\n",
    "print(\"Invalid Rows:\")\n",
    "print(invalid_rows)"
   ]
  },
  {
   "cell_type": "code",
   "execution_count": 28,
   "id": "0e9aa229-4354-4eed-87d1-b2853791e460",
   "metadata": {},
   "outputs": [
    {
     "name": "stdout",
     "output_type": "stream",
     "text": [
      "  Start Date   End Date  Valid\n",
      "0 2023-01-01 2023-01-10   True\n",
      "1 2023-02-01 2023-01-05  False\n",
      "2 2023-03-02 2023-04-01   True\n",
      "Invalid rows found:\n",
      "  Start Date   End Date  Valid\n",
      "1 2023-02-01 2023-01-05  False\n"
     ]
    }
   ],
   "source": [
    "import pandas as pd\n",
    "data={'Start Date':['2023-01-01','2023-02-01','2023-03-02'],\n",
    "    'End Date':['2023-01-10','2023-01-05','2023-04-01']\n",
    "}\n",
    "df=pd.DataFrame(data)\n",
    "df['Start Date']=pd.to_datetime(df['Start Date'])\n",
    "df['End Date']=pd.to_datetime(df['End Date'])\n",
    "df['Valid']=df['Start Date']<df['End Date']\n",
    "print(df)\n",
    "invalid_rows=df [~df['Valid']]\n",
    "if not invalid_rows.empty:\n",
    "    print(\"Invalid rows found:\")\n",
    "    print(invalid_rows)\n",
    "else:\n",
    "    print(\"All rows are valid.\")\n",
    "    df.head()"
   ]
  },
  {
   "cell_type": "code",
   "execution_count": 34,
   "id": "69348d4f-1bd4-4f2e-9a56-6947268e5c17",
   "metadata": {},
   "outputs": [
    {
     "name": "stdout",
     "output_type": "stream",
     "text": [
      "  Start Date   End Date  Valid\n",
      "0 2023-01-01 2023-01-10   True\n",
      "1 2023-02-01 2023-01-05  False\n",
      "2 2023-03-02 2023-04-01   True\n",
      "Invalid rows found:\n",
      "  Start Date   End Date  Valid\n",
      "1 2023-02-01 2023-01-05  False\n"
     ]
    }
   ],
   "source": [
    "import pandas as pd\n",
    "df=pd.read_csv(\"dirtybmi_22.csv\")\n",
    "df.head(10)\n",
    "data={'Start Date':['2023-01-01','2023-02-01','2023-03-02'],\n",
    "    'End Date':['2023-01-10','2023-01-05','2023-04-01']\n",
    "}\n",
    "df=pd.DataFrame(data)\n",
    "df['Start Date']=pd.to_datetime(df['Start Date'])\n",
    "df['End Date']=pd.to_datetime(df['End Date'])\n",
    "df['Valid']=df['Start Date']<df['End Date']\n",
    "print(df)\n",
    "invalid_rows=df [~df['Valid']]\n",
    "if not invalid_rows.empty:\n",
    "    print(\"Invalid rows found:\")\n",
    "    print(invalid_rows)\n",
    "else:\n",
    "    print(\"All rows are valid.\")\n",
    "    \n",
    "    df.head(10)\n"
   ]
  },
  {
   "cell_type": "code",
   "execution_count": null,
   "id": "f6315e2d-7153-4f9d-8498-122c94f09f4c",
   "metadata": {},
   "outputs": [],
   "source": [
    "df['female']=df['female'].clip(lower=lower_bound,upper=upper_bound)"
   ]
  },
  {
   "cell_type": "code",
   "execution_count": 47,
   "id": "fd9e4e6f-cfca-431c-a689-f812c37aa19b",
   "metadata": {},
   "outputs": [
    {
     "name": "stdout",
     "output_type": "stream",
     "text": [
      "Invalid Rows:\n",
      "Empty DataFrame\n",
      "Columns: [Gender, Height, Weight, Index, Unnamed: 4, Unnamed: 5, female, male, is_valid]\n",
      "Index: []\n"
     ]
    }
   ],
   "source": [
    "import pandas as pd\n",
    "df=pd.read_csv(\"dirtybmi_22.csv\")\n",
    "def validate_Height(row):\n",
    "    if row['Height']>row['Weight']:\n",
    "       return False\n",
    "       return True\n",
    "df['is_valid']=df.apply(validate_Height,axis=1)\n",
    "    #filter invalid rows\n",
    "invalid_rows=df[df['is_valid']==True]\n",
    "\n",
    "print('Invalid Rows:')\n",
    "print(invalid_rows)\n"
   ]
  },
  {
   "cell_type": "code",
   "execution_count": 87,
   "id": "75084c33-c3d9-49b5-968b-f0807655a976",
   "metadata": {},
   "outputs": [
    {
     "name": "stdout",
     "output_type": "stream",
     "text": [
      "Original DataFrame:\n",
      "     A     B    C       D\n",
      "0  1.0   5.0  NaN     dog\n",
      "1  2.0   NaN  2.0     cat\n",
      "2  NaN   NaN  3.0     NaN\n",
      "3  4.0   8.0  4.0   mouse\n",
      "4  5.0  10.0  NaN  rabbit\n",
      "\n",
      "Detect missing values:\n",
      "       A      B      C      D\n",
      "0  False  False   True  False\n",
      "1  False   True  False  False\n",
      "2   True   True  False   True\n",
      "3  False  False  False  False\n",
      "4  False  False   True  False\n",
      "\n",
      "DataFrame after dropping rows with any missing values.\n",
      "     A    B    C      D\n",
      "3  4.0  8.0  4.0  mouse\n",
      "\n",
      "DataFrame after dropping rows with missing values in columns 'A'or'B':\n",
      "     A     B    C       D\n",
      "0  1.0   5.0  NaN     dog\n",
      "3  4.0   8.0  4.0   mouse\n",
      "4  5.0  10.0  NaN  rabbit\n",
      "\n",
      "DataFrame after filling missing values with 0:\n",
      "     A     B    C       D\n",
      "0  1.0   5.0  0.0     dog\n",
      "1  2.0   0.0  2.0     cat\n",
      "2  0.0   0.0  3.0       0\n",
      "3  4.0   8.0  4.0   mouse\n",
      "4  5.0  10.0  0.0  rabbit\n",
      "\\DataFrame after filling missing values with column mean:\n",
      "     A          B    C       D\n",
      "0  1.0   5.000000  3.0     dog\n",
      "1  2.0   7.666667  2.0     cat\n",
      "2  3.0   7.666667  3.0     NaN\n",
      "3  4.0   8.000000  4.0   mouse\n",
      "4  5.0  10.000000  3.0  rabbit\n",
      "\n",
      "DataFrame after forward fill:\n",
      "     A     B    C       D\n",
      "0  1.0   5.0  NaN     dog\n",
      "1  2.0   5.0  2.0     cat\n",
      "2  2.0   5.0  3.0     cat\n",
      "3  4.0   8.0  4.0   mouse\n",
      "4  5.0  10.0  4.0  rabbit\n",
      "\n",
      "DataFrame after interpolation:\n",
      "     A     B    C       D\n",
      "0  1.0   5.0  NaN     dog\n",
      "1  2.0   6.0  2.0     cat\n",
      "2  3.0   7.0  3.0     NaN\n",
      "3  4.0   8.0  4.0   mouse\n",
      "4  5.0  10.0  4.0  rabbit\n"
     ]
    },
    {
     "name": "stderr",
     "output_type": "stream",
     "text": [
      "C:\\Users\\ADMIN\\AppData\\Local\\Temp\\ipykernel_11244\\685771511.py:29: FutureWarning: DataFrame.interpolate with object dtype is deprecated and will raise in a future version. Call obj.infer_objects(copy=False) before interpolating instead.\n",
      "  df_interpolate=df.interpolate()\n"
     ]
    }
   ],
   "source": [
    "import pandas as pd\n",
    "import numpy as np\n",
    "data={\n",
    "    'A':[1,2,np.nan,4,5],\n",
    "    'B':[5,np.nan,np.nan,8,10],\n",
    "    'C':[np.nan,2,3,4,np.nan],\n",
    "    'D':['dog','cat',np.nan,'mouse','rabbit']}\n",
    "df=pd.DataFrame(data)\n",
    "print(\"Original DataFrame:\")\n",
    "print(df)\n",
    "print(\"\\nDetect missing values:\")\n",
    "print(df.isnull())\n",
    "df_dropna=df.dropna()\n",
    "print(\"\\nDataFrame after dropping rows with any missing values.\")\n",
    "df_dropna=df.dropna()\n",
    "print(df_dropna)\n",
    "df_dropna_subset=df.dropna(subset=['A','B'])\n",
    "print(\"\\nDataFrame after dropping rows with missing values in columns 'A'or'B':\")\n",
    "print(df_dropna_subset)\n",
    "df_fillna=df.fillna(0)\n",
    "print(\"\\nDataFrame after filling missing values with 0:\")\n",
    "print(df_fillna)\n",
    "df_fillna_mean=df.fillna(df.mean(numeric_only=True))\n",
    "print(\"\\DataFrame after filling missing values with column mean:\")\n",
    "print(df_fillna_mean)\n",
    "df_ffill=df.ffill()\n",
    "print(\"\\nDataFrame after forward fill:\")\n",
    "print(df_ffill)\n",
    "df_interpolate=df.interpolate()\n",
    "print(\"\\nDataFrame after interpolation:\")\n",
    "print(df_interpolate)\n",
    "      "
   ]
  },
  {
   "cell_type": "code",
   "execution_count": 4,
   "id": "6c4cd498-7bd3-4414-a254-04ba1290a583",
   "metadata": {},
   "outputs": [
    {
     "name": "stdout",
     "output_type": "stream",
     "text": [
      "Education\n",
      "Some College      1423\n",
      "College Grad      1246\n",
      "High School        993\n",
      "9 - 11th Grade     624\n",
      "8th Grade          359\n",
      "Name: count, dtype: int64\n",
      "col_0           Frequency\n",
      "Education                \n",
      "8th Grade             359\n",
      "9 - 11th Grade        624\n",
      "College Grad         1246\n",
      "High School           993\n",
      "Some College         1423\n"
     ]
    },
    {
     "data": {
      "text/html": [
       "<div>\n",
       "<style scoped>\n",
       "    .dataframe tbody tr th:only-of-type {\n",
       "        vertical-align: middle;\n",
       "    }\n",
       "\n",
       "    .dataframe tbody tr th {\n",
       "        vertical-align: top;\n",
       "    }\n",
       "\n",
       "    .dataframe thead th {\n",
       "        text-align: right;\n",
       "    }\n",
       "</style>\n",
       "<table border=\"1\" class=\"dataframe\">\n",
       "  <thead>\n",
       "    <tr style=\"text-align: right;\">\n",
       "      <th></th>\n",
       "      <th>ID</th>\n",
       "      <th>SurveyYr</th>\n",
       "      <th>Gender</th>\n",
       "      <th>Age</th>\n",
       "      <th>AgeDecade</th>\n",
       "      <th>AgeMonths</th>\n",
       "      <th>Education</th>\n",
       "      <th>MaritalStatus</th>\n",
       "      <th>HHIncome</th>\n",
       "      <th>HHIncomeMid</th>\n",
       "      <th>...</th>\n",
       "      <th>PhysActiveDays</th>\n",
       "      <th>TVHrsDay</th>\n",
       "      <th>SleepHrsNight</th>\n",
       "      <th>SleepTrouble</th>\n",
       "      <th>CompHrsDay</th>\n",
       "      <th>TVHrsDayChild</th>\n",
       "      <th>CompHrsDayChild</th>\n",
       "      <th>SmokeNow</th>\n",
       "      <th>Smoke100</th>\n",
       "      <th>Smoke100n</th>\n",
       "    </tr>\n",
       "  </thead>\n",
       "  <tbody>\n",
       "    <tr>\n",
       "      <th>0</th>\n",
       "      <td>51624</td>\n",
       "      <td>2009_10</td>\n",
       "      <td>male</td>\n",
       "      <td>34</td>\n",
       "      <td>30-39</td>\n",
       "      <td>409.0</td>\n",
       "      <td>High School</td>\n",
       "      <td>Married</td>\n",
       "      <td>25000-34999</td>\n",
       "      <td>30000.0</td>\n",
       "      <td>...</td>\n",
       "      <td>NaN</td>\n",
       "      <td>NaN</td>\n",
       "      <td>4.0</td>\n",
       "      <td>Yes</td>\n",
       "      <td>NaN</td>\n",
       "      <td>NaN</td>\n",
       "      <td>NaN</td>\n",
       "      <td>No</td>\n",
       "      <td>Yes</td>\n",
       "      <td>Smoker</td>\n",
       "    </tr>\n",
       "    <tr>\n",
       "      <th>1</th>\n",
       "      <td>51625</td>\n",
       "      <td>2009_10</td>\n",
       "      <td>male</td>\n",
       "      <td>4</td>\n",
       "      <td>0-9</td>\n",
       "      <td>49.0</td>\n",
       "      <td>NaN</td>\n",
       "      <td>NaN</td>\n",
       "      <td>20000-24999</td>\n",
       "      <td>22500.0</td>\n",
       "      <td>...</td>\n",
       "      <td>NaN</td>\n",
       "      <td>NaN</td>\n",
       "      <td>NaN</td>\n",
       "      <td>NaN</td>\n",
       "      <td>NaN</td>\n",
       "      <td>4.0</td>\n",
       "      <td>1.0</td>\n",
       "      <td>NaN</td>\n",
       "      <td>NaN</td>\n",
       "      <td>NaN</td>\n",
       "    </tr>\n",
       "    <tr>\n",
       "      <th>2</th>\n",
       "      <td>51630</td>\n",
       "      <td>2009_10</td>\n",
       "      <td>female</td>\n",
       "      <td>49</td>\n",
       "      <td>40-49</td>\n",
       "      <td>596.0</td>\n",
       "      <td>Some College</td>\n",
       "      <td>LivePartner</td>\n",
       "      <td>35000-44999</td>\n",
       "      <td>40000.0</td>\n",
       "      <td>...</td>\n",
       "      <td>NaN</td>\n",
       "      <td>NaN</td>\n",
       "      <td>8.0</td>\n",
       "      <td>Yes</td>\n",
       "      <td>NaN</td>\n",
       "      <td>NaN</td>\n",
       "      <td>NaN</td>\n",
       "      <td>Yes</td>\n",
       "      <td>Yes</td>\n",
       "      <td>Smoker</td>\n",
       "    </tr>\n",
       "    <tr>\n",
       "      <th>3</th>\n",
       "      <td>51638</td>\n",
       "      <td>2009_10</td>\n",
       "      <td>male</td>\n",
       "      <td>9</td>\n",
       "      <td>0-9</td>\n",
       "      <td>115.0</td>\n",
       "      <td>NaN</td>\n",
       "      <td>NaN</td>\n",
       "      <td>75000-99999</td>\n",
       "      <td>87500.0</td>\n",
       "      <td>...</td>\n",
       "      <td>NaN</td>\n",
       "      <td>NaN</td>\n",
       "      <td>NaN</td>\n",
       "      <td>NaN</td>\n",
       "      <td>NaN</td>\n",
       "      <td>5.0</td>\n",
       "      <td>0.0</td>\n",
       "      <td>NaN</td>\n",
       "      <td>NaN</td>\n",
       "      <td>NaN</td>\n",
       "    </tr>\n",
       "    <tr>\n",
       "      <th>4</th>\n",
       "      <td>51646</td>\n",
       "      <td>2009_10</td>\n",
       "      <td>male</td>\n",
       "      <td>8</td>\n",
       "      <td>0-9</td>\n",
       "      <td>101.0</td>\n",
       "      <td>NaN</td>\n",
       "      <td>NaN</td>\n",
       "      <td>55000-64999</td>\n",
       "      <td>60000.0</td>\n",
       "      <td>...</td>\n",
       "      <td>NaN</td>\n",
       "      <td>NaN</td>\n",
       "      <td>NaN</td>\n",
       "      <td>NaN</td>\n",
       "      <td>NaN</td>\n",
       "      <td>1.0</td>\n",
       "      <td>6.0</td>\n",
       "      <td>NaN</td>\n",
       "      <td>NaN</td>\n",
       "      <td>NaN</td>\n",
       "    </tr>\n",
       "    <tr>\n",
       "      <th>5</th>\n",
       "      <td>51647</td>\n",
       "      <td>2009_10</td>\n",
       "      <td>female</td>\n",
       "      <td>45</td>\n",
       "      <td>40-49</td>\n",
       "      <td>541.0</td>\n",
       "      <td>College Grad</td>\n",
       "      <td>Married</td>\n",
       "      <td>75000-99999</td>\n",
       "      <td>87500.0</td>\n",
       "      <td>...</td>\n",
       "      <td>5.0</td>\n",
       "      <td>NaN</td>\n",
       "      <td>8.0</td>\n",
       "      <td>No</td>\n",
       "      <td>NaN</td>\n",
       "      <td>NaN</td>\n",
       "      <td>NaN</td>\n",
       "      <td>NaN</td>\n",
       "      <td>No</td>\n",
       "      <td>Non-Smoker</td>\n",
       "    </tr>\n",
       "    <tr>\n",
       "      <th>6</th>\n",
       "      <td>51654</td>\n",
       "      <td>2009_10</td>\n",
       "      <td>male</td>\n",
       "      <td>66</td>\n",
       "      <td>60-69</td>\n",
       "      <td>795.0</td>\n",
       "      <td>Some College</td>\n",
       "      <td>Married</td>\n",
       "      <td>25000-34999</td>\n",
       "      <td>30000.0</td>\n",
       "      <td>...</td>\n",
       "      <td>7.0</td>\n",
       "      <td>NaN</td>\n",
       "      <td>7.0</td>\n",
       "      <td>No</td>\n",
       "      <td>NaN</td>\n",
       "      <td>NaN</td>\n",
       "      <td>NaN</td>\n",
       "      <td>No</td>\n",
       "      <td>Yes</td>\n",
       "      <td>Smoker</td>\n",
       "    </tr>\n",
       "    <tr>\n",
       "      <th>7</th>\n",
       "      <td>51656</td>\n",
       "      <td>2009_10</td>\n",
       "      <td>male</td>\n",
       "      <td>58</td>\n",
       "      <td>50-59</td>\n",
       "      <td>707.0</td>\n",
       "      <td>College Grad</td>\n",
       "      <td>Divorced</td>\n",
       "      <td>more 99999</td>\n",
       "      <td>100000.0</td>\n",
       "      <td>...</td>\n",
       "      <td>5.0</td>\n",
       "      <td>NaN</td>\n",
       "      <td>5.0</td>\n",
       "      <td>No</td>\n",
       "      <td>NaN</td>\n",
       "      <td>NaN</td>\n",
       "      <td>NaN</td>\n",
       "      <td>NaN</td>\n",
       "      <td>No</td>\n",
       "      <td>Non-Smoker</td>\n",
       "    </tr>\n",
       "    <tr>\n",
       "      <th>8</th>\n",
       "      <td>51657</td>\n",
       "      <td>2009_10</td>\n",
       "      <td>male</td>\n",
       "      <td>54</td>\n",
       "      <td>50-59</td>\n",
       "      <td>654.0</td>\n",
       "      <td>9 - 11th Grade</td>\n",
       "      <td>Married</td>\n",
       "      <td>65000-74999</td>\n",
       "      <td>70000.0</td>\n",
       "      <td>...</td>\n",
       "      <td>1.0</td>\n",
       "      <td>NaN</td>\n",
       "      <td>4.0</td>\n",
       "      <td>Yes</td>\n",
       "      <td>NaN</td>\n",
       "      <td>NaN</td>\n",
       "      <td>NaN</td>\n",
       "      <td>NaN</td>\n",
       "      <td>No</td>\n",
       "      <td>Non-Smoker</td>\n",
       "    </tr>\n",
       "    <tr>\n",
       "      <th>9</th>\n",
       "      <td>51659</td>\n",
       "      <td>2009_10</td>\n",
       "      <td>female</td>\n",
       "      <td>10</td>\n",
       "      <td>Oct-19</td>\n",
       "      <td>123.0</td>\n",
       "      <td>NaN</td>\n",
       "      <td>NaN</td>\n",
       "      <td>NaN</td>\n",
       "      <td>NaN</td>\n",
       "      <td>...</td>\n",
       "      <td>NaN</td>\n",
       "      <td>NaN</td>\n",
       "      <td>NaN</td>\n",
       "      <td>NaN</td>\n",
       "      <td>NaN</td>\n",
       "      <td>4.0</td>\n",
       "      <td>3.0</td>\n",
       "      <td>NaN</td>\n",
       "      <td>NaN</td>\n",
       "      <td>NaN</td>\n",
       "    </tr>\n",
       "    <tr>\n",
       "      <th>10</th>\n",
       "      <td>51666</td>\n",
       "      <td>2009_10</td>\n",
       "      <td>female</td>\n",
       "      <td>58</td>\n",
       "      <td>50-59</td>\n",
       "      <td>700.0</td>\n",
       "      <td>High School</td>\n",
       "      <td>Married</td>\n",
       "      <td>75000-99999</td>\n",
       "      <td>87500.0</td>\n",
       "      <td>...</td>\n",
       "      <td>2.0</td>\n",
       "      <td>NaN</td>\n",
       "      <td>5.0</td>\n",
       "      <td>No</td>\n",
       "      <td>NaN</td>\n",
       "      <td>NaN</td>\n",
       "      <td>NaN</td>\n",
       "      <td>Yes</td>\n",
       "      <td>Yes</td>\n",
       "      <td>Smoker</td>\n",
       "    </tr>\n",
       "    <tr>\n",
       "      <th>11</th>\n",
       "      <td>51667</td>\n",
       "      <td>2009_10</td>\n",
       "      <td>male</td>\n",
       "      <td>50</td>\n",
       "      <td>50-59</td>\n",
       "      <td>603.0</td>\n",
       "      <td>Some College</td>\n",
       "      <td>NeverMarried</td>\n",
       "      <td>15000-19999</td>\n",
       "      <td>17500.0</td>\n",
       "      <td>...</td>\n",
       "      <td>7.0</td>\n",
       "      <td>NaN</td>\n",
       "      <td>7.0</td>\n",
       "      <td>No</td>\n",
       "      <td>NaN</td>\n",
       "      <td>NaN</td>\n",
       "      <td>NaN</td>\n",
       "      <td>NaN</td>\n",
       "      <td>No</td>\n",
       "      <td>Non-Smoker</td>\n",
       "    </tr>\n",
       "    <tr>\n",
       "      <th>12</th>\n",
       "      <td>51671</td>\n",
       "      <td>2009_10</td>\n",
       "      <td>female</td>\n",
       "      <td>9</td>\n",
       "      <td>0-9</td>\n",
       "      <td>112.0</td>\n",
       "      <td>NaN</td>\n",
       "      <td>NaN</td>\n",
       "      <td>NaN</td>\n",
       "      <td>NaN</td>\n",
       "      <td>...</td>\n",
       "      <td>NaN</td>\n",
       "      <td>NaN</td>\n",
       "      <td>NaN</td>\n",
       "      <td>NaN</td>\n",
       "      <td>NaN</td>\n",
       "      <td>0.0</td>\n",
       "      <td>1.0</td>\n",
       "      <td>NaN</td>\n",
       "      <td>NaN</td>\n",
       "      <td>NaN</td>\n",
       "    </tr>\n",
       "    <tr>\n",
       "      <th>13</th>\n",
       "      <td>51677</td>\n",
       "      <td>2009_10</td>\n",
       "      <td>male</td>\n",
       "      <td>33</td>\n",
       "      <td>30-39</td>\n",
       "      <td>404.0</td>\n",
       "      <td>High School</td>\n",
       "      <td>Married</td>\n",
       "      <td>25000-34999</td>\n",
       "      <td>30000.0</td>\n",
       "      <td>...</td>\n",
       "      <td>NaN</td>\n",
       "      <td>NaN</td>\n",
       "      <td>6.0</td>\n",
       "      <td>No</td>\n",
       "      <td>NaN</td>\n",
       "      <td>NaN</td>\n",
       "      <td>NaN</td>\n",
       "      <td>No</td>\n",
       "      <td>Yes</td>\n",
       "      <td>Smoker</td>\n",
       "    </tr>\n",
       "    <tr>\n",
       "      <th>14</th>\n",
       "      <td>51678</td>\n",
       "      <td>2009_10</td>\n",
       "      <td>male</td>\n",
       "      <td>60</td>\n",
       "      <td>60-69</td>\n",
       "      <td>721.0</td>\n",
       "      <td>High School</td>\n",
       "      <td>Married</td>\n",
       "      <td>15000-19999</td>\n",
       "      <td>17500.0</td>\n",
       "      <td>...</td>\n",
       "      <td>NaN</td>\n",
       "      <td>NaN</td>\n",
       "      <td>6.0</td>\n",
       "      <td>Yes</td>\n",
       "      <td>NaN</td>\n",
       "      <td>NaN</td>\n",
       "      <td>NaN</td>\n",
       "      <td>No</td>\n",
       "      <td>Yes</td>\n",
       "      <td>Smoker</td>\n",
       "    </tr>\n",
       "  </tbody>\n",
       "</table>\n",
       "<p>15 rows × 37 columns</p>\n",
       "</div>"
      ],
      "text/plain": [
       "       ID SurveyYr  Gender  Age AgeDecade  AgeMonths       Education  \\\n",
       "0   51624  2009_10    male   34     30-39      409.0     High School   \n",
       "1   51625  2009_10    male    4       0-9       49.0             NaN   \n",
       "2   51630  2009_10  female   49     40-49      596.0    Some College   \n",
       "3   51638  2009_10    male    9       0-9      115.0             NaN   \n",
       "4   51646  2009_10    male    8       0-9      101.0             NaN   \n",
       "5   51647  2009_10  female   45     40-49      541.0    College Grad   \n",
       "6   51654  2009_10    male   66     60-69      795.0    Some College   \n",
       "7   51656  2009_10    male   58     50-59      707.0    College Grad   \n",
       "8   51657  2009_10    male   54     50-59      654.0  9 - 11th Grade   \n",
       "9   51659  2009_10  female   10    Oct-19      123.0             NaN   \n",
       "10  51666  2009_10  female   58     50-59      700.0     High School   \n",
       "11  51667  2009_10    male   50     50-59      603.0    Some College   \n",
       "12  51671  2009_10  female    9       0-9      112.0             NaN   \n",
       "13  51677  2009_10    male   33     30-39      404.0     High School   \n",
       "14  51678  2009_10    male   60     60-69      721.0     High School   \n",
       "\n",
       "   MaritalStatus     HHIncome  HHIncomeMid  ...  PhysActiveDays  TVHrsDay  \\\n",
       "0        Married  25000-34999      30000.0  ...             NaN       NaN   \n",
       "1            NaN  20000-24999      22500.0  ...             NaN       NaN   \n",
       "2    LivePartner  35000-44999      40000.0  ...             NaN       NaN   \n",
       "3            NaN  75000-99999      87500.0  ...             NaN       NaN   \n",
       "4            NaN  55000-64999      60000.0  ...             NaN       NaN   \n",
       "5        Married  75000-99999      87500.0  ...             5.0       NaN   \n",
       "6        Married  25000-34999      30000.0  ...             7.0       NaN   \n",
       "7       Divorced   more 99999     100000.0  ...             5.0       NaN   \n",
       "8        Married  65000-74999      70000.0  ...             1.0       NaN   \n",
       "9            NaN          NaN          NaN  ...             NaN       NaN   \n",
       "10       Married  75000-99999      87500.0  ...             2.0       NaN   \n",
       "11  NeverMarried  15000-19999      17500.0  ...             7.0       NaN   \n",
       "12           NaN          NaN          NaN  ...             NaN       NaN   \n",
       "13       Married  25000-34999      30000.0  ...             NaN       NaN   \n",
       "14       Married  15000-19999      17500.0  ...             NaN       NaN   \n",
       "\n",
       "   SleepHrsNight SleepTrouble  CompHrsDay  TVHrsDayChild  CompHrsDayChild  \\\n",
       "0            4.0          Yes         NaN            NaN              NaN   \n",
       "1            NaN          NaN         NaN            4.0              1.0   \n",
       "2            8.0          Yes         NaN            NaN              NaN   \n",
       "3            NaN          NaN         NaN            5.0              0.0   \n",
       "4            NaN          NaN         NaN            1.0              6.0   \n",
       "5            8.0           No         NaN            NaN              NaN   \n",
       "6            7.0           No         NaN            NaN              NaN   \n",
       "7            5.0           No         NaN            NaN              NaN   \n",
       "8            4.0          Yes         NaN            NaN              NaN   \n",
       "9            NaN          NaN         NaN            4.0              3.0   \n",
       "10           5.0           No         NaN            NaN              NaN   \n",
       "11           7.0           No         NaN            NaN              NaN   \n",
       "12           NaN          NaN         NaN            0.0              1.0   \n",
       "13           6.0           No         NaN            NaN              NaN   \n",
       "14           6.0          Yes         NaN            NaN              NaN   \n",
       "\n",
       "   SmokeNow  Smoke100   Smoke100n  \n",
       "0        No       Yes      Smoker  \n",
       "1       NaN       NaN         NaN  \n",
       "2       Yes       Yes      Smoker  \n",
       "3       NaN       NaN         NaN  \n",
       "4       NaN       NaN         NaN  \n",
       "5       NaN        No  Non-Smoker  \n",
       "6        No       Yes      Smoker  \n",
       "7       NaN        No  Non-Smoker  \n",
       "8       NaN        No  Non-Smoker  \n",
       "9       NaN       NaN         NaN  \n",
       "10      Yes       Yes      Smoker  \n",
       "11      NaN        No  Non-Smoker  \n",
       "12      NaN       NaN         NaN  \n",
       "13       No       Yes      Smoker  \n",
       "14       No       Yes      Smoker  \n",
       "\n",
       "[15 rows x 37 columns]"
      ]
     },
     "execution_count": 4,
     "metadata": {},
     "output_type": "execute_result"
    }
   ],
   "source": [
    "import pandas as pd\n",
    "import numpy as np\n",
    "import matplotlib.pyplot as plt\n",
    "import seaborn as sns\n",
    "from statsmodels.graphics.mosaicplot import mosaic\n",
    "data=pd.read_csv('nhanes_reduced .csv')\n",
    "data.head(10)\n",
    "nhanes=data['Education'].value_counts()\n",
    "print(nhanes)\n",
    "freq_table=pd.crosstab(data['Education'],\n",
    "'Frequency')\n",
    "print(freq_table)\n",
    "data.head(15)"
   ]
  },
  {
   "cell_type": "code",
   "execution_count": 11,
   "id": "15dce10d-b807-4561-bd66-2ce645d8d473",
   "metadata": {},
   "outputs": [
    {
     "name": "stdout",
     "output_type": "stream",
     "text": [
      "MaritalStatus\n",
      "Married         2463\n",
      "NeverMarried     899\n",
      "Divorced         443\n",
      "LivePartner      374\n",
      "Widowed          336\n",
      "Separated        135\n",
      "Name: count, dtype: int64\n",
      "col_0          Frequency\n",
      "MaritalStatus           \n",
      "Divorced             443\n",
      "LivePartner          374\n",
      "Married             2463\n",
      "NeverMarried         899\n",
      "Separated            135\n",
      "Widowed              336\n"
     ]
    },
    {
     "data": {
      "text/html": [
       "<div>\n",
       "<style scoped>\n",
       "    .dataframe tbody tr th:only-of-type {\n",
       "        vertical-align: middle;\n",
       "    }\n",
       "\n",
       "    .dataframe tbody tr th {\n",
       "        vertical-align: top;\n",
       "    }\n",
       "\n",
       "    .dataframe thead th {\n",
       "        text-align: right;\n",
       "    }\n",
       "</style>\n",
       "<table border=\"1\" class=\"dataframe\">\n",
       "  <thead>\n",
       "    <tr style=\"text-align: right;\">\n",
       "      <th></th>\n",
       "      <th>ID</th>\n",
       "      <th>SurveyYr</th>\n",
       "      <th>Gender</th>\n",
       "      <th>Age</th>\n",
       "      <th>AgeDecade</th>\n",
       "      <th>AgeMonths</th>\n",
       "      <th>Education</th>\n",
       "      <th>MaritalStatus</th>\n",
       "      <th>HHIncome</th>\n",
       "      <th>HHIncomeMid</th>\n",
       "      <th>...</th>\n",
       "      <th>PhysActiveDays</th>\n",
       "      <th>TVHrsDay</th>\n",
       "      <th>SleepHrsNight</th>\n",
       "      <th>SleepTrouble</th>\n",
       "      <th>CompHrsDay</th>\n",
       "      <th>TVHrsDayChild</th>\n",
       "      <th>CompHrsDayChild</th>\n",
       "      <th>SmokeNow</th>\n",
       "      <th>Smoke100</th>\n",
       "      <th>Smoke100n</th>\n",
       "    </tr>\n",
       "  </thead>\n",
       "  <tbody>\n",
       "    <tr>\n",
       "      <th>0</th>\n",
       "      <td>51624</td>\n",
       "      <td>2009_10</td>\n",
       "      <td>male</td>\n",
       "      <td>34</td>\n",
       "      <td>30-39</td>\n",
       "      <td>409.0</td>\n",
       "      <td>High School</td>\n",
       "      <td>Married</td>\n",
       "      <td>25000-34999</td>\n",
       "      <td>30000.0</td>\n",
       "      <td>...</td>\n",
       "      <td>NaN</td>\n",
       "      <td>NaN</td>\n",
       "      <td>4.0</td>\n",
       "      <td>Yes</td>\n",
       "      <td>NaN</td>\n",
       "      <td>NaN</td>\n",
       "      <td>NaN</td>\n",
       "      <td>No</td>\n",
       "      <td>Yes</td>\n",
       "      <td>Smoker</td>\n",
       "    </tr>\n",
       "    <tr>\n",
       "      <th>1</th>\n",
       "      <td>51625</td>\n",
       "      <td>2009_10</td>\n",
       "      <td>male</td>\n",
       "      <td>4</td>\n",
       "      <td>0-9</td>\n",
       "      <td>49.0</td>\n",
       "      <td>NaN</td>\n",
       "      <td>NaN</td>\n",
       "      <td>20000-24999</td>\n",
       "      <td>22500.0</td>\n",
       "      <td>...</td>\n",
       "      <td>NaN</td>\n",
       "      <td>NaN</td>\n",
       "      <td>NaN</td>\n",
       "      <td>NaN</td>\n",
       "      <td>NaN</td>\n",
       "      <td>4.0</td>\n",
       "      <td>1.0</td>\n",
       "      <td>NaN</td>\n",
       "      <td>NaN</td>\n",
       "      <td>NaN</td>\n",
       "    </tr>\n",
       "    <tr>\n",
       "      <th>2</th>\n",
       "      <td>51630</td>\n",
       "      <td>2009_10</td>\n",
       "      <td>female</td>\n",
       "      <td>49</td>\n",
       "      <td>40-49</td>\n",
       "      <td>596.0</td>\n",
       "      <td>Some College</td>\n",
       "      <td>LivePartner</td>\n",
       "      <td>35000-44999</td>\n",
       "      <td>40000.0</td>\n",
       "      <td>...</td>\n",
       "      <td>NaN</td>\n",
       "      <td>NaN</td>\n",
       "      <td>8.0</td>\n",
       "      <td>Yes</td>\n",
       "      <td>NaN</td>\n",
       "      <td>NaN</td>\n",
       "      <td>NaN</td>\n",
       "      <td>Yes</td>\n",
       "      <td>Yes</td>\n",
       "      <td>Smoker</td>\n",
       "    </tr>\n",
       "    <tr>\n",
       "      <th>3</th>\n",
       "      <td>51638</td>\n",
       "      <td>2009_10</td>\n",
       "      <td>male</td>\n",
       "      <td>9</td>\n",
       "      <td>0-9</td>\n",
       "      <td>115.0</td>\n",
       "      <td>NaN</td>\n",
       "      <td>NaN</td>\n",
       "      <td>75000-99999</td>\n",
       "      <td>87500.0</td>\n",
       "      <td>...</td>\n",
       "      <td>NaN</td>\n",
       "      <td>NaN</td>\n",
       "      <td>NaN</td>\n",
       "      <td>NaN</td>\n",
       "      <td>NaN</td>\n",
       "      <td>5.0</td>\n",
       "      <td>0.0</td>\n",
       "      <td>NaN</td>\n",
       "      <td>NaN</td>\n",
       "      <td>NaN</td>\n",
       "    </tr>\n",
       "    <tr>\n",
       "      <th>4</th>\n",
       "      <td>51646</td>\n",
       "      <td>2009_10</td>\n",
       "      <td>male</td>\n",
       "      <td>8</td>\n",
       "      <td>0-9</td>\n",
       "      <td>101.0</td>\n",
       "      <td>NaN</td>\n",
       "      <td>NaN</td>\n",
       "      <td>55000-64999</td>\n",
       "      <td>60000.0</td>\n",
       "      <td>...</td>\n",
       "      <td>NaN</td>\n",
       "      <td>NaN</td>\n",
       "      <td>NaN</td>\n",
       "      <td>NaN</td>\n",
       "      <td>NaN</td>\n",
       "      <td>1.0</td>\n",
       "      <td>6.0</td>\n",
       "      <td>NaN</td>\n",
       "      <td>NaN</td>\n",
       "      <td>NaN</td>\n",
       "    </tr>\n",
       "    <tr>\n",
       "      <th>5</th>\n",
       "      <td>51647</td>\n",
       "      <td>2009_10</td>\n",
       "      <td>female</td>\n",
       "      <td>45</td>\n",
       "      <td>40-49</td>\n",
       "      <td>541.0</td>\n",
       "      <td>College Grad</td>\n",
       "      <td>Married</td>\n",
       "      <td>75000-99999</td>\n",
       "      <td>87500.0</td>\n",
       "      <td>...</td>\n",
       "      <td>5.0</td>\n",
       "      <td>NaN</td>\n",
       "      <td>8.0</td>\n",
       "      <td>No</td>\n",
       "      <td>NaN</td>\n",
       "      <td>NaN</td>\n",
       "      <td>NaN</td>\n",
       "      <td>NaN</td>\n",
       "      <td>No</td>\n",
       "      <td>Non-Smoker</td>\n",
       "    </tr>\n",
       "    <tr>\n",
       "      <th>6</th>\n",
       "      <td>51654</td>\n",
       "      <td>2009_10</td>\n",
       "      <td>male</td>\n",
       "      <td>66</td>\n",
       "      <td>60-69</td>\n",
       "      <td>795.0</td>\n",
       "      <td>Some College</td>\n",
       "      <td>Married</td>\n",
       "      <td>25000-34999</td>\n",
       "      <td>30000.0</td>\n",
       "      <td>...</td>\n",
       "      <td>7.0</td>\n",
       "      <td>NaN</td>\n",
       "      <td>7.0</td>\n",
       "      <td>No</td>\n",
       "      <td>NaN</td>\n",
       "      <td>NaN</td>\n",
       "      <td>NaN</td>\n",
       "      <td>No</td>\n",
       "      <td>Yes</td>\n",
       "      <td>Smoker</td>\n",
       "    </tr>\n",
       "    <tr>\n",
       "      <th>7</th>\n",
       "      <td>51656</td>\n",
       "      <td>2009_10</td>\n",
       "      <td>male</td>\n",
       "      <td>58</td>\n",
       "      <td>50-59</td>\n",
       "      <td>707.0</td>\n",
       "      <td>College Grad</td>\n",
       "      <td>Divorced</td>\n",
       "      <td>more 99999</td>\n",
       "      <td>100000.0</td>\n",
       "      <td>...</td>\n",
       "      <td>5.0</td>\n",
       "      <td>NaN</td>\n",
       "      <td>5.0</td>\n",
       "      <td>No</td>\n",
       "      <td>NaN</td>\n",
       "      <td>NaN</td>\n",
       "      <td>NaN</td>\n",
       "      <td>NaN</td>\n",
       "      <td>No</td>\n",
       "      <td>Non-Smoker</td>\n",
       "    </tr>\n",
       "    <tr>\n",
       "      <th>8</th>\n",
       "      <td>51657</td>\n",
       "      <td>2009_10</td>\n",
       "      <td>male</td>\n",
       "      <td>54</td>\n",
       "      <td>50-59</td>\n",
       "      <td>654.0</td>\n",
       "      <td>9 - 11th Grade</td>\n",
       "      <td>Married</td>\n",
       "      <td>65000-74999</td>\n",
       "      <td>70000.0</td>\n",
       "      <td>...</td>\n",
       "      <td>1.0</td>\n",
       "      <td>NaN</td>\n",
       "      <td>4.0</td>\n",
       "      <td>Yes</td>\n",
       "      <td>NaN</td>\n",
       "      <td>NaN</td>\n",
       "      <td>NaN</td>\n",
       "      <td>NaN</td>\n",
       "      <td>No</td>\n",
       "      <td>Non-Smoker</td>\n",
       "    </tr>\n",
       "    <tr>\n",
       "      <th>9</th>\n",
       "      <td>51659</td>\n",
       "      <td>2009_10</td>\n",
       "      <td>female</td>\n",
       "      <td>10</td>\n",
       "      <td>Oct-19</td>\n",
       "      <td>123.0</td>\n",
       "      <td>NaN</td>\n",
       "      <td>NaN</td>\n",
       "      <td>NaN</td>\n",
       "      <td>NaN</td>\n",
       "      <td>...</td>\n",
       "      <td>NaN</td>\n",
       "      <td>NaN</td>\n",
       "      <td>NaN</td>\n",
       "      <td>NaN</td>\n",
       "      <td>NaN</td>\n",
       "      <td>4.0</td>\n",
       "      <td>3.0</td>\n",
       "      <td>NaN</td>\n",
       "      <td>NaN</td>\n",
       "      <td>NaN</td>\n",
       "    </tr>\n",
       "    <tr>\n",
       "      <th>10</th>\n",
       "      <td>51666</td>\n",
       "      <td>2009_10</td>\n",
       "      <td>female</td>\n",
       "      <td>58</td>\n",
       "      <td>50-59</td>\n",
       "      <td>700.0</td>\n",
       "      <td>High School</td>\n",
       "      <td>Married</td>\n",
       "      <td>75000-99999</td>\n",
       "      <td>87500.0</td>\n",
       "      <td>...</td>\n",
       "      <td>2.0</td>\n",
       "      <td>NaN</td>\n",
       "      <td>5.0</td>\n",
       "      <td>No</td>\n",
       "      <td>NaN</td>\n",
       "      <td>NaN</td>\n",
       "      <td>NaN</td>\n",
       "      <td>Yes</td>\n",
       "      <td>Yes</td>\n",
       "      <td>Smoker</td>\n",
       "    </tr>\n",
       "    <tr>\n",
       "      <th>11</th>\n",
       "      <td>51667</td>\n",
       "      <td>2009_10</td>\n",
       "      <td>male</td>\n",
       "      <td>50</td>\n",
       "      <td>50-59</td>\n",
       "      <td>603.0</td>\n",
       "      <td>Some College</td>\n",
       "      <td>NeverMarried</td>\n",
       "      <td>15000-19999</td>\n",
       "      <td>17500.0</td>\n",
       "      <td>...</td>\n",
       "      <td>7.0</td>\n",
       "      <td>NaN</td>\n",
       "      <td>7.0</td>\n",
       "      <td>No</td>\n",
       "      <td>NaN</td>\n",
       "      <td>NaN</td>\n",
       "      <td>NaN</td>\n",
       "      <td>NaN</td>\n",
       "      <td>No</td>\n",
       "      <td>Non-Smoker</td>\n",
       "    </tr>\n",
       "    <tr>\n",
       "      <th>12</th>\n",
       "      <td>51671</td>\n",
       "      <td>2009_10</td>\n",
       "      <td>female</td>\n",
       "      <td>9</td>\n",
       "      <td>0-9</td>\n",
       "      <td>112.0</td>\n",
       "      <td>NaN</td>\n",
       "      <td>NaN</td>\n",
       "      <td>NaN</td>\n",
       "      <td>NaN</td>\n",
       "      <td>...</td>\n",
       "      <td>NaN</td>\n",
       "      <td>NaN</td>\n",
       "      <td>NaN</td>\n",
       "      <td>NaN</td>\n",
       "      <td>NaN</td>\n",
       "      <td>0.0</td>\n",
       "      <td>1.0</td>\n",
       "      <td>NaN</td>\n",
       "      <td>NaN</td>\n",
       "      <td>NaN</td>\n",
       "    </tr>\n",
       "    <tr>\n",
       "      <th>13</th>\n",
       "      <td>51677</td>\n",
       "      <td>2009_10</td>\n",
       "      <td>male</td>\n",
       "      <td>33</td>\n",
       "      <td>30-39</td>\n",
       "      <td>404.0</td>\n",
       "      <td>High School</td>\n",
       "      <td>Married</td>\n",
       "      <td>25000-34999</td>\n",
       "      <td>30000.0</td>\n",
       "      <td>...</td>\n",
       "      <td>NaN</td>\n",
       "      <td>NaN</td>\n",
       "      <td>6.0</td>\n",
       "      <td>No</td>\n",
       "      <td>NaN</td>\n",
       "      <td>NaN</td>\n",
       "      <td>NaN</td>\n",
       "      <td>No</td>\n",
       "      <td>Yes</td>\n",
       "      <td>Smoker</td>\n",
       "    </tr>\n",
       "    <tr>\n",
       "      <th>14</th>\n",
       "      <td>51678</td>\n",
       "      <td>2009_10</td>\n",
       "      <td>male</td>\n",
       "      <td>60</td>\n",
       "      <td>60-69</td>\n",
       "      <td>721.0</td>\n",
       "      <td>High School</td>\n",
       "      <td>Married</td>\n",
       "      <td>15000-19999</td>\n",
       "      <td>17500.0</td>\n",
       "      <td>...</td>\n",
       "      <td>NaN</td>\n",
       "      <td>NaN</td>\n",
       "      <td>6.0</td>\n",
       "      <td>Yes</td>\n",
       "      <td>NaN</td>\n",
       "      <td>NaN</td>\n",
       "      <td>NaN</td>\n",
       "      <td>No</td>\n",
       "      <td>Yes</td>\n",
       "      <td>Smoker</td>\n",
       "    </tr>\n",
       "  </tbody>\n",
       "</table>\n",
       "<p>15 rows × 37 columns</p>\n",
       "</div>"
      ],
      "text/plain": [
       "       ID SurveyYr  Gender  Age AgeDecade  AgeMonths       Education  \\\n",
       "0   51624  2009_10    male   34     30-39      409.0     High School   \n",
       "1   51625  2009_10    male    4       0-9       49.0             NaN   \n",
       "2   51630  2009_10  female   49     40-49      596.0    Some College   \n",
       "3   51638  2009_10    male    9       0-9      115.0             NaN   \n",
       "4   51646  2009_10    male    8       0-9      101.0             NaN   \n",
       "5   51647  2009_10  female   45     40-49      541.0    College Grad   \n",
       "6   51654  2009_10    male   66     60-69      795.0    Some College   \n",
       "7   51656  2009_10    male   58     50-59      707.0    College Grad   \n",
       "8   51657  2009_10    male   54     50-59      654.0  9 - 11th Grade   \n",
       "9   51659  2009_10  female   10    Oct-19      123.0             NaN   \n",
       "10  51666  2009_10  female   58     50-59      700.0     High School   \n",
       "11  51667  2009_10    male   50     50-59      603.0    Some College   \n",
       "12  51671  2009_10  female    9       0-9      112.0             NaN   \n",
       "13  51677  2009_10    male   33     30-39      404.0     High School   \n",
       "14  51678  2009_10    male   60     60-69      721.0     High School   \n",
       "\n",
       "   MaritalStatus     HHIncome  HHIncomeMid  ...  PhysActiveDays  TVHrsDay  \\\n",
       "0        Married  25000-34999      30000.0  ...             NaN       NaN   \n",
       "1            NaN  20000-24999      22500.0  ...             NaN       NaN   \n",
       "2    LivePartner  35000-44999      40000.0  ...             NaN       NaN   \n",
       "3            NaN  75000-99999      87500.0  ...             NaN       NaN   \n",
       "4            NaN  55000-64999      60000.0  ...             NaN       NaN   \n",
       "5        Married  75000-99999      87500.0  ...             5.0       NaN   \n",
       "6        Married  25000-34999      30000.0  ...             7.0       NaN   \n",
       "7       Divorced   more 99999     100000.0  ...             5.0       NaN   \n",
       "8        Married  65000-74999      70000.0  ...             1.0       NaN   \n",
       "9            NaN          NaN          NaN  ...             NaN       NaN   \n",
       "10       Married  75000-99999      87500.0  ...             2.0       NaN   \n",
       "11  NeverMarried  15000-19999      17500.0  ...             7.0       NaN   \n",
       "12           NaN          NaN          NaN  ...             NaN       NaN   \n",
       "13       Married  25000-34999      30000.0  ...             NaN       NaN   \n",
       "14       Married  15000-19999      17500.0  ...             NaN       NaN   \n",
       "\n",
       "   SleepHrsNight SleepTrouble  CompHrsDay  TVHrsDayChild  CompHrsDayChild  \\\n",
       "0            4.0          Yes         NaN            NaN              NaN   \n",
       "1            NaN          NaN         NaN            4.0              1.0   \n",
       "2            8.0          Yes         NaN            NaN              NaN   \n",
       "3            NaN          NaN         NaN            5.0              0.0   \n",
       "4            NaN          NaN         NaN            1.0              6.0   \n",
       "5            8.0           No         NaN            NaN              NaN   \n",
       "6            7.0           No         NaN            NaN              NaN   \n",
       "7            5.0           No         NaN            NaN              NaN   \n",
       "8            4.0          Yes         NaN            NaN              NaN   \n",
       "9            NaN          NaN         NaN            4.0              3.0   \n",
       "10           5.0           No         NaN            NaN              NaN   \n",
       "11           7.0           No         NaN            NaN              NaN   \n",
       "12           NaN          NaN         NaN            0.0              1.0   \n",
       "13           6.0           No         NaN            NaN              NaN   \n",
       "14           6.0          Yes         NaN            NaN              NaN   \n",
       "\n",
       "   SmokeNow  Smoke100   Smoke100n  \n",
       "0        No       Yes      Smoker  \n",
       "1       NaN       NaN         NaN  \n",
       "2       Yes       Yes      Smoker  \n",
       "3       NaN       NaN         NaN  \n",
       "4       NaN       NaN         NaN  \n",
       "5       NaN        No  Non-Smoker  \n",
       "6        No       Yes      Smoker  \n",
       "7       NaN        No  Non-Smoker  \n",
       "8       NaN        No  Non-Smoker  \n",
       "9       NaN       NaN         NaN  \n",
       "10      Yes       Yes      Smoker  \n",
       "11      NaN        No  Non-Smoker  \n",
       "12      NaN       NaN         NaN  \n",
       "13       No       Yes      Smoker  \n",
       "14       No       Yes      Smoker  \n",
       "\n",
       "[15 rows x 37 columns]"
      ]
     },
     "execution_count": 11,
     "metadata": {},
     "output_type": "execute_result"
    }
   ],
   "source": [
    "import pandas as pd\n",
    "import numpy as np\n",
    "import matplotlib.pyplot as plt\n",
    "import seaborn as sns\n",
    "from statsmodels.graphics.mosaicplot import mosaic\n",
    "data=pd.read_csv('nhanes_reduced .csv')\n",
    "data.head(10)\n",
    "nhanes=data['MaritalStatus'].value_counts()\n",
    "print(nhanes)\n",
    "freq_table=pd.crosstab(data['MaritalStatus'],\n",
    "'Frequency')\n",
    "print(freq_table)\n",
    "data.head(15)"
   ]
  },
  {
   "cell_type": "code",
   "execution_count": null,
   "id": "c5074e3c-9f6d-4295-b909-9135e7bad13d",
   "metadata": {},
   "outputs": [],
   "source": [
    "import pandas as pd\n",
    "import numpy as np\n",
    "import matplotlib.pyplot as plt\n",
    "import seaborn as sns\n",
    "from statsmodels.graphics.mosaicplot import mosaic\n",
    "data=pd.read_csv('nhanes_reduced .csv')\n",
    "data.head(10)\n",
    "nhanes=data['MaritalStatus'].value_counts()\n",
    "print(nhanes)\n",
    "freq_table=pd.crosstab(data['MaritalStatus'],\n",
    "'Frequency')\n",
    "print(freq_table)\n",
    "data.head(15)"
   ]
  },
  {
   "cell_type": "code",
   "execution_count": 6,
   "id": "1fd8729d-5ba9-4790-96bb-6d7f83f3a402",
   "metadata": {},
   "outputs": [
    {
     "data": {
      "text/html": [
       "<div>\n",
       "<style scoped>\n",
       "    .dataframe tbody tr th:only-of-type {\n",
       "        vertical-align: middle;\n",
       "    }\n",
       "\n",
       "    .dataframe tbody tr th {\n",
       "        vertical-align: top;\n",
       "    }\n",
       "\n",
       "    .dataframe thead th {\n",
       "        text-align: right;\n",
       "    }\n",
       "</style>\n",
       "<table border=\"1\" class=\"dataframe\">\n",
       "  <thead>\n",
       "    <tr style=\"text-align: right;\">\n",
       "      <th>HHIncome</th>\n",
       "      <th>0-4999</th>\n",
       "      <th>10000-14999</th>\n",
       "      <th>15000-19999</th>\n",
       "      <th>20000-24999</th>\n",
       "      <th>25000-34999</th>\n",
       "      <th>35000-44999</th>\n",
       "      <th>45000-54999</th>\n",
       "      <th>5000-9999</th>\n",
       "      <th>55000-64999</th>\n",
       "      <th>65000-74999</th>\n",
       "      <th>75000-99999</th>\n",
       "      <th>more 99999</th>\n",
       "    </tr>\n",
       "    <tr>\n",
       "      <th>Education</th>\n",
       "      <th></th>\n",
       "      <th></th>\n",
       "      <th></th>\n",
       "      <th></th>\n",
       "      <th></th>\n",
       "      <th></th>\n",
       "      <th></th>\n",
       "      <th></th>\n",
       "      <th></th>\n",
       "      <th></th>\n",
       "      <th></th>\n",
       "      <th></th>\n",
       "    </tr>\n",
       "  </thead>\n",
       "  <tbody>\n",
       "    <tr>\n",
       "      <th>8th Grade</th>\n",
       "      <td>15</td>\n",
       "      <td>35</td>\n",
       "      <td>46</td>\n",
       "      <td>45</td>\n",
       "      <td>55</td>\n",
       "      <td>32</td>\n",
       "      <td>17</td>\n",
       "      <td>23</td>\n",
       "      <td>12</td>\n",
       "      <td>8</td>\n",
       "      <td>8</td>\n",
       "      <td>8</td>\n",
       "    </tr>\n",
       "    <tr>\n",
       "      <th>9 - 11th Grade</th>\n",
       "      <td>26</td>\n",
       "      <td>64</td>\n",
       "      <td>57</td>\n",
       "      <td>61</td>\n",
       "      <td>77</td>\n",
       "      <td>56</td>\n",
       "      <td>46</td>\n",
       "      <td>34</td>\n",
       "      <td>32</td>\n",
       "      <td>25</td>\n",
       "      <td>37</td>\n",
       "      <td>32</td>\n",
       "    </tr>\n",
       "    <tr>\n",
       "      <th>College Grad</th>\n",
       "      <td>13</td>\n",
       "      <td>14</td>\n",
       "      <td>31</td>\n",
       "      <td>25</td>\n",
       "      <td>66</td>\n",
       "      <td>85</td>\n",
       "      <td>80</td>\n",
       "      <td>8</td>\n",
       "      <td>75</td>\n",
       "      <td>81</td>\n",
       "      <td>196</td>\n",
       "      <td>497</td>\n",
       "    </tr>\n",
       "    <tr>\n",
       "      <th>High School</th>\n",
       "      <td>21</td>\n",
       "      <td>95</td>\n",
       "      <td>74</td>\n",
       "      <td>80</td>\n",
       "      <td>119</td>\n",
       "      <td>114</td>\n",
       "      <td>86</td>\n",
       "      <td>35</td>\n",
       "      <td>62</td>\n",
       "      <td>46</td>\n",
       "      <td>73</td>\n",
       "      <td>99</td>\n",
       "    </tr>\n",
       "    <tr>\n",
       "      <th>Some College</th>\n",
       "      <td>23</td>\n",
       "      <td>90</td>\n",
       "      <td>70</td>\n",
       "      <td>86</td>\n",
       "      <td>149</td>\n",
       "      <td>136</td>\n",
       "      <td>128</td>\n",
       "      <td>33</td>\n",
       "      <td>92</td>\n",
       "      <td>85</td>\n",
       "      <td>160</td>\n",
       "      <td>252</td>\n",
       "    </tr>\n",
       "  </tbody>\n",
       "</table>\n",
       "</div>"
      ],
      "text/plain": [
       "HHIncome        0-4999  10000-14999  15000-19999  20000-24999  25000-34999  \\\n",
       "Education                                                                    \n",
       "8th Grade           15           35           46           45           55   \n",
       "9 - 11th Grade      26           64           57           61           77   \n",
       "College Grad        13           14           31           25           66   \n",
       "High School         21           95           74           80          119   \n",
       "Some College        23           90           70           86          149   \n",
       "\n",
       "HHIncome        35000-44999  45000-54999  5000-9999  55000-64999  65000-74999  \\\n",
       "Education                                                                       \n",
       "8th Grade                32           17         23           12            8   \n",
       "9 - 11th Grade           56           46         34           32           25   \n",
       "College Grad             85           80          8           75           81   \n",
       "High School             114           86         35           62           46   \n",
       "Some College            136          128         33           92           85   \n",
       "\n",
       "HHIncome        75000-99999  more 99999  \n",
       "Education                                \n",
       "8th Grade                 8           8  \n",
       "9 - 11th Grade           37          32  \n",
       "College Grad            196         497  \n",
       "High School              73          99  \n",
       "Some College            160         252  "
      ]
     },
     "execution_count": 6,
     "metadata": {},
     "output_type": "execute_result"
    }
   ],
   "source": [
    "#import packages\n",
    "import pandas as pd\n",
    "import numpy as np\n",
    "data=pd.read_csv('nhanes_reduced .csv')\n",
    "freq_table=pd.crosstab(data['Education'],\n",
    "data['HHIncome'])\n",
    "freq_table"
   ]
  },
  {
   "cell_type": "code",
   "execution_count": 12,
   "id": "39bf7ad8-a34e-405a-bfbf-a5fce0a37087",
   "metadata": {},
   "outputs": [
    {
     "data": {
      "text/html": [
       "<div>\n",
       "<style scoped>\n",
       "    .dataframe tbody tr th:only-of-type {\n",
       "        vertical-align: middle;\n",
       "    }\n",
       "\n",
       "    .dataframe tbody tr th {\n",
       "        vertical-align: top;\n",
       "    }\n",
       "\n",
       "    .dataframe thead th {\n",
       "        text-align: right;\n",
       "    }\n",
       "</style>\n",
       "<table border=\"1\" class=\"dataframe\">\n",
       "  <thead>\n",
       "    <tr style=\"text-align: right;\">\n",
       "      <th>PhysActiveDays</th>\n",
       "      <th>1.0</th>\n",
       "      <th>2.0</th>\n",
       "      <th>3.0</th>\n",
       "      <th>4.0</th>\n",
       "      <th>5.0</th>\n",
       "      <th>6.0</th>\n",
       "      <th>7.0</th>\n",
       "    </tr>\n",
       "    <tr>\n",
       "      <th>MaritalStatus</th>\n",
       "      <th></th>\n",
       "      <th></th>\n",
       "      <th></th>\n",
       "      <th></th>\n",
       "      <th></th>\n",
       "      <th></th>\n",
       "      <th></th>\n",
       "    </tr>\n",
       "  </thead>\n",
       "  <tbody>\n",
       "    <tr>\n",
       "      <th>Divorced</th>\n",
       "      <td>28</td>\n",
       "      <td>35</td>\n",
       "      <td>47</td>\n",
       "      <td>29</td>\n",
       "      <td>32</td>\n",
       "      <td>10</td>\n",
       "      <td>25</td>\n",
       "    </tr>\n",
       "    <tr>\n",
       "      <th>LivePartner</th>\n",
       "      <td>20</td>\n",
       "      <td>34</td>\n",
       "      <td>46</td>\n",
       "      <td>26</td>\n",
       "      <td>26</td>\n",
       "      <td>11</td>\n",
       "      <td>22</td>\n",
       "    </tr>\n",
       "    <tr>\n",
       "      <th>Married</th>\n",
       "      <td>143</td>\n",
       "      <td>219</td>\n",
       "      <td>274</td>\n",
       "      <td>142</td>\n",
       "      <td>208</td>\n",
       "      <td>68</td>\n",
       "      <td>140</td>\n",
       "    </tr>\n",
       "    <tr>\n",
       "      <th>NeverMarried</th>\n",
       "      <td>65</td>\n",
       "      <td>76</td>\n",
       "      <td>133</td>\n",
       "      <td>64</td>\n",
       "      <td>56</td>\n",
       "      <td>17</td>\n",
       "      <td>62</td>\n",
       "    </tr>\n",
       "    <tr>\n",
       "      <th>Separated</th>\n",
       "      <td>8</td>\n",
       "      <td>14</td>\n",
       "      <td>10</td>\n",
       "      <td>10</td>\n",
       "      <td>12</td>\n",
       "      <td>2</td>\n",
       "      <td>6</td>\n",
       "    </tr>\n",
       "    <tr>\n",
       "      <th>Widowed</th>\n",
       "      <td>8</td>\n",
       "      <td>22</td>\n",
       "      <td>27</td>\n",
       "      <td>11</td>\n",
       "      <td>22</td>\n",
       "      <td>6</td>\n",
       "      <td>22</td>\n",
       "    </tr>\n",
       "  </tbody>\n",
       "</table>\n",
       "</div>"
      ],
      "text/plain": [
       "PhysActiveDays  1.0  2.0  3.0  4.0  5.0  6.0  7.0\n",
       "MaritalStatus                                    \n",
       "Divorced         28   35   47   29   32   10   25\n",
       "LivePartner      20   34   46   26   26   11   22\n",
       "Married         143  219  274  142  208   68  140\n",
       "NeverMarried     65   76  133   64   56   17   62\n",
       "Separated         8   14   10   10   12    2    6\n",
       "Widowed           8   22   27   11   22    6   22"
      ]
     },
     "execution_count": 12,
     "metadata": {},
     "output_type": "execute_result"
    }
   ],
   "source": [
    "import pandas as pd\n",
    "import numpy as np\n",
    "data=pd.read_csv('nhanes_reduced .csv')\n",
    "freq_table=pd.crosstab(data['MaritalStatus'],\n",
    "                       data['PhysActiveDays'])\n",
    "freq_table\n"
   ]
  },
  {
   "cell_type": "code",
   "execution_count": 14,
   "id": "ec3e2409-c283-487c-921e-840f17536ebc",
   "metadata": {},
   "outputs": [
    {
     "data": {
      "text/plain": [
       "([<matplotlib.patches.Wedge at 0x1db6a7fa0d0>,\n",
       "  <matplotlib.patches.Wedge at 0x1db6b552750>,\n",
       "  <matplotlib.patches.Wedge at 0x1db6b5702d0>,\n",
       "  <matplotlib.patches.Wedge at 0x1db6b551ad0>],\n",
       " [Text(1.0554422683381766, 0.30990582150899426, 'Cholera'),\n",
       "  Text(-0.4569565739181998, 1.0005951676641962, 'Malaria'),\n",
       "  Text(-0.456956386553231, -1.0005952532309026, 'TB'),\n",
       "  Text(0.9253789873511787, -0.5947047416734687, 'HIV')],\n",
       " [Text(0.5756957827299144, 0.16903953900490593, '9.1%'),\n",
       "  Text(-0.24924904031901807, 0.5457791823622888, '45.5%'),\n",
       "  Text(-0.24924893811994417, -0.5457792290350377, '27.3%'),\n",
       "  Text(0.5047521749188247, -0.3243844045491647, '18.2%')])"
      ]
     },
     "execution_count": 14,
     "metadata": {},
     "output_type": "execute_result"
    },
    {
     "data": {
      "image/png": "[encoded data removed]",
      "text/plain": [
       "<Figure size 640x480 with 1 Axes>"
      ]
     },
     "metadata": {},
     "output_type": "display_data"
    }
   ],
   "source": [
    "import matplotlib.pyplot as plt\n",
    "x=[10,50,30,20]\n",
    "diseases=['Cholera','Malaria','TB','HIV']\n",
    "plt.pie(x,labels=diseases,autopct='%.1f%%')"
   ]
  },
  {
   "cell_type": "code",
   "execution_count": 22,
   "id": "339aaed5-b69f-4c2d-86ce-8d7e2feb3f5a",
   "metadata": {},
   "outputs": [
    {
     "data": {
      "image/png": "[encoded data removed]",
      "text/plain": [
       "<Figure size 1000x500 with 1 Axes>"
      ]
     },
     "metadata": {},
     "output_type": "display_data"
    }
   ],
   "source": [
    "import numpy as np\n",
    "import matplotlib.pyplot as plt\n",
    "data={'C':20,'C++':15,'Java':30,'python':35}\n",
    "courses= list(data.keys())\n",
    "values= list(data.values())\n",
    "fig=plt.figure(figsize=(10,5))\n",
    "plt.bar(courses,values,color='maroon',width=0.4)\n",
    "plt.xlabel(\"courses offered\")\n",
    "plt.ylabel(\"No. of students enrolled\")\n",
    "plt.title(\"Students enrolled in different courses\")\n",
    "plt.show()"
   ]
  },
  {
   "cell_type": "code",
   "execution_count": 21,
   "id": "f290da92-5b88-4ef6-aaf4-70c9d5037da5",
   "metadata": {},
   "outputs": [
    {
     "data": {
      "text/plain": [
       "<BarContainer object of 4 artists>"
      ]
     },
     "execution_count": 21,
     "metadata": {},
     "output_type": "execute_result"
    },
    {
     "data": {
      "image/png": "[encoded data removed]",
      "text/plain": [
       "<Figure size 640x480 with 1 Axes>"
      ]
     },
     "metadata": {},
     "output_type": "display_data"
    }
   ],
   "source": [
    "plt.barh(courses,values,color='maroon')"
   ]
  },
  {
   "cell_type": "code",
   "execution_count": 26,
   "id": "c4210cfe-8ac7-4f4d-806d-7a4df681b94f",
   "metadata": {},
   "outputs": [
    {
     "data": {
      "text/plain": [
       "<BarContainer object of 4 artists>"
      ]
     },
     "execution_count": 26,
     "metadata": {},
     "output_type": "execute_result"
    },
    {
     "data": {
      "image/png": "[encoded data removed]",
      "text/plain": [
       "<Figure size 640x480 with 1 Axes>"
      ]
     },
     "metadata": {},
     "output_type": "display_data"
    }
   ],
   "source": [
    "#import package\n",
    "import matplotlib.pyplot as plt\n",
    "x=['A','B','C','D']\n",
    "y1=[10,20,10,30]\n",
    "y2=[20,25,15,25]\n",
    "plt.bar(x,y1,color='gold')\n",
    "plt.bar(x,y2,bottom=y1,color='grey')"
   ]
  },
  {
   "cell_type": "code",
   "execution_count": 29,
   "id": "39d60d13-7bd9-408b-9c32-821533031925",
   "metadata": {},
   "outputs": [
    {
     "data": {
      "text/plain": [
       "Text(0, 0.5, 'DirectChol Level(mg/dL')"
      ]
     },
     "execution_count": 29,
     "metadata": {},
     "output_type": "execute_result"
    },
    {
     "data": {
      "image/png": "[encoded data removed]",
      "text/plain": [
       "<Figure size 640x480 with 1 Axes>"
      ]
     },
     "metadata": {},
     "output_type": "display_data"
    }
   ],
   "source": [
    "import pandas as pd\n",
    "import numpy as np\n",
    "import matplotlib.pyplot as plt\n",
    "import seaborn as sns\n",
    "from statsmodels.graphics.mosaicplot import mosaic\n",
    "#load the dataset\n",
    "df=pd.read_csv('nhanes_reduced .csv')\n",
    "age_directChol=df[['Age','DirectChol']]\n",
    "filtered_data=df[df['Age']>40]\n",
    "plt.scatter(filtered_data['Age'],filtered_data['DirectChol'],color='red')\n",
    "plt.title('Age vs.DirectChol Level (Ages >40')\n",
    "plt.xlabel('Age(years)')\n",
    "plt.ylabel('DirectChol Level(mg/dL')"
   ]
  },
  {
   "cell_type": "code",
   "execution_count": 7,
   "id": "63fe8b5e-35d2-4832-8b52-4df572c57cdf",
   "metadata": {},
   "outputs": [
    {
     "name": "stderr",
     "output_type": "stream",
     "text": [
      "C:\\ProgramData\\anaconda3\\Lib\\site-packages\\seaborn\\_oldcore.py:1119: FutureWarning: use_inf_as_na option is deprecated and will be removed in a future version. Convert inf values to NaN before operating instead.\n",
      "  with pd.option_context('mode.use_inf_as_na', True):\n",
      "C:\\ProgramData\\anaconda3\\Lib\\site-packages\\seaborn\\_oldcore.py:1119: FutureWarning: use_inf_as_na option is deprecated and will be removed in a future version. Convert inf values to NaN before operating instead.\n",
      "  with pd.option_context('mode.use_inf_as_na', True):\n",
      "C:\\ProgramData\\anaconda3\\Lib\\site-packages\\seaborn\\_oldcore.py:1119: FutureWarning: use_inf_as_na option is deprecated and will be removed in a future version. Convert inf values to NaN before operating instead.\n",
      "  with pd.option_context('mode.use_inf_as_na', True):\n"
     ]
    },
    {
     "data": {
      "image/png": "[encoded data removed]",
      "text/plain": [
       "<Figure size 1000x1500 with 3 Axes>"
      ]
     },
     "metadata": {},
     "output_type": "display_data"
    }
   ],
   "source": [
    "import pandas as pd\n",
    "df=pd.read_csv('nhanes_reduced .csv')\n",
    "df['Work']=df['Work'].astype('category')\n",
    "work_categories=df['Work'].cat.categories\n",
    "fig,axes=plt.subplots(nrows=len(work_categories),ncols=1,figsize=(10,15), sharex=True)\n",
    "for ax, category in zip(axes,work_categories):\n",
    "    sns.histplot(df[df['Work']==category]['BMI'],bins=20, ax=ax)\n",
    "    ax.set_title(f'Distribution of BMI for {category}')\n",
    "plt.tight_layout()\n",
    "plt.show()"
   ]
  },
  {
   "cell_type": "code",
   "execution_count": 12,
   "id": "a488ac1e-288c-42e5-aecb-5e30e8795632",
   "metadata": {},
   "outputs": [
    {
     "ename": "ValueError",
     "evalue": "Could not interpret input 'HHIncome'",
     "output_type": "error",
     "traceback": [
      "\u001b[1;31m---------------------------------------------------------------------------\u001b[0m",
      "\u001b[1;31mValueError\u001b[0m                                Traceback (most recent call last)",
      "Cell \u001b[1;32mIn[12], line 2\u001b[0m\n\u001b[0;32m      1\u001b[0m \u001b[38;5;28;01mimport\u001b[39;00m \u001b[38;5;21;01mseaborn\u001b[39;00m \u001b[38;5;28;01mas\u001b[39;00m \u001b[38;5;21;01msns\u001b[39;00m\n\u001b[1;32m----> 2\u001b[0m sns\u001b[38;5;241m.\u001b[39mboxplot(x\u001b[38;5;241m=\u001b[39m\u001b[38;5;124m'\u001b[39m\u001b[38;5;124mHHIncome\u001b[39m\u001b[38;5;124m'\u001b[39m,y\u001b[38;5;241m=\u001b[39m\u001b[38;5;124m'\u001b[39m\u001b[38;5;124mBMI\u001b[39m\u001b[38;5;124m'\u001b[39m,df\u001b[38;5;241m=\u001b[39mdf)\n\u001b[0;32m      3\u001b[0m plt\u001b[38;5;241m.\u001b[39mtitle(\u001b[38;5;124m'\u001b[39m\u001b[38;5;124mBoxplots of HHIncome by BMI\u001b[39m\u001b[38;5;124m'\u001b[39m)\n\u001b[0;32m      4\u001b[0m plt\u001b[38;5;241m.\u001b[39mxticks(rotation\u001b[38;5;241m=\u001b[39m\u001b[38;5;241m45\u001b[39m)\n",
      "File \u001b[1;32mC:\\ProgramData\\anaconda3\\Lib\\site-packages\\seaborn\\categorical.py:2231\u001b[0m, in \u001b[0;36mboxplot\u001b[1;34m(data, x, y, hue, order, hue_order, orient, color, palette, saturation, width, dodge, fliersize, linewidth, whis, ax, **kwargs)\u001b[0m\n\u001b[0;32m   2224\u001b[0m \u001b[38;5;28;01mdef\u001b[39;00m \u001b[38;5;21mboxplot\u001b[39m(\n\u001b[0;32m   2225\u001b[0m     data\u001b[38;5;241m=\u001b[39m\u001b[38;5;28;01mNone\u001b[39;00m, \u001b[38;5;241m*\u001b[39m, x\u001b[38;5;241m=\u001b[39m\u001b[38;5;28;01mNone\u001b[39;00m, y\u001b[38;5;241m=\u001b[39m\u001b[38;5;28;01mNone\u001b[39;00m, hue\u001b[38;5;241m=\u001b[39m\u001b[38;5;28;01mNone\u001b[39;00m, order\u001b[38;5;241m=\u001b[39m\u001b[38;5;28;01mNone\u001b[39;00m, hue_order\u001b[38;5;241m=\u001b[39m\u001b[38;5;28;01mNone\u001b[39;00m,\n\u001b[0;32m   2226\u001b[0m     orient\u001b[38;5;241m=\u001b[39m\u001b[38;5;28;01mNone\u001b[39;00m, color\u001b[38;5;241m=\u001b[39m\u001b[38;5;28;01mNone\u001b[39;00m, palette\u001b[38;5;241m=\u001b[39m\u001b[38;5;28;01mNone\u001b[39;00m, saturation\u001b[38;5;241m=\u001b[39m\u001b[38;5;241m.75\u001b[39m, width\u001b[38;5;241m=\u001b[39m\u001b[38;5;241m.8\u001b[39m,\n\u001b[0;32m   2227\u001b[0m     dodge\u001b[38;5;241m=\u001b[39m\u001b[38;5;28;01mTrue\u001b[39;00m, fliersize\u001b[38;5;241m=\u001b[39m\u001b[38;5;241m5\u001b[39m, linewidth\u001b[38;5;241m=\u001b[39m\u001b[38;5;28;01mNone\u001b[39;00m, whis\u001b[38;5;241m=\u001b[39m\u001b[38;5;241m1.5\u001b[39m, ax\u001b[38;5;241m=\u001b[39m\u001b[38;5;28;01mNone\u001b[39;00m,\n\u001b[0;32m   2228\u001b[0m     \u001b[38;5;241m*\u001b[39m\u001b[38;5;241m*\u001b[39mkwargs\n\u001b[0;32m   2229\u001b[0m ):\n\u001b[1;32m-> 2231\u001b[0m     plotter \u001b[38;5;241m=\u001b[39m _BoxPlotter(x, y, hue, data, order, hue_order,\n\u001b[0;32m   2232\u001b[0m                           orient, color, palette, saturation,\n\u001b[0;32m   2233\u001b[0m                           width, dodge, fliersize, linewidth)\n\u001b[0;32m   2235\u001b[0m     \u001b[38;5;28;01mif\u001b[39;00m ax \u001b[38;5;129;01mis\u001b[39;00m \u001b[38;5;28;01mNone\u001b[39;00m:\n\u001b[0;32m   2236\u001b[0m         ax \u001b[38;5;241m=\u001b[39m plt\u001b[38;5;241m.\u001b[39mgca()\n",
      "File \u001b[1;32mC:\\ProgramData\\anaconda3\\Lib\\site-packages\\seaborn\\categorical.py:785\u001b[0m, in \u001b[0;36m_BoxPlotter.__init__\u001b[1;34m(self, x, y, hue, data, order, hue_order, orient, color, palette, saturation, width, dodge, fliersize, linewidth)\u001b[0m\n\u001b[0;32m    781\u001b[0m \u001b[38;5;28;01mdef\u001b[39;00m \u001b[38;5;21m__init__\u001b[39m(\u001b[38;5;28mself\u001b[39m, x, y, hue, data, order, hue_order,\n\u001b[0;32m    782\u001b[0m              orient, color, palette, saturation,\n\u001b[0;32m    783\u001b[0m              width, dodge, fliersize, linewidth):\n\u001b[1;32m--> 785\u001b[0m     \u001b[38;5;28mself\u001b[39m\u001b[38;5;241m.\u001b[39mestablish_variables(x, y, hue, data, orient, order, hue_order)\n\u001b[0;32m    786\u001b[0m     \u001b[38;5;28mself\u001b[39m\u001b[38;5;241m.\u001b[39mestablish_colors(color, palette, saturation)\n\u001b[0;32m    788\u001b[0m     \u001b[38;5;28mself\u001b[39m\u001b[38;5;241m.\u001b[39mdodge \u001b[38;5;241m=\u001b[39m dodge\n",
      "File \u001b[1;32mC:\\ProgramData\\anaconda3\\Lib\\site-packages\\seaborn\\categorical.py:541\u001b[0m, in \u001b[0;36m_CategoricalPlotter.establish_variables\u001b[1;34m(self, x, y, hue, data, orient, order, hue_order, units)\u001b[0m\n\u001b[0;32m    539\u001b[0m     \u001b[38;5;28;01mif\u001b[39;00m \u001b[38;5;28misinstance\u001b[39m(var, \u001b[38;5;28mstr\u001b[39m):\n\u001b[0;32m    540\u001b[0m         err \u001b[38;5;241m=\u001b[39m \u001b[38;5;124mf\u001b[39m\u001b[38;5;124m\"\u001b[39m\u001b[38;5;124mCould not interpret input \u001b[39m\u001b[38;5;124m'\u001b[39m\u001b[38;5;132;01m{\u001b[39;00mvar\u001b[38;5;132;01m}\u001b[39;00m\u001b[38;5;124m'\u001b[39m\u001b[38;5;124m\"\u001b[39m\n\u001b[1;32m--> 541\u001b[0m         \u001b[38;5;28;01mraise\u001b[39;00m \u001b[38;5;167;01mValueError\u001b[39;00m(err)\n\u001b[0;32m    543\u001b[0m \u001b[38;5;66;03m# Figure out the plotting orientation\u001b[39;00m\n\u001b[0;32m    544\u001b[0m orient \u001b[38;5;241m=\u001b[39m infer_orient(\n\u001b[0;32m    545\u001b[0m     x, y, orient, require_numeric\u001b[38;5;241m=\u001b[39m\u001b[38;5;28mself\u001b[39m\u001b[38;5;241m.\u001b[39mrequire_numeric\n\u001b[0;32m    546\u001b[0m )\n",
      "\u001b[1;31mValueError\u001b[0m: Could not interpret input 'HHIncome'"
     ]
    }
   ],
   "source": [
    "import seaborn as sns\n",
    "sns.boxplot(x='HHIncome',y='BMI',df=df)\n",
    "plt.title('Boxplots of HHIncome by BMI')\n",
    "plt.xticks(rotation=45)\n",
    "plt.show()\n"
   ]
  },
  {
   "cell_type": "code",
   "execution_count": 16,
   "id": "897ceeab-e5fe-4575-993e-d9528bebfced",
   "metadata": {},
   "outputs": [
    {
     "ename": "NameError",
     "evalue": "name 'plt' is not defined",
     "output_type": "error",
     "traceback": [
      "\u001b[1;31m---------------------------------------------------------------------------\u001b[0m",
      "\u001b[1;31mNameError\u001b[0m                                 Traceback (most recent call last)",
      "Cell \u001b[1;32mIn[16], line 1\u001b[0m\n\u001b[1;32m----> 1\u001b[0m plt\u001b[38;5;241m.\u001b[39mfigur(figsize\u001b[38;5;241m=\u001b[39m(\u001b[38;5;241m12\u001b[39m,\u001b[38;5;241m8\u001b[39m))\n\u001b[0;32m      2\u001b[0m sns\u001b[38;5;241m.\u001b[39mkdeplot(data\u001b[38;5;241m=\u001b[39mdata,x\u001b[38;5;241m=\u001b[39m\u001b[38;5;124m'\u001b[39m\u001b[38;5;124mBMI\u001b[39m\u001b[38;5;124m'\u001b[39m,hue\u001b[38;5;241m=\u001b[39m\u001b[38;5;124m'\u001b[39m\u001b[38;5;124mWork\u001b[39m\u001b[38;5;124m'\u001b[39m,\n\u001b[0;32m      3\u001b[0m multiple\u001b[38;5;241m=\u001b[39m\u001b[38;5;124m'\u001b[39m\u001b[38;5;124mstack\u001b[39m\u001b[38;5;124m'\u001b[39m)\n\u001b[0;32m      4\u001b[0m plt\u001b[38;5;241m.\u001b[39mtitle(\u001b[38;5;124m'\u001b[39m\u001b[38;5;124mKDE plot of BMI by Work Type\u001b[39m\u001b[38;5;124m'\u001b[39m)\n",
      "\u001b[1;31mNameError\u001b[0m: name 'plt' is not defined"
     ]
    }
   ],
   "source": [
    "plt.figur(figsize=(12,8))\n",
    "sns.kdeplot(data=data,x='BMI',hue='Work',\n",
    "multiple='stack')\n",
    "plt.title('KDE plot of BMI by Work Type')\n",
    "plt.xlabel('BMI')\n",
    "plt.ylable('Density')\n",
    "plt.show()"
   ]
  },
  {
   "cell_type": "code",
   "execution_count": 21,
   "id": "749c3d5a-ed68-4704-8483-0ef37fd204b5",
   "metadata": {},
   "outputs": [
    {
     "name": "stdout",
     "output_type": "stream",
     "text": [
      "0.75\n"
     ]
    }
   ],
   "source": [
    "S=[(\"girl\",\"girl\"),(\"boy\",\"boy\"),\n",
    "(\"boy\",\"girl\"),(\"girl\",\"boy\")]\n",
    "E=[(\"boy\",\"boy\"),(\"boy\",\"girl\"),\n",
    "    (\"girl\",\"boy\")]\n",
    "Pr=len(E)/len(S)\n",
    "print(Pr)"
   ]
  },
  {
   "cell_type": "code",
   "execution_count": 23,
   "id": "ea779f24-f6a9-4f37-be0f-4b0b61c969c7",
   "metadata": {},
   "outputs": [
    {
     "name": "stdout",
     "output_type": "stream",
     "text": [
      "0.7058823529411765\n",
      "0.71\n"
     ]
    }
   ],
   "source": [
    "import pandas as pd\n",
    "tab=pd.DataFrame({'Fracture_yes':\n",
    "[27,15,9],'Fracture_no':[63,35,21]})\n",
    "prA=(tab.iloc[2,0]+tab.iloc[2,1] )/tab.values.sum()\n",
    "prB=(tab.iloc[0,0]+tab.iloc[0,1])/tab.values.sum()#computes prob (B)\n",
    "print(prA+prB)\n",
    "print(round(prA+prB,2))\n"
   ]
  },
  {
   "cell_type": "code",
   "execution_count": 26,
   "id": "f36a113d-15d5-45b3-97e7-571f4dacba72",
   "metadata": {},
   "outputs": [
    {
     "name": "stdout",
     "output_type": "stream",
     "text": [
      "0.0903114186851211\n",
      "0.052941176470588235\n"
     ]
    }
   ],
   "source": [
    "prA=(tab.iloc[2,0]+tab.iloc[2,1])/tab.values.sum()\n",
    "prF=(tab.iloc[0,1]+tab.iloc[1,0]+tab.iloc[2,0])/tab.values.sum()\n",
    "prAF=tab.iloc[2,0]/tab.values.sum()\n",
    "print(prA*prF)\n",
    "print(prAF)"
   ]
  },
  {
   "cell_type": "code",
   "execution_count": 25,
   "id": "6a47f4b8-6a01-4d4c-88eb-ea9624253456",
   "metadata": {},
   "outputs": [
    {
     "name": "stdout",
     "output_type": "stream",
     "text": [
      "0.42\n"
     ]
    }
   ],
   "source": [
    "tabs=pd.DataFrame({'MI_yes':[75,20],'MI_no':[95,210]})\n",
    "prA=(tabs.iloc[0,0]+tabs.iloc[0,1])/tabs.values.sum()\n",
    "print(round(prA,2))"
   ]
  },
  {
   "cell_type": "code",
   "execution_count": 27,
   "id": "60e63589-59ad-4671-8801-f6c0be2f3a0b",
   "metadata": {},
   "outputs": [
    {
     "name": "stdout",
     "output_type": "stream",
     "text": [
      "0.76\n"
     ]
    }
   ],
   "source": [
    "prB=(tabs.iloc[0,0]+tabs.iloc[1,0])/tabs.values.sum()\n",
    "complementB=1-prB\n",
    "print(round(complementB,2))\n"
   ]
  },
  {
   "cell_type": "code",
   "execution_count": 33,
   "id": "cf4843f1-eb29-4be5-b8dc-79e7618efe88",
   "metadata": {},
   "outputs": [
    {
     "name": "stdout",
     "output_type": "stream",
     "text": [
      "0.48\n"
     ]
    }
   ],
   "source": [
    "prA=(tabs.iloc[0,0]+tabs.iloc[0,1])/tabs.values.sum()\n",
    "prB=(tabs.iloc[0,0]+tabs.iloc[1,0])/tabs.values.sum()\n",
    "prAB =tabs.iloc[0,0]/tabs.values.sum()\n",
    "result=prA+prB-prAB\n",
    "print(round(result,2))"
   ]
  },
  {
   "cell_type": "code",
   "execution_count": 6,
   "id": "f6314025-b42d-4763-9504-829949065018",
   "metadata": {},
   "outputs": [
    {
     "data": {
      "text/plain": [
       "<Figure size 1500x700 with 0 Axes>"
      ]
     },
     "metadata": {},
     "output_type": "display_data"
    },
    {
     "data": {
      "image/png": "[encoded data removed]",
      "text/plain": [
       "<Figure size 640x480 with 3 Axes>"
      ]
     },
     "metadata": {},
     "output_type": "display_data"
    }
   ],
   "source": [
    "import pandas as pd\n",
    "import matplotlib.pyplot as plt\n",
    "from statsmodels.graphics.mosaicplot import mosaic\n",
    "df=pd.read_csv('nhanes_reduced .csv')\n",
    "df['Age']=pd.cut(df['Age'],bins=[0,18,35,50,65,100],labels=['0-18','19-35','36-50','51-65','66+'])\n",
    "df['BMI']=pd.cut(df['BMI'],bins=[0,18.5,24.9,29.9,40],labels=['Underweight','Normal','Overweight','Obese'])\n",
    "df['Gender']=df['Gender'].astype('category')\n",
    "plt.figure(figsize=(15,7))\n",
    "mosaic(df,['Gender','Age','BMI'],title='Mosaic Plot of Gender,Age,and BMI')\n",
    "plt.show()\n",
    "                 "
   ]
  },
  {
   "cell_type": "code",
   "execution_count": 11,
   "id": "c4943177-a2ae-4e89-9ff8-4658f5cdfb48",
   "metadata": {},
   "outputs": [
    {
     "name": "stdout",
     "output_type": "stream",
     "text": [
      "86.9\n"
     ]
    }
   ],
   "source": [
    "mam=pd.DataFrame({'Disease yes':\n",
    "[398,60],'Disease no':[2749,31799]})\n",
    "sen=mam.iloc[0,0]/(mam.iloc[0,0]+mam.iloc[1,0])\n",
    "print(round(sen*100,2))"
   ]
  },
  {
   "cell_type": "code",
   "execution_count": 13,
   "id": "3e73fbf5-d273-4710-9905-0d8c9a10ea9a",
   "metadata": {},
   "outputs": [
    {
     "name": "stderr",
     "output_type": "stream",
     "text": [
      "C:\\Users\\ADMIN\\AppData\\Local\\Temp\\ipykernel_4920\\3046826926.py:5: FutureWarning: \n",
      "\n",
      "`shade` is now deprecated in favor of `fill`; setting `fill=True`.\n",
      "This will become an error in seaborn v0.14.0; please update your code.\n",
      "\n",
      "  sns.kdeplot(df['Age'],color='blue',label='Age',shade=True)\n",
      "C:\\ProgramData\\anaconda3\\Lib\\site-packages\\seaborn\\_oldcore.py:1119: FutureWarning: use_inf_as_na option is deprecated and will be removed in a future version. Convert inf values to NaN before operating instead.\n",
      "  with pd.option_context('mode.use_inf_as_na', True):\n",
      "C:\\Users\\ADMIN\\AppData\\Local\\Temp\\ipykernel_4920\\3046826926.py:6: FutureWarning: \n",
      "\n",
      "`shade` is now deprecated in favor of `fill`; setting `fill=True`.\n",
      "This will become an error in seaborn v0.14.0; please update your code.\n",
      "\n",
      "  sns.kdeplot(df['Weight'],color='red',label='Weight',shade=True)\n",
      "C:\\ProgramData\\anaconda3\\Lib\\site-packages\\seaborn\\_oldcore.py:1119: FutureWarning: use_inf_as_na option is deprecated and will be removed in a future version. Convert inf values to NaN before operating instead.\n",
      "  with pd.option_context('mode.use_inf_as_na', True):\n"
     ]
    },
    {
     "data": {
      "image/png": "[encoded data removed]",
      "text/plain": [
       "<Figure size 640x480 with 1 Axes>"
      ]
     },
     "metadata": {},
     "output_type": "display_data"
    }
   ],
   "source": [
    "import pandas as pd\n",
    "import seaborn as sns\n",
    "import matplotlib.pyplot as plt\n",
    "df=pd.read_csv('nhanes_reduced .csv')\n",
    "sns.kdeplot(df['Age'],color='blue',label='Age',shade=True)\n",
    "sns.kdeplot(df['Weight'],color='red',label='Weight',shade=True)\n",
    "plt.xlabel('Value')\n",
    "plt.ylabel('Density')\n",
    "plt.title('Density Plot for Age and Weight')\n",
    "plt.legend()\n",
    "plt.show()"
   ]
  },
  {
   "cell_type": "code",
   "execution_count": 18,
   "id": "c456a16b-870e-421e-89a9-11d0e56d479b",
   "metadata": {},
   "outputs": [
    {
     "data": {
      "image/png": "[encoded data removed]",
      "text/plain": [
       "<Figure size 1200x1600 with 12 Axes>"
      ]
     },
     "metadata": {},
     "output_type": "display_data"
    }
   ],
   "source": [
    "import pandas as pd\n",
    "import seaborn as sns\n",
    "import matplotlib.pyplot as plt\n",
    "sns.set_style(\"whitegrid\")\n",
    "df=pd.read_csv('nhanes_reduced .csv')\n",
    "df.head\n",
    "g = sns.catplot(\n",
    "    data=df,\n",
    "    x=\"Education\",\n",
    "    col=\"HHIncome\",\n",
    "    kind=\"count\",\n",
    "    height=4,\n",
    "    aspect=1,\n",
    "    col_wrap=3\n",
    ")\n",
    "g.set_axis_labels(\"Physical Activity\",\"Count\")\n",
    "g.set_titles(\"Income Level:{col_name}\")\n",
    "g.tight_layout()\n",
    "plt.show()"
   ]
  },
  {
   "cell_type": "code",
   "execution_count": 19,
   "id": "7a21bfda-35de-4227-9775-b73d44dc38db",
   "metadata": {},
   "outputs": [
    {
     "name": "stdout",
     "output_type": "stream",
     "text": [
      "The odds of a teenager being a smoker:0.0454\n",
      "The odds of mortality in the group:0.5625\n"
     ]
    }
   ],
   "source": [
    "total_teenagers=1450\n",
    "teenage_smokers=63\n",
    "probability_smoker=teenage_smokers/total_teenagers\n",
    "odds_smoker=probability_smoker/(1-probability_smoker)\n",
    "print(f\"The odds of a teenager being a smoker:{odds_smoker:.4f}\")\n",
    "probability_mortality=0.36\n",
    "odds_mortality=probability_mortality/(1-probability_mortality)\n",
    "print(f\"The odds of mortality in the group:{odds_mortality:.4f}\")"
   ]
  },
  {
   "cell_type": "code",
   "execution_count": 20,
   "id": "e2237841-00fe-44a5-8db1-2d488a04ddfc",
   "metadata": {},
   "outputs": [
    {
     "data": {
      "text/plain": [
       "0.10737418240000003"
      ]
     },
     "execution_count": 20,
     "metadata": {},
     "output_type": "execute_result"
    }
   ],
   "source": [
    "from scipy import stats\n",
    "stats.binom.pmf(0,10,0.2)"
   ]
  },
  {
   "cell_type": "code",
   "execution_count": 21,
   "id": "f088d393-1710-48c5-9ac9-c823811214b3",
   "metadata": {},
   "outputs": [
    {
     "data": {
      "text/plain": [
       "0.20132659199999992"
      ]
     },
     "execution_count": 21,
     "metadata": {},
     "output_type": "execute_result"
    }
   ],
   "source": [
    "stats.binom.pmf(3,10,0.2)"
   ]
  },
  {
   "cell_type": "code",
   "execution_count": 23,
   "id": "91208709-40a0-4901-a0bf-b9191c230b82",
   "metadata": {},
   "outputs": [
    {
     "data": {
      "text/plain": [
       "1.0240000000000006e-07"
      ]
     },
     "execution_count": 23,
     "metadata": {},
     "output_type": "execute_result"
    }
   ],
   "source": [
    "stats.binom.pmf(10,10,0.2)"
   ]
  },
  {
   "cell_type": "code",
   "execution_count": 24,
   "id": "0f189e6b-ef35-4b33-8c74-b7ca585ac477",
   "metadata": {},
   "outputs": [
    {
     "data": {
      "text/plain": [
       "array([1.07374182e-01, 2.01326592e-01, 1.02400000e-07])"
      ]
     },
     "execution_count": 24,
     "metadata": {},
     "output_type": "execute_result"
    }
   ],
   "source": [
    "stats.binom.pmf([0,3,10],10,0.2)"
   ]
  },
  {
   "cell_type": "code",
   "execution_count": 25,
   "id": "6df761c0-43a9-4cff-8756-803760d2e95d",
   "metadata": {},
   "outputs": [
    {
     "data": {
      "text/plain": [
       "array([1.43489070e-08, 5.02211745e-07, 8.20279184e-06, 8.29393397e-05,\n",
       "       5.80575378e-04, 2.98028694e-03, 1.15900048e-02, 3.47700143e-02,\n",
       "       8.11300333e-02, 1.47235986e-01, 2.06130381e-01, 2.18623131e-01,\n",
       "       1.70040213e-01, 9.15601148e-02, 3.05200383e-02, 4.74756151e-03])"
      ]
     },
     "execution_count": 25,
     "metadata": {},
     "output_type": "execute_result"
    }
   ],
   "source": [
    "stats.binom.pmf([0,1,2,3,4,5,6,7,8,9,10,11,12,13,14,15],15,0.7)"
   ]
  },
  {
   "cell_type": "code",
   "execution_count": 33,
   "id": "ba9744cc-586d-4895-8b14-127b2f984c7c",
   "metadata": {},
   "outputs": [
    {
     "name": "stdout",
     "output_type": "stream",
     "text": [
      "     E   Prob(E)\n",
      "0    0  0.000006\n",
      "1    1  0.000138\n",
      "2    2  0.001447\n",
      "3    3  0.009002\n",
      "4    4  0.036757\n",
      "5    5  0.102919\n",
      "6    6  0.200121\n",
      "7    7  0.266828\n",
      "8    8  0.233474\n",
      "9    9  0.121061\n",
      "10  10  0.028248\n"
     ]
    }
   ],
   "source": [
    "import pandas as pd\n",
    "import numpy as np\n",
    "from scipy.stats import binom\n",
    "cx=np.arange(0,11)\n",
    "dx=binom.pmf(cx,10,0.7)\n",
    "pr_dist=pd.DataFrame({'E':cx,'Prob(E)':dx})\n",
    "print(pr_dist)"
   ]
  },
  {
   "cell_type": "code",
   "execution_count": null,
   "id": "10670cee-9535-40a4-844b-c04b56ffd8c0",
   "metadata": {},
   "outputs": [],
   "source": [
    "from scipy.stats import binom\n",
    "n=12\n",
    "k=4\n",
    "p=0.22\n",
    "probability=binom.pmf(k,n,p)\n",
    "print(\"The probability of exactly "
   ]
  },
  {
   "cell_type": "code",
   "execution_count": 34,
   "id": "272c07e3-8aa3-4cd3-9214-58e46ff463e6",
   "metadata": {},
   "outputs": [
    {
     "data": {
      "text/plain": [
       "0.37015056000000035"
      ]
     },
     "execution_count": 34,
     "metadata": {},
     "output_type": "execute_result"
    }
   ],
   "source": [
    "stats.binom.pmf(0,4,0.22)"
   ]
  },
  {
   "cell_type": "code",
   "execution_count": 41,
   "id": "948d5b59-641b-4fb8-9723-4a0ad4113594",
   "metadata": {},
   "outputs": [
    {
     "name": "stdout",
     "output_type": "stream",
     "text": [
      "0.1588739684492806\n"
     ]
    }
   ],
   "source": [
    "from scipy.stats import binom\n",
    "probability=binom.pmf(4,12,0.22)\n",
    "stats.binom.pmf(4,12,0.22)\n",
    "print(probability)\n"
   ]
  },
  {
   "cell_type": "code",
   "execution_count": 37,
   "id": "aacd602c-4be8-416f-8d09-a4b6d91ac3f7",
   "metadata": {},
   "outputs": [
    {
     "name": "stdout",
     "output_type": "stream",
     "text": [
      "0.9695609774280819\n"
     ]
    }
   ],
   "source": [
    "cumulative_probability=binom.cdf(5,12,0.22)\n",
    "print(cumulative_probability)"
   ]
  },
  {
   "cell_type": "code",
   "execution_count": 42,
   "id": "03217ea9-3f7f-40e3-a229-b77c999573ba",
   "metadata": {},
   "outputs": [
    {
     "data": {
      "text/plain": [
       "(array([ 10.,  50., 124., 214., 234., 199., 105.,  53.,   8.,   3.]),\n",
       " array([ 1. ,  1.9,  2.8,  3.7,  4.6,  5.5,  6.4,  7.3,  8.2,  9.1, 10. ]),\n",
       " <BarContainer object of 10 artists>)"
      ]
     },
     "execution_count": 42,
     "metadata": {},
     "output_type": "execute_result"
    },
    {
     "data": {
      "image/png": "[encoded data removed]",
      "text/plain": [
       "<Figure size 640x480 with 1 Axes>"
      ]
     },
     "metadata": {},
     "output_type": "display_data"
    }
   ],
   "source": [
    "import numpy as np\n",
    "import matplotlib.pyplot as plt\n",
    "n,p=10,.5\n",
    "s=np.random.binomial(n,p,1000)\n",
    "plt.hist(s)"
   ]
  },
  {
   "cell_type": "code",
   "execution_count": 1,
   "id": "61eb46ff-30e6-4949-bd3a-164fd0d82c45",
   "metadata": {},
   "outputs": [
    {
     "name": "stderr",
     "output_type": "stream",
     "text": [
      "C:\\ProgramData\\anaconda3\\Lib\\site-packages\\seaborn\\_oldcore.py:1119: FutureWarning: use_inf_as_na option is deprecated and will be removed in a future version. Convert inf values to NaN before operating instead.\n",
      "  with pd.option_context('mode.use_inf_as_na', True):\n"
     ]
    },
    {
     "data": {
      "image/png": "[encoded data removed]",
      "text/plain": [
       "<Figure size 640x480 with 1 Axes>"
      ]
     },
     "metadata": {},
     "output_type": "display_data"
    },
    {
     "ename": "NameError",
     "evalue": "name 'ptl' is not defined",
     "output_type": "error",
     "traceback": [
      "\u001b[1;31m---------------------------------------------------------------------------\u001b[0m",
      "\u001b[1;31mNameError\u001b[0m                                 Traceback (most recent call last)",
      "Cell \u001b[1;32mIn[1], line 12\u001b[0m\n\u001b[0;32m     10\u001b[0m plt\u001b[38;5;241m.\u001b[39mshow()\n\u001b[0;32m     11\u001b[0m sm\u001b[38;5;241m.\u001b[39mqqplot(data,line\u001b[38;5;241m=\u001b[39m\u001b[38;5;124m'\u001b[39m\u001b[38;5;124m45\u001b[39m\u001b[38;5;124m'\u001b[39m)\n\u001b[1;32m---> 12\u001b[0m ptl\u001b[38;5;241m.\u001b[39mshow()\n\u001b[0;32m     13\u001b[0m shapiro(data)\n",
      "\u001b[1;31mNameError\u001b[0m: name 'ptl' is not defined"
     ]
    },
    {
     "data": {
      "image/png": "[encoded data removed]",
      "text/plain": [
       "<Figure size 640x480 with 1 Axes>"
      ]
     },
     "metadata": {},
     "output_type": "display_data"
    }
   ],
   "source": [
    "import numpy as np\n",
    "import seaborn as sns\n",
    "import matplotlib.pyplot as plt\n",
    "import statsmodels.api as sm\n",
    "data=np.random.randn(1000)\n",
    "sns.histplot(data,bins=30,kde=True,color='lightgreen',edgecolor='black')\n",
    "plt.xlabel(\"values\")\n",
    "plt.ylabel(\"Density\")\n",
    "plt.title('Customized Histogram with Density plot')\n",
    "plt.show()\n",
    "sm.qqplot(data,line='45')\n",
    "ptl.show()\n",
    "shapiro(data)"
   ]
  },
  {
   "cell_type": "code",
   "execution_count": 6,
   "id": "0789287d-d471-4269-945a-f9f13de9b773",
   "metadata": {},
   "outputs": [
    {
     "data": {
      "text/html": [
       "<div>\n",
       "<style scoped>\n",
       "    .dataframe tbody tr th:only-of-type {\n",
       "        vertical-align: middle;\n",
       "    }\n",
       "\n",
       "    .dataframe tbody tr th {\n",
       "        vertical-align: top;\n",
       "    }\n",
       "\n",
       "    .dataframe thead th {\n",
       "        text-align: right;\n",
       "    }\n",
       "</style>\n",
       "<table border=\"1\" class=\"dataframe\">\n",
       "  <thead>\n",
       "    <tr style=\"text-align: right;\">\n",
       "      <th></th>\n",
       "      <th>Test_result</th>\n",
       "      <th>Test_date</th>\n",
       "      <th>Sex</th>\n",
       "      <th>Age</th>\n",
       "      <th>Subcounty</th>\n",
       "      <th>Water</th>\n",
       "      <th>Sanitation</th>\n",
       "      <th>Income</th>\n",
       "      <th>Informal_settlement</th>\n",
       "      <th>Outcome</th>\n",
       "    </tr>\n",
       "  </thead>\n",
       "  <tbody>\n",
       "    <tr>\n",
       "      <th>0</th>\n",
       "      <td>0.0</td>\n",
       "      <td>12/05/2023</td>\n",
       "      <td>2.0</td>\n",
       "      <td>15.0</td>\n",
       "      <td>4.0</td>\n",
       "      <td>1.0</td>\n",
       "      <td>3.0</td>\n",
       "      <td>3.0</td>\n",
       "      <td>2.0</td>\n",
       "      <td>0.0</td>\n",
       "    </tr>\n",
       "    <tr>\n",
       "      <th>1</th>\n",
       "      <td>1.0</td>\n",
       "      <td>13/05/2023</td>\n",
       "      <td>2.0</td>\n",
       "      <td>6.0</td>\n",
       "      <td>2.0</td>\n",
       "      <td>3.0</td>\n",
       "      <td>3.0</td>\n",
       "      <td>1.0</td>\n",
       "      <td>1.0</td>\n",
       "      <td>0.0</td>\n",
       "    </tr>\n",
       "    <tr>\n",
       "      <th>2</th>\n",
       "      <td>0.0</td>\n",
       "      <td>14/05/2023</td>\n",
       "      <td>2.0</td>\n",
       "      <td>9.0</td>\n",
       "      <td>3.0</td>\n",
       "      <td>2.0</td>\n",
       "      <td>2.0</td>\n",
       "      <td>5.0</td>\n",
       "      <td>2.0</td>\n",
       "      <td>0.0</td>\n",
       "    </tr>\n",
       "    <tr>\n",
       "      <th>3</th>\n",
       "      <td>0.0</td>\n",
       "      <td>15/05/2023</td>\n",
       "      <td>2.0</td>\n",
       "      <td>10.0</td>\n",
       "      <td>1.0</td>\n",
       "      <td>4.0</td>\n",
       "      <td>4.0</td>\n",
       "      <td>5.0</td>\n",
       "      <td>2.0</td>\n",
       "      <td>0.0</td>\n",
       "    </tr>\n",
       "    <tr>\n",
       "      <th>4</th>\n",
       "      <td>0.0</td>\n",
       "      <td>16/05/2023</td>\n",
       "      <td>1.0</td>\n",
       "      <td>10.0</td>\n",
       "      <td>2.0</td>\n",
       "      <td>2.0</td>\n",
       "      <td>4.0</td>\n",
       "      <td>1.0</td>\n",
       "      <td>1.0</td>\n",
       "      <td>0.0</td>\n",
       "    </tr>\n",
       "  </tbody>\n",
       "</table>\n",
       "</div>"
      ],
      "text/plain": [
       "   Test_result   Test_date  Sex   Age  Subcounty  Water  Sanitation  Income  \\\n",
       "0          0.0  12/05/2023  2.0  15.0        4.0    1.0         3.0     3.0   \n",
       "1          1.0  13/05/2023  2.0   6.0        2.0    3.0         3.0     1.0   \n",
       "2          0.0  14/05/2023  2.0   9.0        3.0    2.0         2.0     5.0   \n",
       "3          0.0  15/05/2023  2.0  10.0        1.0    4.0         4.0     5.0   \n",
       "4          0.0  16/05/2023  1.0  10.0        2.0    2.0         4.0     1.0   \n",
       "\n",
       "   Informal_settlement  Outcome  \n",
       "0                  2.0      0.0  \n",
       "1                  1.0      0.0  \n",
       "2                  2.0      0.0  \n",
       "3                  2.0      0.0  \n",
       "4                  1.0      0.0  "
      ]
     },
     "execution_count": 6,
     "metadata": {},
     "output_type": "execute_result"
    }
   ],
   "source": [
    "import pandas as pd\n",
    "df=pd.read_csv(\"chloleraoutbreak.csv\")\n",
    "df.head()"
   ]
  },
  {
   "cell_type": "code",
   "execution_count": 5,
   "id": "ecd75409-73b8-4d1b-8393-a6a24eed4e00",
   "metadata": {},
   "outputs": [
    {
     "data": {
      "text/html": [
       "<div>\n",
       "<style scoped>\n",
       "    .dataframe tbody tr th:only-of-type {\n",
       "        vertical-align: middle;\n",
       "    }\n",
       "\n",
       "    .dataframe tbody tr th {\n",
       "        vertical-align: top;\n",
       "    }\n",
       "\n",
       "    .dataframe thead th {\n",
       "        text-align: right;\n",
       "    }\n",
       "</style>\n",
       "<table border=\"1\" class=\"dataframe\">\n",
       "  <thead>\n",
       "    <tr style=\"text-align: right;\">\n",
       "      <th></th>\n",
       "      <th>Test_result</th>\n",
       "      <th>Sex</th>\n",
       "      <th>Age</th>\n",
       "      <th>Subcounty</th>\n",
       "      <th>Water</th>\n",
       "      <th>Sanitation</th>\n",
       "      <th>Income</th>\n",
       "      <th>Informal_settlement</th>\n",
       "      <th>Outcome</th>\n",
       "    </tr>\n",
       "  </thead>\n",
       "  <tbody>\n",
       "    <tr>\n",
       "      <th>count</th>\n",
       "      <td>312.000000</td>\n",
       "      <td>312.000000</td>\n",
       "      <td>312.000000</td>\n",
       "      <td>312.000000</td>\n",
       "      <td>312.000000</td>\n",
       "      <td>312.000000</td>\n",
       "      <td>312.000000</td>\n",
       "      <td>312.000000</td>\n",
       "      <td>312.000000</td>\n",
       "    </tr>\n",
       "    <tr>\n",
       "      <th>mean</th>\n",
       "      <td>0.233974</td>\n",
       "      <td>1.573718</td>\n",
       "      <td>28.381410</td>\n",
       "      <td>2.791667</td>\n",
       "      <td>2.461538</td>\n",
       "      <td>2.503205</td>\n",
       "      <td>2.782051</td>\n",
       "      <td>1.878205</td>\n",
       "      <td>0.051282</td>\n",
       "    </tr>\n",
       "    <tr>\n",
       "      <th>std</th>\n",
       "      <td>0.424036</td>\n",
       "      <td>0.495330</td>\n",
       "      <td>20.484926</td>\n",
       "      <td>1.503969</td>\n",
       "      <td>1.075208</td>\n",
       "      <td>1.030089</td>\n",
       "      <td>1.431366</td>\n",
       "      <td>0.327574</td>\n",
       "      <td>0.220927</td>\n",
       "    </tr>\n",
       "    <tr>\n",
       "      <th>min</th>\n",
       "      <td>0.000000</td>\n",
       "      <td>1.000000</td>\n",
       "      <td>0.000000</td>\n",
       "      <td>1.000000</td>\n",
       "      <td>1.000000</td>\n",
       "      <td>1.000000</td>\n",
       "      <td>1.000000</td>\n",
       "      <td>1.000000</td>\n",
       "      <td>0.000000</td>\n",
       "    </tr>\n",
       "    <tr>\n",
       "      <th>25%</th>\n",
       "      <td>0.000000</td>\n",
       "      <td>1.000000</td>\n",
       "      <td>12.000000</td>\n",
       "      <td>1.000000</td>\n",
       "      <td>1.750000</td>\n",
       "      <td>2.000000</td>\n",
       "      <td>1.000000</td>\n",
       "      <td>2.000000</td>\n",
       "      <td>0.000000</td>\n",
       "    </tr>\n",
       "    <tr>\n",
       "      <th>50%</th>\n",
       "      <td>0.000000</td>\n",
       "      <td>2.000000</td>\n",
       "      <td>23.000000</td>\n",
       "      <td>3.000000</td>\n",
       "      <td>3.000000</td>\n",
       "      <td>3.000000</td>\n",
       "      <td>3.000000</td>\n",
       "      <td>2.000000</td>\n",
       "      <td>0.000000</td>\n",
       "    </tr>\n",
       "    <tr>\n",
       "      <th>75%</th>\n",
       "      <td>0.000000</td>\n",
       "      <td>2.000000</td>\n",
       "      <td>39.250000</td>\n",
       "      <td>4.000000</td>\n",
       "      <td>3.000000</td>\n",
       "      <td>3.000000</td>\n",
       "      <td>4.000000</td>\n",
       "      <td>2.000000</td>\n",
       "      <td>0.000000</td>\n",
       "    </tr>\n",
       "    <tr>\n",
       "      <th>max</th>\n",
       "      <td>1.000000</td>\n",
       "      <td>2.000000</td>\n",
       "      <td>89.000000</td>\n",
       "      <td>6.000000</td>\n",
       "      <td>4.000000</td>\n",
       "      <td>4.000000</td>\n",
       "      <td>5.000000</td>\n",
       "      <td>2.000000</td>\n",
       "      <td>1.000000</td>\n",
       "    </tr>\n",
       "  </tbody>\n",
       "</table>\n",
       "</div>"
      ],
      "text/plain": [
       "       Test_result         Sex         Age   Subcounty       Water  \\\n",
       "count   312.000000  312.000000  312.000000  312.000000  312.000000   \n",
       "mean      0.233974    1.573718   28.381410    2.791667    2.461538   \n",
       "std       0.424036    0.495330   20.484926    1.503969    1.075208   \n",
       "min       0.000000    1.000000    0.000000    1.000000    1.000000   \n",
       "25%       0.000000    1.000000   12.000000    1.000000    1.750000   \n",
       "50%       0.000000    2.000000   23.000000    3.000000    3.000000   \n",
       "75%       0.000000    2.000000   39.250000    4.000000    3.000000   \n",
       "max       1.000000    2.000000   89.000000    6.000000    4.000000   \n",
       "\n",
       "       Sanitation      Income  Informal_settlement     Outcome  \n",
       "count  312.000000  312.000000           312.000000  312.000000  \n",
       "mean     2.503205    2.782051             1.878205    0.051282  \n",
       "std      1.030089    1.431366             0.327574    0.220927  \n",
       "min      1.000000    1.000000             1.000000    0.000000  \n",
       "25%      2.000000    1.000000             2.000000    0.000000  \n",
       "50%      3.000000    3.000000             2.000000    0.000000  \n",
       "75%      3.000000    4.000000             2.000000    0.000000  \n",
       "max      4.000000    5.000000             2.000000    1.000000  "
      ]
     },
     "execution_count": 5,
     "metadata": {},
     "output_type": "execute_result"
    }
   ],
   "source": [
    "df.describe()"
   ]
  },
  {
   "cell_type": "code",
   "execution_count": 6,
   "id": "d12afbca-6ca0-4bd2-b0a9-f71dcefd30ad",
   "metadata": {},
   "outputs": [
    {
     "name": "stdout",
     "output_type": "stream",
     "text": [
      "<class 'pandas.core.frame.DataFrame'>\n",
      "RangeIndex: 999 entries, 0 to 998\n",
      "Data columns (total 10 columns):\n",
      " #   Column               Non-Null Count  Dtype  \n",
      "---  ------               --------------  -----  \n",
      " 0   Test_result          312 non-null    float64\n",
      " 1   Test_date            312 non-null    object \n",
      " 2   Sex                  312 non-null    float64\n",
      " 3   Age                  312 non-null    float64\n",
      " 4   Subcounty            312 non-null    float64\n",
      " 5   Water                312 non-null    float64\n",
      " 6   Sanitation           312 non-null    float64\n",
      " 7   Income               312 non-null    float64\n",
      " 8   Informal_settlement  312 non-null    float64\n",
      " 9   Outcome              312 non-null    float64\n",
      "dtypes: float64(9), object(1)\n",
      "memory usage: 78.2+ KB\n"
     ]
    }
   ],
   "source": [
    "df.info()"
   ]
  },
  {
   "cell_type": "code",
   "execution_count": 8,
   "id": "7a3e8df3-973e-45fc-b6eb-ac1dfbc7c7d3",
   "metadata": {},
   "outputs": [
    {
     "name": "stdout",
     "output_type": "stream",
     "text": [
      "sample: [230 338 328 417 307 132   6 432 435 135]\n"
     ]
    }
   ],
   "source": [
    "import numpy as np\n",
    "population=np.arange(1,501)\n",
    "sample_size=10\n",
    "np.random.seed(123)\n",
    "sample=np.random.choice(population,sample_size,replace=False)\n",
    "print(\"sample:\",sample)\n",
    "\n"
   ]
  },
  {
   "cell_type": "code",
   "execution_count": null,
   "id": "cab77ddf-6954-4a7e-b04e-2ecb3a4320b9",
   "metadata": {},
   "outputs": [],
   "source": [
    "import pandas as pd\n",
    "import numpy as np\n",
    "data={\n",
    "    'ID': range(1,101)"
   ]
  },
  {
   "cell_type": "code",
   "execution_count": 18,
   "id": "a1d30831-a3a1-4eb8-9beb-954400afc126",
   "metadata": {},
   "outputs": [
    {
     "name": "stdout",
     "output_type": "stream",
     "text": [
      "169.5\n",
      "sample_sd: 3.0276503540974917\n",
      "95% Confidence Interval:[167.62,171.38]\n"
     ]
    }
   ],
   "source": [
    "import numpy as np\n",
    "heights=[165,170,168,172,169,171,166,173,167,174]\n",
    "sample_mean=np.mean(heights)\n",
    "sample_sd=np.std(heights,ddof=1)\n",
    "n=len(heights)\n",
    "print(sample_mean)\n",
    "print(\"sample_sd:\",sample_sd)\n",
    "sem=sample_sd/ np.sqrt(n)\n",
    "confidence_interval=(sample_mean-1.96*sem,sample_mean+1.96*sem)\n",
    "print(f\"95% Confidence Interval:[{confidence_interval[0]:.2f},{confidence_interval[1]:.2f}]\")\n"
   ]
  },
  {
   "cell_type": "code",
   "execution_count": 21,
   "id": "f51f1120-69e9-47da-9590-a2fa9cb2f22a",
   "metadata": {},
   "outputs": [
    {
     "name": "stdout",
     "output_type": "stream",
     "text": [
      "95% Confidence Interval:[27.11,29.65]\n"
     ]
    }
   ],
   "source": [
    "import pandas as pd\n",
    "import numpy as np\n",
    "import scipy.stats as stats\n",
    "pd.read_csv(\"chloleraoutbreak.csv\")\n",
    "sample_mean=df['Age'].mean()\n",
    "sample_std=df['Age'].std()\n",
    "n= len(df['Age'])\n",
    "conf_level=0.95\n",
    "alpha=1-conf_level\n",
    "t_critical=stats.t.ppf(1-alpha/2,df=n-1)\n",
    "margin=t_critical*(sample_std/np.sqrt(n))\n",
    "confidence_interval=(sample_mean-margin,\n",
    "sample_mean+margin)\n",
    "print(f\"95% Confidence Interval:[{confidence_interval[0]:.2f},{confidence_interval[1]:.2f}]\")\n"
   ]
  },
  {
   "cell_type": "code",
   "execution_count": 22,
   "id": "6e2e9207-d4ac-4daa-b2e5-08e7f87a2196",
   "metadata": {},
   "outputs": [
    {
     "name": "stdout",
     "output_type": "stream",
     "text": [
      "95% Confidence Interval:[2.69,2.87]\n"
     ]
    }
   ],
   "source": [
    "import pandas as pd\n",
    "import numpy as np\n",
    "import scipy.stats as stats\n",
    "pd.read_csv(\"chloleraoutbreak.csv\")\n",
    "sample_mean=df['Income'].mean()\n",
    "sample_std=df['Income'].std()\n",
    "n= len(df['Income'])\n",
    "conf_level=0.95\n",
    "alpha=1-conf_level\n",
    "t_critical=stats.t.ppf(1-alpha/2,df=n-1)\n",
    "margin=t_critical*(sample_std/np.sqrt(n))\n",
    "confidence_interval=(sample_mean-margin,\n",
    "sample_mean+margin)\n",
    "print(f\"95% Confidence Interval:[{confidence_interval[0]:.2f},{confidence_interval[1]:.2f}]\")\n"
   ]
  },
  {
   "cell_type": "code",
   "execution_count": 1,
   "id": "6b9d78d4-d79e-4e5c-b17d-e5f1f07827ab",
   "metadata": {},
   "outputs": [
    {
     "name": "stdout",
     "output_type": "stream",
     "text": [
      "t-statistic: -0.7392604148446796\n",
      "p-value: 0.46273038396876176\n"
     ]
    }
   ],
   "source": [
    "from scipy.stats import ttest_ind\n",
    "import numpy as np\n",
    "mean_A=120\n",
    "std_A=10\n",
    "n_A=30\n",
    "mean_B=130\n",
    "std_B=12\n",
    "n_B=30\n",
    "np.random.seed(0)\n",
    "group_A=np.random.normal(mean_A, std_A, n_A)\n",
    "group_B=np.random.normal(mean_B, std_B, n_B)\n",
    "t_statistic,p_value=ttest_ind(group_A, group_B)\n",
    "print(\"t-statistic:\",t_statistic)\n",
    "print(\"p-value:\",p_value)"
   ]
  },
  {
   "cell_type": "code",
   "execution_count": null,
   "id": "1dd08f8c-8202-41bf-8c67-e02664569440",
   "metadata": {},
   "outputs": [],
   "source": [
    "import pandas as pd\n",
    "from scipy import stats\n",
    "from google.colab import files\n",
    "uploaded=files.upload()\n",
    "df=pd.read_csv(\"childhealthdata.csv\")\n",
    "group_A=df[df['Sex']=='Male']['weight']\n",
    "group_B=df[df['Sex']=='Female']['weight']\n",
    "t_statistic, p_value=stats.ttest_ind(group_A, group_B)\n",
    "print(f\"T-Statistic: {t_statistic},p-value:{p_value}\")"
   ]
  },
  {
   "cell_type": "code",
   "execution_count": 8,
   "id": "58d6bdb4-4ba5-4de9-bdda-cbcf5601dbc4",
   "metadata": {},
   "outputs": [
    {
     "name": "stdout",
     "output_type": "stream",
     "text": [
      "   Test_result   Test_date  Sex   Age  Subcounty  Water  Sanitation  Income  \\\n",
      "0          0.0  12/05/2023  2.0  15.0        4.0    1.0         3.0     3.0   \n",
      "1          1.0  13/05/2023  2.0   6.0        2.0    3.0         3.0     1.0   \n",
      "2          0.0  14/05/2023  2.0   9.0        3.0    2.0         2.0     5.0   \n",
      "3          0.0  15/05/2023  2.0  10.0        1.0    4.0         4.0     5.0   \n",
      "4          0.0  16/05/2023  1.0  10.0        2.0    2.0         4.0     1.0   \n",
      "\n",
      "   Informal_settlement  Outcome  \n",
      "0                  2.0      0.0  \n",
      "1                  1.0      0.0  \n",
      "2                  2.0      0.0  \n",
      "3                  2.0      0.0  \n",
      "4                  1.0      0.0  \n",
      "Outcome  0.0  1.0\n",
      "Water            \n",
      "1.0       74    4\n",
      "2.0       74    1\n",
      "3.0       87    9\n",
      "4.0       61    2\n",
      "Chi-Square Statistic:6.272907818532818\n",
      "p-value: 0.0990618100698824\n"
     ]
    }
   ],
   "source": [
    "import pandas as pd\n",
    "import scipy.stats as stats\n",
    "pd.read_csv(\"chloleraoutbreak.csv\")\n",
    "print(df.head())\n",
    "contingency_table=pd.crosstab(df['Water'],df['Outcome'])\n",
    "print(contingency_table)\n",
    "chi2,p, _, _=stats.chi2_contingency(contingency_table)\n",
    "print(f\"Chi-Square Statistic:{chi2}\")\n",
    "print(f\"p-value: {p}\")\n"
   ]
  },
  {
   "cell_type": "code",
   "execution_count": 9,
   "id": "1204627a-3da6-4a77-a540-764ce30487d7",
   "metadata": {},
   "outputs": [
    {
     "name": "stdout",
     "output_type": "stream",
     "text": [
      "Estimated weight for 66.8 cm height:7.87 kg\n",
      "Estimated weight for 115.3 cm height:18.43 kg\n",
      "Predicted weight for 92.5 cm height:13.47 kg\n",
      "Error estimate for actual weight 13.5 and height 92.5 cm:0.034 kg\n"
     ]
    }
   ],
   "source": [
    "def estimate_weight(height):\n",
    "    intercept = -6.671\n",
    "    slope =  0.2177\n",
    "    return intercept + slope * height\n",
    "weight_66_8=estimate_weight(66.8)\n",
    "weight_115_3=estimate_weight(115.3)\n",
    "actual_weight=13.5\n",
    "height_92_5=92.5\n",
    "predicted_weight_92_5 =  estimate_weight(height_92_5)\n",
    "error_estimate=actual_weight-predicted_weight_92_5\n",
    "print(f\"Estimated weight for 66.8 cm height:{weight_66_8:.2f} kg\")\n",
    "print(f\"Estimated weight for 115.3 cm height:{weight_115_3:.2f} kg\")\n",
    "print(f\"Predicted weight for 92.5 cm height:{predicted_weight_92_5:.2f} kg\")\n",
    "print(f\"Error estimate for actual weight 13.5 and height 92.5 cm:{error_estimate:.3f} kg\")\n"
   ]
  },
  {
   "cell_type": "code",
   "execution_count": 11,
   "id": "535cc2cb-3395-4105-9967-47b09b9955e8",
   "metadata": {},
   "outputs": [
    {
     "name": "stdout",
     "output_type": "stream",
     "text": [
      "Predicted weight for child 1 (70.4 cm,4 months):8.07 kg\n",
      "Actual weight for child 1:7.1 kg\n",
      "Error estamite for child 1:-0.97 kg\n",
      "/nEstimated weight for child 2 (105.6 , 55 months):13.70 kg\n",
      "Actual weight for child 2:15.7 kg\n",
      "Error estimate for child 2:2.00 kg\n"
     ]
    }
   ],
   "source": [
    "def estimate_weight(height, age):\n",
    "    intercept=3.4673\n",
    "    height_coeff =0.1608\n",
    "    age_coeff = 0.0536\n",
    "    return intercept + height_coeff * height + age_coeff * age\n",
    "estimated_weight_1 = estimate_weight(70.4,4)\n",
    "estimated_weight_2 = estimate_weight(105.4,4)\n",
    "actual_weight_1=7.1\n",
    "actual_weight_2=15.7\n",
    "error_estimate_1=actual_weight_1 - estimated_weight_1\n",
    "error_estimate_2=actual_weight_2 - estimated_weight_2\n",
    "print(f\"Predicted weight for child 1 (70.4 cm,4 months):{estimated_weight_1:.2f} kg\")\n",
    "print(f\"Actual weight for child 1:{actual_weight_1} kg\")\n",
    "print(f\"Error estamite for child 1:{error_estimate_1:.2f} kg\")\n",
    "print(f\"/nEstimated weight for child 2 (105.6 , 55 months):{estimated_weight_2:.2f} kg\")\n",
    "print(f\"Actual weight for child 2:{actual_weight_2} kg\")\n",
    "print(f\"Error estimate for child 2:{error_estimate_2:.2f} kg\")"
   ]
  },
  {
   "cell_type": "code",
   "execution_count": 13,
   "id": "61eba450-ff83-46b3-a4e0-25c0badff200",
   "metadata": {},
   "outputs": [
    {
     "name": "stdout",
     "output_type": "stream",
     "text": [
      "Probability of diarrhea for a child in a rural area:0.1015\n",
      "Predicted weight for child 1 (70.4 cm,4 months):15.00 kg\n",
      "Actual weight for child 1:7.1 kg\n",
      "Error estamite for child 1:-7.90 kg\n",
      "/nEstimated weight for child 2 (105.6 , 55 months):20.63 kg\n",
      "Actual weight for child 2:15.7 kg\n",
      "Error estimate for child 2:-4.93 kg\n"
     ]
    }
   ],
   "source": [
    "import numpy as np\n",
    "intercept=-2.1802\n",
    "coefficient_urban=0.3543\n",
    "urban=0\n",
    "log_odds_rural=intercept+coefficient_urban*urban\n",
    "probability_rural=1/(1+np.exp(-log_odds_rural))\n",
    "print(f\"Probability of diarrhea for a child in a rural area:{probability_rural:.4f}\")\n",
    "def estimate_weight(height, age):\n",
    "    intercept=3.4673\n",
    "    height_coeff =0.1608\n",
    "    age_coeff = 0.0536\n",
    "    return intercept + height_coeff * height + age_coeff * age\n",
    "estimated_weight_1 = estimate_weight(70.4,4)\n",
    "estimated_weight_2 = estimate_weight(105.4,4)\n",
    "actual_weight_1=7.1\n",
    "actual_weight_2=15.7\n",
    "error_estimate_1=actual_weight_1 - estimated_weight_1\n",
    "error_estimate_2=actual_weight_2 - estimated_weight_2\n",
    "print(f\"Predicted weight for child 1 (70.4 cm,4 months):{estimated_weight_1:.2f} kg\")\n",
    "print(f\"Actual weight for child 1:{actual_weight_1} kg\")\n",
    "print(f\"Error estamite for child 1:{error_estimate_1:.2f} kg\")\n",
    "print(f\"/nEstimated weight for child 2 (105.6 , 55 months):{estimated_weight_2:.2f} kg\")\n",
    "print(f\"Actual weight for child 2:{actual_weight_2} kg\")\n",
    "print(f\"Error estimate for child 2:{error_estimate_2:.2f} kg\")"
   ]
  },
  {
   "cell_type": "code",
   "execution_count": null,
   "id": "f18114e7-0cc9-4069-b53d-c0d9b305f6fd",
   "metadata": {},
   "outputs": [],
   "source": []
  }
 ],
 "metadata": {
  "kernelspec": {
   "display_name": "Python 3 (ipykernel)",
   "language": "python",
   "name": "python3"
  },
  "language_info": {
   "codemirror_mode": {
    "name": "ipython",
    "version": 3
   },
   "file_extension": ".py",
   "mimetype": "text/x-python",
   "name": "python",
   "nbconvert_exporter": "python",
   "pygments_lexer": "ipython3",
   "version": "3.11.7"
  }
 },
 "nbformat": 4,
 "nbformat_minor": 5
}
